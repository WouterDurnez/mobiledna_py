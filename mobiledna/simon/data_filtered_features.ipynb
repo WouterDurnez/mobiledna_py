{
 "cells": [
  {
   "cell_type": "markdown",
   "metadata": {
    "collapsed": true,
    "pycharm": {
     "name": "#%% md\n"
    }
   },
   "source": [
    "# mBrain: Feature calculation & regression models\n",
    "\n",
    "This notebook contains the calculation of different features of mobile usage for stress level prediction.\n",
    "These features possibly partly explain the stress level (1-10) of a person. These features are found in literature.\n",
    "\n",
    "In the first part of the notebook, the data files are loaded and some information is displayed. The measured stress levels\n",
    "are linked afterwards to the person's mobile usage via the 'panelkit-id'.\n",
    "\n",
    "Then, the features are calculated and put together in one dataframe. Then there is looked at the correlations\n",
    "of the features with the target variable.\n",
    "\n",
    "At the end, some regression models are fitted and compared to the performance of a dummy model. These regression\n",
    "models could possibly predict the stress level of a person based on their mobile usage.\n",
    "#"
   ]
  },
  {
   "cell_type": "markdown",
   "source": [
    "Importing the necessary libraries and classes:"
   ],
   "metadata": {
    "collapsed": false,
    "pycharm": {
     "name": "#%% md\n"
    }
   },
   "outputs": [
    {
     "ename": "SyntaxError",
     "evalue": "invalid syntax (3493040007.py, line 1)",
     "output_type": "error",
     "traceback": [
      "\u001B[0;36m  File \u001B[0;32m\"/var/folders/r1/mgm0ws211kg73r04pnxb4mjw0000gn/T/ipykernel_17523/3493040007.py\"\u001B[0;36m, line \u001B[0;32m1\u001B[0m\n\u001B[0;31m    Importing the necessary libraries and classes:\u001B[0m\n\u001B[0m              ^\u001B[0m\n\u001B[0;31mSyntaxError\u001B[0m\u001B[0;31m:\u001B[0m invalid syntax\n"
     ]
    }
   ],
   "execution_count": 1
  },
  {
   "cell_type": "code",
   "source": [
    "from mobiledna.core.appevents import Appevents\n",
    "\n",
    "import pandas as pd"
   ],
   "metadata": {
    "collapsed": false,
    "pycharm": {
     "name": "#%%\n"
    }
   },
   "execution_count": 2,
   "outputs": []
  },
  {
   "cell_type": "markdown",
   "source": [
    "## 1. Open the needed files"
   ],
   "metadata": {
    "collapsed": false,
    "pycharm": {
     "name": "#%% md\n"
    }
   }
  },
  {
   "cell_type": "code",
   "execution_count": 3,
   "outputs": [
    {
     "name": "stdout",
     "output_type": "stream",
     "text": [
      "2021-10-28 11:41:58 - Recognized file type as <parquet>.\n",
      "2021-10-28 11:41:58 - 'load' took 0.203 seconds to complete.\n",
      "2021-10-28 11:41:58 - Recognized file type as <parquet>.\n",
      "2021-10-28 11:41:59 - 'load' took 0.421 seconds to complete.\n"
     ]
    },
    {
     "name": "stderr",
     "output_type": "stream",
     "text": [
      "Adding category: 100%|██████████| 407970/407970 [00:00<00:00, 1518932.35it/s]\n",
      "Adding tod <startTime>: 100%|██████████| 407970/407970 [00:00<00:00, 1999236.13it/s]\n",
      "Adding category: 100%|██████████| 1489208/1489208 [00:00<00:00, 1633635.62it/s]\n",
      "Adding tod <startTime>: 100%|██████████| 1489208/1489208 [00:00<00:00, 2208527.67it/s]\n"
     ]
    },
    {
     "name": "stdout",
     "output_type": "stream",
     "text": [
      "                                           id    model     session  \\\n",
      "1320339  001b6dc4-9c95-4c7c-a21a-56b5deca6689  ELE-L29  1622720128   \n",
      "1320340  001b6dc4-9c95-4c7c-a21a-56b5deca6689  ELE-L29  1622720128   \n",
      "1320293  001b6dc4-9c95-4c7c-a21a-56b5deca6689  ELE-L29  1622720167   \n",
      "1320310  001b6dc4-9c95-4c7c-a21a-56b5deca6689  ELE-L29  1622720167   \n",
      "1320294  001b6dc4-9c95-4c7c-a21a-56b5deca6689  ELE-L29  1622720167   \n",
      "\n",
      "                      startTime                 endTime  notification  \\\n",
      "1320339 2021-06-03 13:35:58.071 2021-06-03 13:36:02.945         False   \n",
      "1320340 2021-06-03 13:36:05.643 2021-06-03 13:36:22.971         False   \n",
      "1320293 2021-06-03 13:36:25.026 2021-06-03 13:36:28.287         False   \n",
      "1320310 2021-06-03 13:36:30.215 2021-06-03 13:36:31.701         False   \n",
      "1320294 2021-06-03 13:36:38.057 2021-06-03 13:36:38.927         False   \n",
      "\n",
      "         notificationId                        application  battery  \\\n",
      "1320339               0        com.huawei.android.launcher       63   \n",
      "1320340               0  com.google.android.apps.messaging       63   \n",
      "1320293               0                com.facebook.katana       63   \n",
      "1320310               0        com.huawei.android.launcher       63   \n",
      "1320294               0        com.huawei.android.launcher       63   \n",
      "\n",
      "          latitude  ...   studyKey        surveyId data_version  \\\n",
      "1320339  51.057247  ...  nervocity  03062021lepato        1.6.1   \n",
      "1320340  51.057247  ...  nervocity  03062021lepato        1.6.1   \n",
      "1320293  51.057247  ...  nervocity  03062021lepato        1.6.1   \n",
      "1320310  51.057247  ...  nervocity  03062021lepato        1.6.1   \n",
      "1320294  51.057247  ...  nervocity  03062021lepato        1.6.1   \n",
      "\n",
      "                                  panelkit_id  startDate    endDate duration  \\\n",
      "1320339  d7c31c50-4476-11eb-9dd4-cb04303e036e 2021-06-03 2021-06-03    4.874   \n",
      "1320340  d7c31c50-4476-11eb-9dd4-cb04303e036e 2021-06-03 2021-06-03   17.328   \n",
      "1320293  d7c31c50-4476-11eb-9dd4-cb04303e036e 2021-06-03 2021-06-03    3.261   \n",
      "1320310  d7c31c50-4476-11eb-9dd4-cb04303e036e 2021-06-03 2021-06-03    1.486   \n",
      "1320294  d7c31c50-4476-11eb-9dd4-cb04303e036e 2021-06-03 2021-06-03    0.870   \n",
      "\n",
      "         category startTOD        day  \n",
      "1320339   unknown     noon 2021-06-03  \n",
      "1320340      chat     noon 2021-06-03  \n",
      "1320293    social     noon 2021-06-03  \n",
      "1320310   unknown     noon 2021-06-03  \n",
      "1320294   unknown     noon 2021-06-03  \n",
      "\n",
      "[5 rows x 21 columns]\n"
     ]
    }
   ],
   "source": [
    "# file with the mapping of the mobileDNA-id and the panelkit-id\n",
    "df_mapping = pd.read_csv(\"../data/data_nervosity/mobdna_mapping_w2w3.csv\", sep=';')\n",
    "df_mapping = df_mapping[['panelkit_id', 'mobdna_id','wave','campagne']].rename(columns={'mobdna_id': 'id'})\n",
    "\n",
    "# files needed for the feature calculation\n",
    "ae_w2 = Appevents.load_data(\"../data/data_nervosity/wave_2/210310_nervocity_appevents_panelkitid.parquet\")\n",
    "ae_w3 = Appevents.load_data(\"../data/data_nervosity/wave_3_2/210803_nervocity_appevents.parquet\")\n",
    "\n",
    "ae_w2.add_category(scrape=False).add_time_of_day()\n",
    "ae_w3.add_category(scrape=False).add_time_of_day()\n",
    "\n",
    "# add a column with the day for each appEvent\n",
    "ae_w2.__data__['day'] = ae_w2.__data__['startTime'].dt.date\n",
    "ae_w3.__data__['day'] = ae_w3.__data__['startTime'].dt.date\n",
    "\n",
    "ae_w2.__data__ = ae_w2.__data__.rename(columns={'panelkitid': 'panelkit_id'})\n",
    "df_ae_all_waves = pd.concat([ae_w2.__data__, ae_w3.__data__])\n",
    "ae_all_waves = Appevents(df_ae_all_waves, add_categories=False, strip=False)\n",
    "\n",
    "ae_all_waves.__data__['day'] = pd.to_datetime(ae_all_waves.__data__['day'])\n",
    "print(ae_all_waves.__data__.head())"
   ],
   "metadata": {
    "collapsed": false,
    "pycharm": {
     "name": "#%%\n"
    }
   }
  },
  {
   "cell_type": "markdown",
   "source": [
    "Filter appevents on their dates:"
   ],
   "metadata": {
    "collapsed": false,
    "pycharm": {
     "name": "#%% md\n"
    }
   }
  },
  {
   "cell_type": "code",
   "execution_count": 4,
   "outputs": [
    {
     "name": "stdout",
     "output_type": "stream",
     "text": [
      "        date studyday  wave  campagne        day weekdeel\n",
      "0 2021-02-22     day1     2         1    Maandag  Weekdag\n",
      "1 2021-02-23     day2     2         1    Dinsdag  Weekdag\n",
      "2 2021-02-24     day3     2         1   Woensdag  Weekdag\n",
      "3 2021-02-25     day4     2         1  Donderdag  Weekdag\n",
      "4 2021-02-26     day5     2         1    Vrijdag  Weekdag\n"
     ]
    }
   ],
   "source": [
    "# date ranges to filter on\n",
    "df_dates = pd.read_csv(\"/Users/simonperneel/Documents/Imec-mict/mobiledna_py/mobiledna/data/data_nervosity/dates_nervo_allwaves.csv\", sep=';')\n",
    "df_dates['date'] = pd.to_datetime(df_dates['date'])\n",
    "\n",
    "print(df_dates.head())\n"
   ],
   "metadata": {
    "collapsed": false,
    "pycharm": {
     "name": "#%%\n"
    }
   }
  },
  {
   "cell_type": "code",
   "execution_count": 5,
   "outputs": [
    {
     "name": "stderr",
     "output_type": "stream",
     "text": [
      "/opt/homebrew/Caskroom/miniforge/base/envs/nervocity/lib/python3.8/site-packages/pandas/core/generic.py:5516: SettingWithCopyWarning: \n",
      "A value is trying to be set on a copy of a slice from a DataFrame.\n",
      "Try using .loc[row_indexer,col_indexer] = value instead\n",
      "\n",
      "See the caveats in the documentation: https://pandas.pydata.org/pandas-docs/stable/user_guide/indexing.html#returning-a-view-versus-a-copy\n",
      "  self[name] = value\n",
      "/opt/homebrew/Caskroom/miniforge/base/envs/nervocity/lib/python3.8/site-packages/pandas/util/_decorators.py:311: SettingWithCopyWarning: \n",
      "A value is trying to be set on a copy of a slice from a DataFrame\n",
      "\n",
      "See the caveats in the documentation: https://pandas.pydata.org/pandas-docs/stable/user_guide/indexing.html#returning-a-view-versus-a-copy\n",
      "  return func(*args, **kwargs)\n",
      "/Users/simonperneel/Documents/Imec-mict/mobiledna_py/mobiledna/core/help.py:572: SettingWithCopyWarning: \n",
      "A value is trying to be set on a copy of a slice from a DataFrame.\n",
      "Try using .loc[row_indexer,col_indexer] = value instead\n",
      "\n",
      "See the caveats in the documentation: https://pandas.pydata.org/pandas-docs/stable/user_guide/indexing.html#returning-a-view-versus-a-copy\n",
      "  df['startDate'] = pd.to_datetime(df.startTime.dt.date)\n"
     ]
    },
    {
     "name": "stdout",
     "output_type": "stream",
     "text": [
      "Modified appEvents data file: \n",
      "                                          id     model     session  \\\n",
      "911903  0079ff14-3579-4e27-b1e5-a838bc23b295  SM-A715F  1619517678   \n",
      "914811  0079ff14-3579-4e27-b1e5-a838bc23b295  SM-A715F  1619517678   \n",
      "920379  0079ff14-3579-4e27-b1e5-a838bc23b295  SM-A715F  1619517678   \n",
      "914812  0079ff14-3579-4e27-b1e5-a838bc23b295  SM-A715F  1619517678   \n",
      "910207  0079ff14-3579-4e27-b1e5-a838bc23b295  SM-A715F  1619517678   \n",
      "\n",
      "                     startTime                 endTime  notification  \\\n",
      "911903 2021-04-27 12:01:48.892 2021-04-27 12:02:12.592         False   \n",
      "914811 2021-04-27 12:02:14.034 2021-04-27 12:02:18.299         False   \n",
      "920379 2021-04-27 12:02:18.362 2021-04-27 12:02:20.293         False   \n",
      "914812 2021-04-27 12:02:22.061 2021-04-27 12:02:49.931         False   \n",
      "910207 2021-04-27 12:02:51.686 2021-04-27 12:02:53.050         False   \n",
      "\n",
      "        notificationId          application  battery  latitude  ...  \\\n",
      "911903               0  be.imec.apt.stressy       98       0.0  ...   \n",
      "914811               0   be.ugent.mobiledna       98       0.0  ...   \n",
      "920379               0   com.android.chrome       98       0.0  ...   \n",
      "914812               0  be.imec.apt.stressy       98       0.0  ...   \n",
      "910207               0   be.ugent.mobiledna       98       0.0  ...   \n",
      "\n",
      "         studyKey        surveyId data_version  \\\n",
      "911903  nervocity  17111957jeheje        1.6.1   \n",
      "914811  nervocity  17111957jeheje        1.6.1   \n",
      "920379  nervocity  17111957jeheje        1.6.1   \n",
      "914812  nervocity  17111957jeheje        1.6.1   \n",
      "910207  nervocity  17111957jeheje        1.6.1   \n",
      "\n",
      "                                 panelkit_id  startDate    endDate duration  \\\n",
      "911903  47600141-8711-11eb-9dd4-cb04303e036e 2021-04-27 2021-04-27   23.700   \n",
      "914811  47600141-8711-11eb-9dd4-cb04303e036e 2021-04-27 2021-04-27    4.265   \n",
      "920379  47600141-8711-11eb-9dd4-cb04303e036e 2021-04-27 2021-04-27    1.931   \n",
      "914812  47600141-8711-11eb-9dd4-cb04303e036e 2021-04-27 2021-04-27   27.870   \n",
      "910207  47600141-8711-11eb-9dd4-cb04303e036e 2021-04-27 2021-04-27    1.364   \n",
      "\n",
      "        category startTOD        day  \n",
      "911903   unknown  morning 2021-04-27  \n",
      "914811     tools  morning 2021-04-27  \n",
      "920379   browser  morning 2021-04-27  \n",
      "914812   unknown  morning 2021-04-27  \n",
      "910207     tools  morning 2021-04-27  \n",
      "\n",
      "[5 rows x 21 columns]\n"
     ]
    },
    {
     "name": "stderr",
     "output_type": "stream",
     "text": [
      "/Users/simonperneel/Documents/Imec-mict/mobiledna_py/mobiledna/core/help.py:573: SettingWithCopyWarning: \n",
      "A value is trying to be set on a copy of a slice from a DataFrame.\n",
      "Try using .loc[row_indexer,col_indexer] = value instead\n",
      "\n",
      "See the caveats in the documentation: https://pandas.pydata.org/pandas-docs/stable/user_guide/indexing.html#returning-a-view-versus-a-copy\n",
      "  df['endDate'] = pd.to_datetime(df.endTime.dt.date)\n",
      "/Users/simonperneel/Documents/Imec-mict/mobiledna_py/mobiledna/core/help.py:540: SettingWithCopyWarning: \n",
      "A value is trying to be set on a copy of a slice from a DataFrame.\n",
      "Try using .loc[row_indexer,col_indexer] = value instead\n",
      "\n",
      "See the caveats in the documentation: https://pandas.pydata.org/pandas-docs/stable/user_guide/indexing.html#returning-a-view-versus-a-copy\n",
      "  df['duration'] = (df['endTime'] - df['startTime']).dt.total_seconds()\n"
     ]
    }
   ],
   "source": [
    "ae_all_waves_filtered = ae_all_waves.__data__[ae_all_waves.__data__['day'].isin(df_dates['date'])]\n",
    "ae_all_waves = Appevents(ae_all_waves_filtered, add_categories=False, strip=False)\n",
    "print('Modified appEvents data file: ')\n",
    "print(ae_all_waves_filtered.head())"
   ],
   "metadata": {
    "collapsed": false,
    "pycharm": {
     "name": "#%%\n"
    }
   }
  },
  {
   "cell_type": "markdown",
   "source": [
    "## 3. Feature calculation\n",
    "All features from literature are listed [here](./Constructlijst_features.xlsx).\n",
    "### Stress Features\n",
    "#### General screen time"
   ],
   "metadata": {
    "collapsed": false,
    "pycharm": {
     "name": "#%% md\n"
    }
   }
  },
  {
   "cell_type": "code",
   "execution_count": 6,
   "outputs": [
    {
     "name": "stdout",
     "output_type": "stream",
     "text": [
      "id                                    day       \n",
      "0079ff14-3579-4e27-b1e5-a838bc23b295  2021-04-27     54.487650\n",
      "                                      2021-04-28    134.824350\n",
      "                                      2021-04-29    138.101383\n",
      "                                      2021-04-30    172.808150\n",
      "                                      2021-05-01    121.137983\n",
      "Name: daily_durations, dtype: float64\n"
     ]
    }
   ],
   "source": [
    "general_screen_time = (ae_all_waves.get_daily_duration(series_unit='day') / 60)\n",
    "print(general_screen_time.head())"
   ],
   "metadata": {
    "collapsed": false,
    "pycharm": {
     "name": "#%%\n"
    }
   }
  },
  {
   "cell_type": "markdown",
   "source": [
    "#### Smartphone use frequency"
   ],
   "metadata": {
    "collapsed": false,
    "pycharm": {
     "name": "#%% md\n"
    }
   }
  },
  {
   "cell_type": "code",
   "execution_count": 7,
   "outputs": [
    {
     "name": "stdout",
     "output_type": "stream",
     "text": [
      "id                                    day       \n",
      "0079ff14-3579-4e27-b1e5-a838bc23b295  2021-04-27     88.0\n",
      "                                      2021-04-28    165.0\n",
      "                                      2021-04-29    165.0\n",
      "                                      2021-04-30    150.0\n",
      "                                      2021-05-01    160.0\n",
      "Name: daily_events, dtype: float64\n"
     ]
    }
   ],
   "source": [
    "smartphone_use_freq = ae_all_waves.get_daily_events(series_unit=('day'))\n",
    "print(smartphone_use_freq.head())\n"
   ],
   "metadata": {
    "collapsed": false,
    "pycharm": {
     "name": "#%%\n"
    }
   }
  },
  {
   "cell_type": "markdown",
   "source": [
    "#### Duration MIM applications"
   ],
   "metadata": {
    "collapsed": false,
    "pycharm": {
     "name": "#%% md\n"
    }
   }
  },
  {
   "cell_type": "code",
   "source": [
    "duration_MIM_applications = (ae_all_waves.get_daily_duration(category='chat', series_unit='day') / 60)\n",
    "print(duration_MIM_applications.head())"
   ],
   "metadata": {
    "collapsed": false,
    "pycharm": {
     "name": "#%%\n"
    }
   },
   "execution_count": 8,
   "outputs": [
    {
     "name": "stdout",
     "output_type": "stream",
     "text": [
      "id                                    day       \n",
      "0079ff14-3579-4e27-b1e5-a838bc23b295  2021-04-28    13.189567\n",
      "                                      2021-04-29    23.161533\n",
      "                                      2021-04-30    13.919633\n",
      "                                      2021-05-01    29.551150\n",
      "                                      2021-05-02     8.238317\n",
      "Name: daily_durations_chat, dtype: float64\n"
     ]
    }
   ]
  },
  {
   "cell_type": "markdown",
   "source": [
    "#### Frequency MIM applications"
   ],
   "metadata": {
    "collapsed": false
   }
  },
  {
   "cell_type": "code",
   "execution_count": 9,
   "outputs": [
    {
     "name": "stdout",
     "output_type": "stream",
     "text": [
      "id                                    day       \n",
      "0079ff14-3579-4e27-b1e5-a838bc23b295  2021-04-28    12.0\n",
      "                                      2021-04-29    22.0\n",
      "                                      2021-04-30    22.0\n",
      "                                      2021-05-01    35.0\n",
      "                                      2021-05-02    15.0\n",
      "Name: daily_events_chat, dtype: float64\n"
     ]
    }
   ],
   "source": [
    "freq_MIM_applications = ae_all_waves.get_daily_events(category='chat', series_unit='day')\n",
    "print(freq_MIM_applications.head())"
   ],
   "metadata": {
    "collapsed": false,
    "pycharm": {
     "name": "#%%\n"
    }
   }
  },
  {
   "cell_type": "markdown",
   "source": [
    "#### (Average) daily use of MIM applications during work hours"
   ],
   "metadata": {
    "collapsed": false
   }
  },
  {
   "cell_type": "code",
   "execution_count": 10,
   "outputs": [
    {
     "name": "stdout",
     "output_type": "stream",
     "text": [
      "id                                    day       \n",
      "0079ff14-3579-4e27-b1e5-a838bc23b295  2021-04-28     7.222383\n",
      "                                      2021-04-29     9.728833\n",
      "                                      2021-04-30     5.574017\n",
      "                                      2021-05-01    15.555833\n",
      "                                      2021-05-02     4.564967\n",
      "Name: daily_durations_chat_['morning', 'noon'], dtype: float64\n",
      "id\n",
      "0079ff14-3579-4e27-b1e5-a838bc23b295     6.244199\n",
      "01617409-e832-4bd9-b139-30189de7e827     5.028610\n",
      "028f0ac3-1720-487e-b5eb-3ee02d0edfe7    11.704453\n",
      "037e80a0-ad12-4707-adf2-a77351a4456c     3.222398\n",
      "03c0f04d-6eb5-4dc5-bcfd-5642a6240681     8.393506\n",
      "Name: daily_durations_chat_['morning', 'noon'], dtype: float64\n"
     ]
    }
   ],
   "source": [
    "# TODO change morning & noon to work hours (8-16 => 9-17)\n",
    "daily_use_work_hours = (ae_all_waves.get_daily_duration(time_of_day=['morning', 'noon'], category='chat', series_unit='day') / 60)\n",
    "print(daily_use_work_hours.head())\n",
    "\n",
    "avg_daily_use_work_hours = (ae_all_waves.get_daily_duration(time_of_day=['morning', 'noon'], category='chat') / 60)\n",
    "print(avg_daily_use_work_hours.head())"
   ],
   "metadata": {
    "collapsed": false,
    "pycharm": {
     "name": "#%%\n"
    }
   }
  },
  {
   "cell_type": "markdown",
   "source": [
    "#### (Average) amount of social media notifications\n",
    "First map some diversified social categories in one 'Social' category:"
   ],
   "metadata": {
    "collapsed": false
   }
  },
  {
   "cell_type": "code",
   "execution_count": 11,
   "outputs": [],
   "source": [
    "unknown_categories = {\"banking\": [\"com.coinbase.pro\", \"com.kraken.trade\", \"com.kraken.invest.app\"],\"medical\": [\"be.imec.apt.stressy\",\"be.imec.apt.ichange.chillplusclient\",\"be.ilabt.contextaware.empatica\",\"be.ilabt.contextaware.mbrain\",\"be.sciensano.coronalert\",\"com.j_ware.polarsensorlogger\",\"com.urbandroid.sleep\",\"heartzones.com.heartzonestraining\",\"com.empatica.e4realtime\",],\"calling\": [\"com.oneplus.dialer\"],\"calendar\": [\"com.komorebi.SimpleCalendar\"],\"productivity\": [\"partl.workinghours\"],}\n",
    "\n",
    "category_map = {\"medical\": \"Health\",\"chat\": \"Social\",\"email\": \"Productivity\",\"system\": \"none\", \"unknown\": \"none\",\n",
    "                \"social\": \"Social\",\"tools\": \"Productivity\",\"browser\": \"Web\",\"productivity\": \"Productivity\",\n",
    "                \"photography\": \"none\",\"business\": \"Productivity\",\"music&audio\": \"Entertainment\",\"clock\": \"none\",\n",
    "                \"banking\": \"Finance\",\"lifestyle\": \"none\",\"health&fitness\": \"Health\",\"news&magazines\": \"News\",\n",
    "                \"gaming\": \"Entertainment\",\"calling\": \"Calling\",\"calendar\": \"Productivity\",\"video\": \"Entertainment\",\n",
    "                \"maps&navigation\": \"Navigation\",\"food & drink\": \"none\",\"finance\": \"Finance\",\"communication\": \"Social\",\n",
    "                \"ecommerce\": \"Shopping\",\"retail\": \"Shopping\",\"weather\": \"none\",\"sports\": \"none\",\"smartconnectivity\": \"none\",\n",
    "                \"card\": \"Entertainment\",\"travel & local\": \"none\",\"education\": \"Productivity\",\"entertainment\": \"Entertainment\",\n",
    "                \"music & audio\": \"Entertainment\",\"books & reference\": \"none\",\"shopping\": \"Shopping\",\"mobility\": \"Navigation\",\n",
    "                \"news & magazines\": \"News\",\"puzzle\": \"Entertainment\",}\n"
   ],
   "metadata": {
    "collapsed": false,
    "pycharm": {
     "name": "#%%\n"
    }
   }
  },
  {
   "cell_type": "markdown",
   "source": [
    "#### (Average) daily use of social media applications\n",
    "First map some diversified social categories in one 'Social' category:"
   ],
   "metadata": {
    "collapsed": false
   }
  },
  {
   "cell_type": "code",
   "execution_count": 12,
   "outputs": [
    {
     "name": "stderr",
     "output_type": "stream",
     "text": [
      "/var/folders/r1/mgm0ws211kg73r04pnxb4mjw0000gn/T/ipykernel_5339/1344369456.py:2: SettingWithCopyWarning: \n",
      "A value is trying to be set on a copy of a slice from a DataFrame.\n",
      "Try using .loc[row_indexer,col_indexer] = value instead\n",
      "\n",
      "See the caveats in the documentation: https://pandas.pydata.org/pandas-docs/stable/user_guide/indexing.html#returning-a-view-versus-a-copy\n",
      "  ae_all_waves.__data__['category'] = ae_all_waves.__data__['category'].apply(lambda x: category_map.get(x,x))\n"
     ]
    }
   ],
   "source": [
    "i = ae_all_waves.__data__['category'].nunique()\n",
    "ae_all_waves.__data__['category'] = ae_all_waves.__data__['category'].apply(lambda x: category_map.get(x,x))\n",
    "j = ae_all_waves.__data__['category'].nunique()"
   ],
   "metadata": {
    "collapsed": false,
    "pycharm": {
     "name": "#%%\n"
    }
   }
  },
  {
   "cell_type": "code",
   "execution_count": 13,
   "outputs": [
    {
     "name": "stdout",
     "output_type": "stream",
     "text": [
      "id                                    day       \n",
      "0079ff14-3579-4e27-b1e5-a838bc23b295  2021-04-27     3.530633\n",
      "                                      2021-04-28    13.709833\n",
      "                                      2021-04-29    23.256950\n",
      "                                      2021-04-30    15.288750\n",
      "                                      2021-05-01    30.889183\n",
      "Name: daily_durations_social, dtype: float64\n",
      "id\n",
      "0079ff14-3579-4e27-b1e5-a838bc23b295    12.989656\n",
      "01617409-e832-4bd9-b139-30189de7e827    37.857345\n",
      "028f0ac3-1720-487e-b5eb-3ee02d0edfe7    60.493867\n",
      "037e80a0-ad12-4707-adf2-a77351a4456c     7.600031\n",
      "03c0f04d-6eb5-4dc5-bcfd-5642a6240681    24.054024\n",
      "Name: daily_durations_social, dtype: float64\n"
     ]
    }
   ],
   "source": [
    "daily_social_applications = (ae_all_waves.get_daily_duration(category='Social', series_unit='day') / 60)\n",
    "print(daily_social_applications.head())\n",
    "\n",
    "avg_daily_social_applications = (ae_all_waves.get_daily_duration(category='Social') / 60)\n",
    "print(avg_daily_social_applications.head())"
   ],
   "metadata": {
    "collapsed": false,
    "pycharm": {
     "name": "#%%\n"
    }
   }
  },
  {
   "cell_type": "markdown",
   "source": [
    "#### (Average) daily amount of social media app events"
   ],
   "metadata": {
    "collapsed": false,
    "pycharm": {
     "name": "#%% md\n"
    }
   }
  },
  {
   "cell_type": "code",
   "execution_count": 14,
   "outputs": [
    {
     "name": "stdout",
     "output_type": "stream",
     "text": [
      "id                                    day       \n",
      "0079ff14-3579-4e27-b1e5-a838bc23b295  2021-04-27     1.0\n",
      "                                      2021-04-28    13.0\n",
      "                                      2021-04-29    23.0\n",
      "                                      2021-04-30    26.0\n",
      "                                      2021-05-01    39.0\n",
      "Name: daily_events_social, dtype: float64\n",
      "id\n",
      "0079ff14-3579-4e27-b1e5-a838bc23b295    18.666667\n",
      "01617409-e832-4bd9-b139-30189de7e827    28.000000\n",
      "028f0ac3-1720-487e-b5eb-3ee02d0edfe7    41.040000\n",
      "037e80a0-ad12-4707-adf2-a77351a4456c    20.666667\n",
      "03c0f04d-6eb5-4dc5-bcfd-5642a6240681    42.333333\n",
      "Name: daily_events_social, dtype: float64\n"
     ]
    }
   ],
   "source": [
    "freq_social_applications = ae_all_waves.get_daily_events(category='Social', series_unit='day')\n",
    "print(freq_social_applications.head())\n",
    "\n",
    "avg_freq_social_applications = ae_all_waves.get_daily_events(category='Social')\n",
    "print(avg_freq_social_applications.head())"
   ],
   "metadata": {
    "collapsed": false,
    "pycharm": {
     "name": "#%%\n"
    }
   }
  },
  {
   "cell_type": "markdown",
   "source": [
    "#### (Average) daily use during evening time"
   ],
   "metadata": {
    "collapsed": false,
    "pycharm": {
     "name": "#%% md\n"
    }
   }
  },
  {
   "cell_type": "code",
   "execution_count": 15,
   "outputs": [
    {
     "name": "stdout",
     "output_type": "stream",
     "text": [
      "id                                    day       \n",
      "0079ff14-3579-4e27-b1e5-a838bc23b295  2021-04-27    28.904233\n",
      "                                      2021-04-28    26.179000\n",
      "                                      2021-04-29    36.047800\n",
      "                                      2021-04-30    36.440250\n",
      "                                      2021-05-01    30.913750\n",
      "Name: daily_durations_eve, dtype: float64\n",
      "id\n",
      "0079ff14-3579-4e27-b1e5-a838bc23b295    25.677292\n",
      "01617409-e832-4bd9-b139-30189de7e827    26.297925\n",
      "028f0ac3-1720-487e-b5eb-3ee02d0edfe7    37.465267\n",
      "037e80a0-ad12-4707-adf2-a77351a4456c    14.356721\n",
      "03c0f04d-6eb5-4dc5-bcfd-5642a6240681    24.373490\n",
      "Name: daily_durations_eve, dtype: float64\n"
     ]
    }
   ],
   "source": [
    "daily_use_evening = (ae_all_waves.get_daily_duration(time_of_day='eve', series_unit='day') / 60)\n",
    "print(daily_use_evening.head())\n",
    "\n",
    "avg_daily_use_evening = (ae_all_waves.get_daily_duration(time_of_day='eve') / 60)\n",
    "print(avg_daily_use_evening.head())\n"
   ],
   "metadata": {
    "collapsed": false,
    "pycharm": {
     "name": "#%%\n"
    }
   }
  },
  {
   "cell_type": "markdown",
   "source": [
    "#### (Average) daily use during nighttime"
   ],
   "metadata": {
    "collapsed": false
   }
  },
  {
   "cell_type": "code",
   "execution_count": 16,
   "outputs": [
    {
     "name": "stdout",
     "output_type": "stream",
     "text": [
      "id                                    day       \n",
      "0079ff14-3579-4e27-b1e5-a838bc23b295  2021-04-27     2.847150\n",
      "                                      2021-04-28    16.157833\n",
      "                                      2021-04-29    10.564817\n",
      "                                      2021-04-30     3.839017\n",
      "                                      2021-05-01    12.605483\n",
      "Name: daily_durations_night, dtype: float64\n",
      "id\n",
      "0079ff14-3579-4e27-b1e5-a838bc23b295     9.528381\n",
      "01617409-e832-4bd9-b139-30189de7e827    20.365642\n",
      "028f0ac3-1720-487e-b5eb-3ee02d0edfe7    17.106953\n",
      "037e80a0-ad12-4707-adf2-a77351a4456c     6.367640\n",
      "03c0f04d-6eb5-4dc5-bcfd-5642a6240681    13.736192\n",
      "Name: daily_durations_night, dtype: float64\n"
     ]
    }
   ],
   "source": [
    "daily_use_night = (ae_all_waves.get_daily_duration(time_of_day='night', series_unit='day') / 60)\n",
    "print(daily_use_night.head())\n",
    "\n",
    "avg_daily_use_night = (ae_all_waves.get_daily_duration(time_of_day='night') / 60)\n",
    "print(avg_daily_use_night.head())"
   ],
   "metadata": {
    "collapsed": false,
    "pycharm": {
     "name": "#%%\n"
    }
   }
  },
  {
   "cell_type": "markdown",
   "source": [
    "#### (Average) daily amount of app events during evening/night time"
   ],
   "metadata": {
    "collapsed": false,
    "pycharm": {
     "name": "#%% md\n"
    }
   }
  },
  {
   "cell_type": "code",
   "execution_count": 17,
   "outputs": [
    {
     "name": "stdout",
     "output_type": "stream",
     "text": [
      "id                                    day       \n",
      "0079ff14-3579-4e27-b1e5-a838bc23b295  2021-04-27    45.0\n",
      "                                      2021-04-28    44.0\n",
      "                                      2021-04-29    42.0\n",
      "                                      2021-04-30    46.0\n",
      "                                      2021-05-01    48.0\n",
      "Name: daily_events_eve, dtype: float64\n",
      "id\n",
      "0079ff14-3579-4e27-b1e5-a838bc23b295    39.933333\n",
      "01617409-e832-4bd9-b139-30189de7e827    37.687500\n",
      "028f0ac3-1720-487e-b5eb-3ee02d0edfe7    36.720000\n",
      "037e80a0-ad12-4707-adf2-a77351a4456c    37.375000\n",
      "03c0f04d-6eb5-4dc5-bcfd-5642a6240681    44.571429\n",
      "Name: daily_events_eve, dtype: float64\n",
      "id                                    day       \n",
      "0079ff14-3579-4e27-b1e5-a838bc23b295  2021-04-27     4.0\n",
      "                                      2021-04-28    23.0\n",
      "                                      2021-04-29    14.0\n",
      "                                      2021-04-30     6.0\n",
      "                                      2021-05-01    21.0\n",
      "Name: daily_events_night, dtype: float64\n",
      "id\n",
      "0079ff14-3579-4e27-b1e5-a838bc23b295    14.000000\n",
      "01617409-e832-4bd9-b139-30189de7e827    22.470588\n",
      "028f0ac3-1720-487e-b5eb-3ee02d0edfe7    15.250000\n",
      "037e80a0-ad12-4707-adf2-a77351a4456c    18.125000\n",
      "03c0f04d-6eb5-4dc5-bcfd-5642a6240681    15.500000\n",
      "Name: daily_events_night, dtype: float64\n"
     ]
    }
   ],
   "source": [
    "freq_evening_use = (ae_all_waves.get_daily_events(time_of_day='eve', series_unit='day'))\n",
    "print(freq_evening_use.head())\n",
    "\n",
    "avg_freq_evening_use = (ae_all_waves.get_daily_events(time_of_day='eve'))\n",
    "print(avg_freq_evening_use.head())\n",
    "\n",
    "freq_night_use = (ae_all_waves.get_daily_events(time_of_day='night', series_unit='day'))\n",
    "print(freq_night_use.head())\n",
    "\n",
    "avg_freq_night_use = (ae_all_waves.get_daily_events(time_of_day='night'))\n",
    "print(avg_freq_night_use.head())\n"
   ],
   "metadata": {
    "collapsed": false,
    "pycharm": {
     "name": "#%%\n"
    }
   }
  },
  {
   "cell_type": "markdown",
   "source": [
    "### Depression features\n",
    "###### General screen time\n",
    "###### Smartphone use frequency\n",
    "###### Screen unlocks (=checking behaviour)\n",
    "###### Average daily social smartphone use/ appevents/ notifications\n",
    "###### Average smartphone appevents/ use during evening/night hours\n",
    " &#8594; All done above\n",
    "#### (Average) time between sessions started on notification"
   ],
   "metadata": {
    "collapsed": false
   }
  },
  {
   "cell_type": "code",
   "execution_count": 18,
   "outputs": [],
   "source": [
    "def calc_time_between_notification_sessions(df: pd.DataFrame, avg=False):\n",
    "    session_firsts = df.groupby([\"id\", \"session\"]).head(1)\n",
    "    session_firsts_notif = session_firsts[session_firsts[\"notification\"] == True]\n",
    "    session_firsts_notif = session_firsts_notif.assign(start_shift= session_firsts_notif.groupby([\"id\", \"startDate\"])[[\"startTime\"]].shift(-1))\n",
    "    session_firsts_notif = session_firsts_notif.assign(duration_shift=(session_firsts_notif[\"start_shift\"] - session_firsts_notif[\"endTime\"]).dt.total_seconds())\n",
    "\n",
    "    mean_shift_pd = (session_firsts_notif.groupby([\"id\", \"startDate\"])[\"duration_shift\"].mean() / 60)\n",
    "    mean_shift = mean_shift_pd.groupby(\"id\").mean()\n",
    "\n",
    "    if avg:\n",
    "        return mean_shift.rename(\"mins_between_notif_sessions\")\n",
    "    else:\n",
    "        return mean_shift_pd.rename(\"mins_between_notif_sessions\")\n"
   ],
   "metadata": {
    "collapsed": false,
    "pycharm": {
     "name": "#%%\n"
    }
   }
  },
  {
   "cell_type": "code",
   "execution_count": 19,
   "outputs": [
    {
     "name": "stdout",
     "output_type": "stream",
     "text": [
      "id                                    startDate \n",
      "0079ff14-3579-4e27-b1e5-a838bc23b295  2021-04-27     76.623242\n",
      "                                      2021-04-28    132.530831\n",
      "                                      2021-04-29     64.333117\n",
      "                                      2021-04-30     91.133078\n",
      "                                      2021-05-01     78.702731\n",
      "Name: mins_between_notif_sessions, dtype: float64\n",
      "id\n",
      "0079ff14-3579-4e27-b1e5-a838bc23b295    156.689824\n",
      "01617409-e832-4bd9-b139-30189de7e827    138.011087\n",
      "028f0ac3-1720-487e-b5eb-3ee02d0edfe7    134.676165\n",
      "037e80a0-ad12-4707-adf2-a77351a4456c    106.222736\n",
      "03c0f04d-6eb5-4dc5-bcfd-5642a6240681    116.813850\n",
      "Name: mins_between_notif_sessions, dtype: float64\n"
     ]
    }
   ],
   "source": [
    "time_between_notif_sessions = calc_time_between_notification_sessions(ae_all_waves.__data__) # minutes\n",
    "print(time_between_notif_sessions.head())\n",
    "\n",
    "avg_time_between_notif_sessions = calc_time_between_notification_sessions(ae_all_waves.__data__, avg=True) # minutes\n",
    "print(avg_time_between_notif_sessions.head())"
   ],
   "metadata": {
    "collapsed": false,
    "pycharm": {
     "name": "#%%\n"
    }
   }
  },
  {
   "cell_type": "markdown",
   "source": [
    "#### Variability smartphone use during week"
   ],
   "metadata": {
    "collapsed": false
   }
  },
  {
   "cell_type": "code",
   "execution_count": 20,
   "outputs": [],
   "source": [
    "def calc_weekly_use_variability(df: pd.DataFrame, duration: None):\n",
    "    if duration:\n",
    "        name = \"duration\"\n",
    "        variability = df.groupby([\"id\", pd.Grouper(key=\"startDate\", freq=\"W\")])[\"duration\"].sum().groupby(\"id\").std()\n",
    "    else:\n",
    "        name = \"appevents\"\n",
    "        variability = df.groupby([\"id\", pd.Grouper(key=\"startDate\", freq=\"W\")])[\"application\"].count().groupby(\"id\").std()\n",
    "\n",
    "    return variability.rename(f\"weekly_variability_{name}\")"
   ],
   "metadata": {
    "collapsed": false,
    "pycharm": {
     "name": "#%%\n"
    }
   }
  },
  {
   "cell_type": "code",
   "execution_count": 21,
   "outputs": [
    {
     "name": "stdout",
     "output_type": "stream",
     "text": [
      "id\n",
      "0079ff14-3579-4e27-b1e5-a838bc23b295    20593.837046\n",
      "01617409-e832-4bd9-b139-30189de7e827    20482.556924\n",
      "028f0ac3-1720-487e-b5eb-3ee02d0edfe7    30855.065644\n",
      "037e80a0-ad12-4707-adf2-a77351a4456c    10345.634541\n",
      "03c0f04d-6eb5-4dc5-bcfd-5642a6240681    28985.049991\n",
      "Name: weekly_variability_duration, dtype: float64\n"
     ]
    }
   ],
   "source": [
    "weekly_use_variability = calc_weekly_use_variability(ae_all_waves.__data__, duration=True)\n",
    "print(weekly_use_variability.head())"
   ],
   "metadata": {
    "collapsed": false,
    "pycharm": {
     "name": "#%%\n"
    }
   }
  },
  {
   "cell_type": "markdown",
   "source": [
    "#### (Average) daily use/events/notifications\n",
    "##### &#8594; non-social (process) related apps"
   ],
   "metadata": {
    "collapsed": false,
    "pycharm": {
     "name": "#%% md\n"
    }
   },
   "execution_count": 654
  },
  {
   "cell_type": "code",
   "execution_count": 22,
   "outputs": [
    {
     "name": "stdout",
     "output_type": "stream",
     "text": [
      "id                                    day       \n",
      "0079ff14-3579-4e27-b1e5-a838bc23b295  2021-04-27     50.957017\n",
      "                                      2021-04-28    121.114517\n",
      "                                      2021-04-29    114.844433\n",
      "                                      2021-04-30    157.519400\n",
      "                                      2021-05-01     90.248800\n",
      "Name: daily_durations_non_social, dtype: float64\n",
      "id\n",
      "0079ff14-3579-4e27-b1e5-a838bc23b295    108.309176\n",
      "01617409-e832-4bd9-b139-30189de7e827     51.970424\n",
      "028f0ac3-1720-487e-b5eb-3ee02d0edfe7     77.077691\n",
      "037e80a0-ad12-4707-adf2-a77351a4456c     30.278039\n",
      "03c0f04d-6eb5-4dc5-bcfd-5642a6240681     57.734578\n",
      "Name: avg_daily_durations_non_social, dtype: float64\n"
     ]
    }
   ],
   "source": [
    "social_cat = [\"Social\", \"Calling\"]\n",
    "all_cat = ae_all_waves.__data__.category.unique().tolist()\n",
    "non_social_cat = list(set(all_cat) - set(social_cat))\n",
    "\n",
    "daily_non_social_applications = (ae_all_waves.get_daily_duration(category=non_social_cat, series_unit='day') / 60).rename('daily_durations_non_social')\n",
    "print(daily_non_social_applications.head())\n",
    "avg_daily_non_social_applications = (ae_all_waves.get_daily_duration(category=non_social_cat) / 60).rename('avg_daily_durations_non_social')\n",
    "print(avg_daily_non_social_applications.head())"
   ],
   "metadata": {
    "collapsed": false,
    "pycharm": {
     "name": "#%%\n"
    }
   }
  },
  {
   "cell_type": "code",
   "execution_count": 23,
   "outputs": [
    {
     "name": "stdout",
     "output_type": "stream",
     "text": [
      "id                                    day       \n",
      "0079ff14-3579-4e27-b1e5-a838bc23b295  2021-04-27     87.0\n",
      "                                      2021-04-28    152.0\n",
      "                                      2021-04-29    142.0\n",
      "                                      2021-04-30    124.0\n",
      "                                      2021-05-01    121.0\n",
      "Name: daily_events_non_social, dtype: float64\n",
      "id\n",
      "0079ff14-3579-4e27-b1e5-a838bc23b295    135.333333\n",
      "01617409-e832-4bd9-b139-30189de7e827     99.117647\n",
      "028f0ac3-1720-487e-b5eb-3ee02d0edfe7    112.200000\n",
      "037e80a0-ad12-4707-adf2-a77351a4456c     80.444444\n",
      "03c0f04d-6eb5-4dc5-bcfd-5642a6240681     96.000000\n",
      "Name: daily_events_non_social, dtype: float64\n"
     ]
    }
   ],
   "source": [
    "freq_non_social_applications = ae_all_waves.get_daily_events(category=non_social_cat, series_unit='day').rename('daily_events_non_social')\n",
    "print(freq_non_social_applications.head())\n",
    "avg_freq_non_social_applications = ae_all_waves.get_daily_events(category=non_social_cat).rename('daily_events_non_social')\n",
    "print(avg_freq_non_social_applications.head())"
   ],
   "metadata": {
    "collapsed": false,
    "pycharm": {
     "name": "#%%\n"
    }
   }
  },
  {
   "cell_type": "markdown",
   "source": [
    "##### &#8594; browser application"
   ],
   "metadata": {
    "collapsed": false,
    "pycharm": {
     "name": "#%% md\n"
    }
   }
  },
  {
   "cell_type": "code",
   "execution_count": 24,
   "outputs": [
    {
     "name": "stdout",
     "output_type": "stream",
     "text": [
      "id                                    day       \n",
      "0079ff14-3579-4e27-b1e5-a838bc23b295  2021-04-27    11.147367\n",
      "                                      2021-04-28    26.382517\n",
      "                                      2021-04-29    27.494983\n",
      "                                      2021-04-30    16.093867\n",
      "                                      2021-05-01    20.620367\n",
      "Name: daily_durations_web, dtype: float64\n",
      "id\n",
      "0079ff14-3579-4e27-b1e5-a838bc23b295    20.696959\n",
      "01617409-e832-4bd9-b139-30189de7e827    11.913770\n",
      "028f0ac3-1720-487e-b5eb-3ee02d0edfe7     4.997208\n",
      "037e80a0-ad12-4707-adf2-a77351a4456c     9.535759\n",
      "03c0f04d-6eb5-4dc5-bcfd-5642a6240681    11.674350\n",
      "Name: daily_durations_web, dtype: float64\n",
      "id                                    day       \n",
      "0079ff14-3579-4e27-b1e5-a838bc23b295  2021-04-27    18.0\n",
      "                                      2021-04-28    25.0\n",
      "                                      2021-04-29    31.0\n",
      "                                      2021-04-30    18.0\n",
      "                                      2021-05-01    20.0\n",
      "Name: daily_events_web, dtype: float64\n",
      "id                                    day       \n",
      "0079ff14-3579-4e27-b1e5-a838bc23b295  2021-04-27    18.0\n",
      "                                      2021-04-28    25.0\n",
      "                                      2021-04-29    31.0\n",
      "                                      2021-04-30    18.0\n",
      "                                      2021-05-01    20.0\n",
      "Name: daily_events_web, dtype: float64\n"
     ]
    }
   ],
   "source": [
    "browser_use = (ae_all_waves.get_daily_duration(category='Web', series_unit='day') / 60)\n",
    "print(browser_use.head())\n",
    "\n",
    "avg_browser_use = (ae_all_waves.get_daily_duration(category='Web') / 60)\n",
    "print(avg_browser_use.head())\n",
    "\n",
    "\n",
    "freq_browser_use = ae_all_waves.get_daily_events(category='Web', series_unit='day')\n",
    "print(freq_browser_use.head())\n",
    "\n",
    "avg_freq_browser_use = ae_all_waves.get_daily_events(category='Web')\n",
    "print(avg_freq_browser_use.head())\n"
   ],
   "metadata": {
    "collapsed": false,
    "pycharm": {
     "name": "#%%\n"
    }
   }
  },
  {
   "cell_type": "markdown",
   "source": [
    "##### &#8594; news applications"
   ],
   "metadata": {
    "collapsed": false,
    "pycharm": {
     "name": "#%% md\n"
    }
   }
  },
  {
   "cell_type": "code",
   "execution_count": 25,
   "outputs": [
    {
     "name": "stdout",
     "output_type": "stream",
     "text": [
      "id                                    day       \n",
      "0079ff14-3579-4e27-b1e5-a838bc23b295  2021-04-27    14.531133\n",
      "                                      2021-04-28    35.325367\n",
      "                                      2021-04-29    48.477800\n",
      "                                      2021-04-30    17.674983\n",
      "                                      2021-05-01    25.763917\n",
      "Name: daily_durations_news, dtype: float64\n",
      "id\n",
      "0079ff14-3579-4e27-b1e5-a838bc23b295    34.053221\n",
      "01617409-e832-4bd9-b139-30189de7e827     0.871387\n",
      "028f0ac3-1720-487e-b5eb-3ee02d0edfe7     3.519170\n",
      "037e80a0-ad12-4707-adf2-a77351a4456c     1.325008\n",
      "03c0f04d-6eb5-4dc5-bcfd-5642a6240681     1.523800\n",
      "Name: daily_durations_news, dtype: float64\n",
      "id                                    day       \n",
      "0079ff14-3579-4e27-b1e5-a838bc23b295  2021-04-27     9.0\n",
      "                                      2021-04-28    28.0\n",
      "                                      2021-04-29    23.0\n",
      "                                      2021-04-30    10.0\n",
      "                                      2021-05-01    14.0\n",
      "Name: daily_events_news, dtype: float64\n",
      "id\n",
      "0079ff14-3579-4e27-b1e5-a838bc23b295    18.933333\n",
      "01617409-e832-4bd9-b139-30189de7e827     2.846154\n",
      "028f0ac3-1720-487e-b5eb-3ee02d0edfe7     2.450000\n",
      "037e80a0-ad12-4707-adf2-a77351a4456c     2.000000\n",
      "03c0f04d-6eb5-4dc5-bcfd-5642a6240681     1.000000\n",
      "Name: daily_events_news, dtype: float64\n"
     ]
    }
   ],
   "source": [
    "news_use = (ae_all_waves.get_daily_duration(category='News', series_unit='day') / 60)\n",
    "print(news_use.head())\n",
    "\n",
    "avg_news_use = (ae_all_waves.get_daily_duration(category='News') / 60)\n",
    "print(avg_news_use.head())\n",
    "\n",
    "freq_news_use = ae_all_waves.get_daily_events(category='News', series_unit='day')\n",
    "print(freq_news_use.head())\n",
    "\n",
    "avg_freq_news_use = ae_all_waves.get_daily_events(category='News')\n",
    "print(avg_freq_news_use.head())"
   ],
   "metadata": {
    "collapsed": false,
    "pycharm": {
     "name": "#%%\n"
    }
   }
  },
  {
   "cell_type": "markdown",
   "source": [
    "##### &#8594; instagram"
   ],
   "metadata": {
    "collapsed": false,
    "pycharm": {
     "name": "#%% md\n"
    }
   }
  },
  {
   "cell_type": "code",
   "execution_count": 26,
   "outputs": [
    {
     "name": "stdout",
     "output_type": "stream",
     "text": [
      "id                                    day       \n",
      "01617409-e832-4bd9-b139-30189de7e827  2021-04-25    16.523050\n",
      "                                      2021-04-26     7.634317\n",
      "                                      2021-04-27    28.343483\n",
      "                                      2021-04-28    20.830483\n",
      "                                      2021-04-29    15.832467\n",
      "Name: daily_durations_instagram, dtype: float64\n",
      "id\n",
      "01617409-e832-4bd9-b139-30189de7e827    16.484651\n",
      "028f0ac3-1720-487e-b5eb-3ee02d0edfe7     0.706203\n",
      "03ce19e0-e1e9-4051-a1ac-afaac0557806    17.611857\n",
      "0405c848-f9bf-4a27-9fc6-62b624287609     7.701448\n",
      "058d96e2-285f-42d3-a0f2-c9662da24814     0.399042\n",
      "Name: avg_daily_durations_instagram, dtype: float64\n",
      "id                                    day       \n",
      "01617409-e832-4bd9-b139-30189de7e827  2021-04-25     4.0\n",
      "                                      2021-04-26     2.0\n",
      "                                      2021-04-27     7.0\n",
      "                                      2021-04-28     8.0\n",
      "                                      2021-04-29    17.0\n",
      "Name: daily_events_instagram, dtype: float64\n",
      "id\n",
      "01617409-e832-4bd9-b139-30189de7e827    8.117647\n",
      "028f0ac3-1720-487e-b5eb-3ee02d0edfe7    1.375000\n",
      "03ce19e0-e1e9-4051-a1ac-afaac0557806    7.937500\n",
      "0405c848-f9bf-4a27-9fc6-62b624287609    3.650000\n",
      "058d96e2-285f-42d3-a0f2-c9662da24814    2.500000\n",
      "Name: avg_daily_events_instagram, dtype: float64\n"
     ]
    }
   ],
   "source": [
    "daily_instagram_use = (ae_all_waves.get_daily_duration(application=\"com.instagram.android\", series_unit='day') / 60).rename('daily_durations_instagram')\n",
    "print(daily_instagram_use.head())\n",
    "\n",
    "avg_daily_instagram_use = (ae_all_waves.get_daily_duration(application=\"com.instagram.android\") / 60).rename('avg_daily_durations_instagram')\n",
    "print(avg_daily_instagram_use.head())\n",
    "\n",
    "freq_instagram_use = ae_all_waves.get_daily_events(application=\"com.instagram.android\", series_unit='day').rename('daily_events_instagram')\n",
    "print(freq_instagram_use.head())\n",
    "\n",
    "avg_freq_instagram_use = ae_all_waves.get_daily_events(application=\"com.instagram.android\").rename('avg_daily_events_instagram')\n",
    "print(avg_freq_instagram_use.head())"
   ],
   "metadata": {
    "collapsed": false,
    "pycharm": {
     "name": "#%%\n"
    }
   }
  },
  {
   "cell_type": "markdown",
   "source": [
    "### Headaches features\n",
    "###### Daily screen time\n",
    "&#8594; Already done\n",
    "\n",
    "##### (Average) Daily call duration/frequency"
   ],
   "metadata": {
    "collapsed": false,
    "pycharm": {
     "name": "#%% md\n"
    }
   }
  },
  {
   "cell_type": "code",
   "execution_count": 27,
   "outputs": [
    {
     "name": "stdout",
     "output_type": "stream",
     "text": [
      "id                                    day       \n",
      "0079ff14-3579-4e27-b1e5-a838bc23b295  2021-05-03     1.438583\n",
      "                                      2021-05-06     0.144367\n",
      "                                      2021-05-08     0.113950\n",
      "01617409-e832-4bd9-b139-30189de7e827  2021-04-26    10.198383\n",
      "                                      2021-04-27     5.810800\n",
      "Name: daily_durations_calling, dtype: float64\n",
      "id\n",
      "0079ff14-3579-4e27-b1e5-a838bc23b295     0.565633\n",
      "01617409-e832-4bd9-b139-30189de7e827     8.321474\n",
      "028f0ac3-1720-487e-b5eb-3ee02d0edfe7     0.355383\n",
      "037e80a0-ad12-4707-adf2-a77351a4456c     1.987639\n",
      "03c0f04d-6eb5-4dc5-bcfd-5642a6240681    16.871298\n",
      "Name: daily_durations_calling, dtype: float64\n",
      "id                                    day       \n",
      "0079ff14-3579-4e27-b1e5-a838bc23b295  2021-05-03     4.0\n",
      "                                      2021-05-06     1.0\n",
      "                                      2021-05-08     1.0\n",
      "01617409-e832-4bd9-b139-30189de7e827  2021-04-26    62.0\n",
      "                                      2021-04-27    36.0\n",
      "Name: daily_events_calling, dtype: float64\n",
      "id\n",
      "0079ff14-3579-4e27-b1e5-a838bc23b295     2.000000\n",
      "01617409-e832-4bd9-b139-30189de7e827    42.888889\n",
      "028f0ac3-1720-487e-b5eb-3ee02d0edfe7     2.000000\n",
      "037e80a0-ad12-4707-adf2-a77351a4456c     3.000000\n",
      "03c0f04d-6eb5-4dc5-bcfd-5642a6240681    30.750000\n",
      "Name: daily_events_calling, dtype: float64\n"
     ]
    }
   ],
   "source": [
    "daily_call_duration = (ae_all_waves.get_daily_duration(category='Calling', series_unit='day') /60)\n",
    "print(daily_call_duration.head())\n",
    "\n",
    "avg_daily_call_duration = (ae_all_waves.get_daily_duration(category='Calling') /60)\n",
    "print(avg_daily_call_duration.head())\n",
    "\n",
    "freq_daily_call = ae_all_waves.get_daily_events(category='Calling', series_unit='day')\n",
    "print(freq_daily_call.head())\n",
    "\n",
    "avg_freq_daily_call = ae_all_waves.get_daily_events(category='Calling')\n",
    "print(avg_freq_daily_call.head())"
   ],
   "metadata": {
    "collapsed": false,
    "pycharm": {
     "name": "#%%\n"
    }
   }
  },
  {
   "cell_type": "markdown",
   "source": [
    "### Activity features\n",
    "##### Average daily number of (unique) used apps"
   ],
   "metadata": {
    "collapsed": false,
    "pycharm": {
     "name": "#%% md\n"
    }
   }
  },
  {
   "cell_type": "code",
   "execution_count": 28,
   "outputs": [
    {
     "name": "stdout",
     "output_type": "stream",
     "text": [
      "id                                    startDate \n",
      "0079ff14-3579-4e27-b1e5-a838bc23b295  2021-04-27    16\n",
      "                                      2021-04-28    21\n",
      "                                      2021-04-29    23\n",
      "                                      2021-04-30    30\n",
      "                                      2021-05-01    24\n",
      "Name: daily_unique_apps, dtype: int64\n",
      "id\n",
      "0079ff14-3579-4e27-b1e5-a838bc23b295    21.733333\n",
      "01617409-e832-4bd9-b139-30189de7e827    27.352941\n",
      "028f0ac3-1720-487e-b5eb-3ee02d0edfe7    25.480000\n",
      "037e80a0-ad12-4707-adf2-a77351a4456c    14.777778\n",
      "03c0f04d-6eb5-4dc5-bcfd-5642a6240681    21.222222\n",
      "Name: avg_daily_unique_apps, dtype: float64\n"
     ]
    }
   ],
   "source": [
    "daily_unique_apps = ae_all_waves.__data__.groupby([\"id\", \"startDate\"])[\"application\"].nunique().rename('daily_unique_apps')\n",
    "print(daily_unique_apps.head())\n",
    "\n",
    "avg_daily_unique_apps = (ae_all_waves.__data__.groupby([\"id\", \"startDate\"])[\"application\"].nunique().groupby(\"id\")\n",
    "                         .mean()).rename('avg_daily_unique_apps')\n",
    "print(avg_daily_unique_apps.head())"
   ],
   "metadata": {
    "collapsed": false,
    "pycharm": {
     "name": "#%%\n"
    }
   }
  },
  {
   "cell_type": "markdown",
   "source": [
    "##### (Average) daily duration/ frequency of app use\n",
    "&#8594; Already done\n",
    "\n",
    "##### Increase/decrease in battery status"
   ],
   "metadata": {
    "collapsed": false,
    "pycharm": {
     "name": "#%% md\n"
    }
   }
  },
  {
   "cell_type": "code",
   "execution_count": 29,
   "outputs": [],
   "source": [
    "def calc_battery_status(df: pd.DataFrame):\n",
    "    \"\"\"\n",
    "    Calculates four battery status variables per participant:\n",
    "    - daily average battery level\n",
    "    - daily std dev of battery level\n",
    "    - daily average charge %\n",
    "    - daily average discharge %\n",
    "\n",
    "    :param df: the appevents DataFrame\n",
    "    :return: results DataFrame with 4 variables per participant\n",
    "    \"\"\"\n",
    "    df = df.copy()\n",
    "    df = df.sort_values(['id', 'startTime']).assign(battery_shift= df.groupby(['id', 'startDate'])['battery'].shift(-1))\n",
    "    df = df.assign(battery_change=df['battery_shift'] - df['battery'])\n",
    "\n",
    "    battery_avg = (df.groupby([\"id\", \"startDate\"])[\"battery\"].mean().groupby('id').mean()).rename('avg_daily_battery')\n",
    "    battery_std = (df.groupby([\"id\", \"startDate\"])[\"battery\"].mean().groupby('id').std()).rename(\"battery_std\")\n",
    "\n",
    "    battery_discharge = (df[df[\"battery_change\"] < 0].groupby(['id', 'startDate'])['battery_change'].sum()\n",
    "                         .abs().groupby('id').mean()).rename(\"battery_daily_discharge\")\n",
    "    battery_charge = (df[df[\"battery_change\"] > 0].groupby([\"id\", \"startDate\"])[\"battery_change\"].sum()\n",
    "                      .abs().groupby(\"id\").mean()).rename(\"battery_daily_charge\")\n",
    "\n",
    "    res = pd.concat([\n",
    "        battery_charge,\n",
    "        battery_discharge\n",
    "    ], axis=1)\n",
    "\n",
    "    return res"
   ],
   "metadata": {
    "collapsed": false,
    "pycharm": {
     "name": "#%%\n"
    }
   }
  },
  {
   "cell_type": "code",
   "execution_count": 30,
   "outputs": [
    {
     "name": "stdout",
     "output_type": "stream",
     "text": [
      "                                      battery_daily_charge  \\\n",
      "id                                                           \n",
      "0079ff14-3579-4e27-b1e5-a838bc23b295             76.142857   \n",
      "01617409-e832-4bd9-b139-30189de7e827             86.714286   \n",
      "028f0ac3-1720-487e-b5eb-3ee02d0edfe7             68.600000   \n",
      "037e80a0-ad12-4707-adf2-a77351a4456c             75.625000   \n",
      "03c0f04d-6eb5-4dc5-bcfd-5642a6240681             42.125000   \n",
      "\n",
      "                                      battery_daily_discharge  \n",
      "id                                                             \n",
      "0079ff14-3579-4e27-b1e5-a838bc23b295                60.066667  \n",
      "01617409-e832-4bd9-b139-30189de7e827                69.411765  \n",
      "028f0ac3-1720-487e-b5eb-3ee02d0edfe7                65.960000  \n",
      "037e80a0-ad12-4707-adf2-a77351a4456c                50.666667  \n",
      "03c0f04d-6eb5-4dc5-bcfd-5642a6240681                41.777778  \n"
     ]
    }
   ],
   "source": [
    "    battery_status = calc_battery_status(ae_all_waves.__data__)\n",
    "    print(battery_status.head())\n",
    "    # TODO not completely right, averaging app events not best way\n",
    "    # TODO per day"
   ],
   "metadata": {
    "collapsed": false,
    "pycharm": {
     "name": "#%%\n"
    }
   }
  },
  {
   "cell_type": "markdown",
   "source": [
    "##### Average daily time between consecutive phone use sessions"
   ],
   "metadata": {
    "collapsed": false
   }
  },
  {
   "cell_type": "code",
   "execution_count": 31,
   "outputs": [],
   "source": [
    "def calc_time_between_consecutive_sessions(df: pd.DataFrame, avg=False):\n",
    "    session_firsts = df.groupby([\"id\", \"session\"]).head(1)\n",
    "\n",
    "    session_firsts = session_firsts.assign(start_shift= session_firsts.groupby([\"id\", \"startDate\"])[[\"startTime\"]].shift(-1))\n",
    "    session_firsts= session_firsts.assign(duration_shift=(session_firsts[\"start_shift\"] - session_firsts[\"endTime\"]).dt.total_seconds())\n",
    "\n",
    "    mean_shift_pd = (session_firsts.groupby([\"id\", \"startDate\"])[\"duration_shift\"].mean() / 60) # pd= per day\n",
    "    mean_shift = mean_shift_pd.groupby(\"id\").mean()  # avg by user\n",
    "\n",
    "    if avg:\n",
    "        return mean_shift.rename(\"mins_between_sessions\")\n",
    "    else:\n",
    "        return mean_shift_pd.rename(\"mins_between_sessions\")"
   ],
   "metadata": {
    "collapsed": false,
    "pycharm": {
     "name": "#%%\n"
    }
   }
  },
  {
   "cell_type": "code",
   "execution_count": 32,
   "outputs": [
    {
     "name": "stdout",
     "output_type": "stream",
     "text": [
      "id                                    startDate \n",
      "0079ff14-3579-4e27-b1e5-a838bc23b295  2021-04-27    30.254123\n",
      "                                      2021-04-28    25.472930\n",
      "                                      2021-04-29    25.215444\n",
      "                                      2021-04-30    24.486846\n",
      "                                      2021-05-01    28.959849\n",
      "Name: mins_between_sessions, dtype: float64\n",
      "id\n",
      "0079ff14-3579-4e27-b1e5-a838bc23b295    28.356214\n",
      "01617409-e832-4bd9-b139-30189de7e827    23.584685\n",
      "028f0ac3-1720-487e-b5eb-3ee02d0edfe7    20.065113\n",
      "037e80a0-ad12-4707-adf2-a77351a4456c    22.828693\n",
      "03c0f04d-6eb5-4dc5-bcfd-5642a6240681    13.546520\n",
      "Name: mins_between_sessions, dtype: float64\n"
     ]
    }
   ],
   "source": [
    "daily_time_between_sessions = calc_time_between_consecutive_sessions(ae_all_waves.__data__)\n",
    "print(daily_time_between_sessions.head())\n",
    "avg_daily_time_between_sessions = calc_time_between_consecutive_sessions(ae_all_waves.__data__, avg=True)\n",
    "print(avg_daily_time_between_sessions.head())"
   ],
   "metadata": {
    "collapsed": false,
    "pycharm": {
     "name": "#%%\n"
    }
   }
  },
  {
   "cell_type": "markdown",
   "source": [
    "## 4. Merge all features in one dataframe\n",
    "### Daily counted features\n",
    "These are the features that are related to mobile use ***per person, per day***"
   ],
   "metadata": {
    "collapsed": false,
    "pycharm": {
     "name": "#%% md\n"
    }
   }
  },
  {
   "cell_type": "code",
   "execution_count": 33,
   "outputs": [
    {
     "name": "stdout",
     "output_type": "stream",
     "text": [
      "                                                 daily_durations  \\\n",
      "id                                   day                           \n",
      "01617409-e832-4bd9-b139-30189de7e827 2021-04-26        68.323350   \n",
      "                                     2021-04-27       161.490367   \n",
      "                                     2021-04-29        58.077383   \n",
      "                                     2021-04-30        81.203833   \n",
      "                                     2021-05-01       114.517833   \n",
      "\n",
      "                                                 daily_events  \\\n",
      "id                                   day                        \n",
      "01617409-e832-4bd9-b139-30189de7e827 2021-04-26         160.0   \n",
      "                                     2021-04-27         165.0   \n",
      "                                     2021-04-29         158.0   \n",
      "                                     2021-04-30         108.0   \n",
      "                                     2021-05-01         147.0   \n",
      "\n",
      "                                                 daily_durations_chat  \\\n",
      "id                                   day                                \n",
      "01617409-e832-4bd9-b139-30189de7e827 2021-04-26             15.548283   \n",
      "                                     2021-04-27             14.454717   \n",
      "                                     2021-04-29              3.510567   \n",
      "                                     2021-04-30              3.932217   \n",
      "                                     2021-05-01              1.498650   \n",
      "\n",
      "                                                 daily_events_chat  \\\n",
      "id                                   day                             \n",
      "01617409-e832-4bd9-b139-30189de7e827 2021-04-26               23.0   \n",
      "                                     2021-04-27               19.0   \n",
      "                                     2021-04-29                7.0   \n",
      "                                     2021-04-30                9.0   \n",
      "                                     2021-05-01                7.0   \n",
      "\n",
      "                                                 daily_durations_chat_['morning', 'noon']  \\\n",
      "id                                   day                                                    \n",
      "01617409-e832-4bd9-b139-30189de7e827 2021-04-26                                  7.260150   \n",
      "                                     2021-04-27                                 10.998117   \n",
      "                                     2021-04-29                                  2.448567   \n",
      "                                     2021-04-30                                  3.673183   \n",
      "                                     2021-05-01                                  1.153517   \n",
      "\n",
      "                                                 daily_durations_social  \\\n",
      "id                                   day                                  \n",
      "01617409-e832-4bd9-b139-30189de7e827 2021-04-26               27.861833   \n",
      "                                     2021-04-27               44.446367   \n",
      "                                     2021-04-29               22.451800   \n",
      "                                     2021-04-30               27.167617   \n",
      "                                     2021-05-01               60.489533   \n",
      "\n",
      "                                                 daily_events_social  \\\n",
      "id                                   day                               \n",
      "01617409-e832-4bd9-b139-30189de7e827 2021-04-26                 29.0   \n",
      "                                     2021-04-27                 29.0   \n",
      "                                     2021-04-29                 29.0   \n",
      "                                     2021-04-30                 21.0   \n",
      "                                     2021-05-01                 28.0   \n",
      "\n",
      "                                                 daily_durations_eve  \\\n",
      "id                                   day                               \n",
      "01617409-e832-4bd9-b139-30189de7e827 2021-04-26            25.039433   \n",
      "                                     2021-04-27            70.470950   \n",
      "                                     2021-04-29            25.940333   \n",
      "                                     2021-04-30             1.761967   \n",
      "                                     2021-05-01            37.767750   \n",
      "\n",
      "                                                 daily_durations_night  \\\n",
      "id                                   day                                 \n",
      "01617409-e832-4bd9-b139-30189de7e827 2021-04-26              10.683317   \n",
      "                                     2021-04-27              12.583100   \n",
      "                                     2021-04-29               3.921733   \n",
      "                                     2021-04-30               5.437800   \n",
      "                                     2021-05-01              13.750483   \n",
      "\n",
      "                                                 daily_events_eve  ...  \\\n",
      "id                                   day                           ...   \n",
      "01617409-e832-4bd9-b139-30189de7e827 2021-04-26              33.0  ...   \n",
      "                                     2021-04-27              32.0  ...   \n",
      "                                     2021-04-29              40.0  ...   \n",
      "                                     2021-04-30               4.0  ...   \n",
      "                                     2021-05-01              62.0  ...   \n",
      "\n",
      "                                                 daily_durations_web  \\\n",
      "id                                   day                               \n",
      "01617409-e832-4bd9-b139-30189de7e827 2021-04-26             4.168783   \n",
      "                                     2021-04-27            27.821150   \n",
      "                                     2021-04-29             7.256117   \n",
      "                                     2021-04-30             2.969117   \n",
      "                                     2021-05-01             5.565867   \n",
      "\n",
      "                                                 daily_events_web  \\\n",
      "id                                   day                            \n",
      "01617409-e832-4bd9-b139-30189de7e827 2021-04-26               8.0   \n",
      "                                     2021-04-27              16.0   \n",
      "                                     2021-04-29               7.0   \n",
      "                                     2021-04-30               4.0   \n",
      "                                     2021-05-01               9.0   \n",
      "\n",
      "                                                 daily_durations_news  \\\n",
      "id                                   day                                \n",
      "01617409-e832-4bd9-b139-30189de7e827 2021-04-26              0.238533   \n",
      "                                     2021-04-27              0.526400   \n",
      "                                     2021-04-29              1.136500   \n",
      "                                     2021-04-30              0.556283   \n",
      "                                     2021-05-01              1.542717   \n",
      "\n",
      "                                                 daily_events_news  \\\n",
      "id                                   day                             \n",
      "01617409-e832-4bd9-b139-30189de7e827 2021-04-26                1.0   \n",
      "                                     2021-04-27                1.0   \n",
      "                                     2021-04-29                5.0   \n",
      "                                     2021-04-30                3.0   \n",
      "                                     2021-05-01                4.0   \n",
      "\n",
      "                                                 daily_durations_instagram  \\\n",
      "id                                   day                                     \n",
      "01617409-e832-4bd9-b139-30189de7e827 2021-04-26                   7.634317   \n",
      "                                     2021-04-27                  28.343483   \n",
      "                                     2021-04-29                  15.832467   \n",
      "                                     2021-04-30                  20.240533   \n",
      "                                     2021-05-01                  35.651733   \n",
      "\n",
      "                                                 daily_events_instagram  \\\n",
      "id                                   day                                  \n",
      "01617409-e832-4bd9-b139-30189de7e827 2021-04-26                     2.0   \n",
      "                                     2021-04-27                     7.0   \n",
      "                                     2021-04-29                    17.0   \n",
      "                                     2021-04-30                     9.0   \n",
      "                                     2021-05-01                    16.0   \n",
      "\n",
      "                                                 daily_durations_calling  \\\n",
      "id                                   day                                   \n",
      "01617409-e832-4bd9-b139-30189de7e827 2021-04-26                10.198383   \n",
      "                                     2021-04-27                 5.810800   \n",
      "                                     2021-04-29                11.984117   \n",
      "                                     2021-04-30                11.275417   \n",
      "                                     2021-05-01                 0.322617   \n",
      "\n",
      "                                                 daily_events_calling  \\\n",
      "id                                   day                                \n",
      "01617409-e832-4bd9-b139-30189de7e827 2021-04-26                  62.0   \n",
      "                                     2021-04-27                  36.0   \n",
      "                                     2021-04-29                  59.0   \n",
      "                                     2021-04-30                  34.0   \n",
      "                                     2021-05-01                   5.0   \n",
      "\n",
      "                                                 daily_unique_apps  \\\n",
      "id                                   day                             \n",
      "01617409-e832-4bd9-b139-30189de7e827 2021-04-26                 23   \n",
      "                                     2021-04-27                 29   \n",
      "                                     2021-04-29                 21   \n",
      "                                     2021-04-30                 23   \n",
      "                                     2021-05-01                 30   \n",
      "\n",
      "                                                 mins_between_notif_sessions  \n",
      "id                                   day                                      \n",
      "01617409-e832-4bd9-b139-30189de7e827 2021-04-26                    37.236476  \n",
      "                                     2021-04-27                    53.335420  \n",
      "                                     2021-04-29                   282.455142  \n",
      "                                     2021-04-30                   104.381752  \n",
      "                                     2021-05-01                   108.479230  \n",
      "\n",
      "[5 rows x 23 columns]\n"
     ]
    }
   ],
   "source": [
    "# merge all dataframes with 'day' index\n",
    "temp1 = (pd.merge(general_screen_time, smartphone_use_freq, on=['id', 'day']\n",
    ").merge(duration_MIM_applications, on=['id', 'day']\n",
    ").merge(freq_MIM_applications, on=['id', 'day']\n",
    ").merge(daily_use_work_hours, on=['id', 'day']\n",
    ").merge(daily_social_applications, on=['id', 'day']\n",
    ").merge(freq_social_applications, on=['id', 'day']\n",
    ").merge(daily_use_evening,  on=['id', 'day']\n",
    ").merge(daily_use_night, on=['id', 'day']\n",
    ").merge(freq_evening_use, on=['id', 'day']\n",
    ").merge(freq_night_use, on=['id', 'day']\n",
    ").merge(daily_non_social_applications, on=['id', 'day']\n",
    ").merge(freq_non_social_applications, on=['id', 'day']\n",
    ").merge(browser_use, on=['id', 'day']\n",
    ").merge(freq_browser_use, on=['id', 'day']\n",
    ").merge(news_use, on=['id', 'day']\n",
    ").merge(freq_news_use, on=['id', 'day']\n",
    ").merge(daily_instagram_use, on=['id', 'day']\n",
    ").merge(freq_instagram_use, on=['id', 'day']\n",
    ").merge(daily_call_duration, on=['id', 'day']\n",
    ").merge(freq_daily_call, on=['id', 'day']\n",
    "))\n",
    "\n",
    "# merge all dataframes with 'startDate' index\n",
    "temp2 = pd.merge(daily_unique_apps, time_between_notif_sessions, on=['id', 'startDate'])\n",
    "\n",
    "# change type of the date columns a give similar name\n",
    "temp1 = temp1.reset_index().astype({'day': 'datetime64[ns]'}).set_index(['id','day'])\n",
    "temp2 = temp2.reset_index().rename(columns={'startDate': 'day'}).set_index(['id', 'day'])\n",
    "\n",
    "# merge into one dataframe\n",
    "res = (pd.merge(temp1, temp2, on=['id', 'day']))\n",
    "print(res.head())"
   ],
   "metadata": {
    "collapsed": false,
    "pycharm": {
     "name": "#%%\n"
    }
   }
  },
  {
   "cell_type": "code",
   "execution_count": 34,
   "outputs": [
    {
     "name": "stdout",
     "output_type": "stream",
     "text": [
      "                                     id        day  daily_durations  \\\n",
      "0  0405c848-f9bf-4a27-9fc6-62b624287609 2021-04-20       156.062400   \n",
      "1  0405c848-f9bf-4a27-9fc6-62b624287609 2021-04-22       183.103183   \n",
      "2  0405c848-f9bf-4a27-9fc6-62b624287609 2021-04-23       227.671467   \n",
      "3  0405c848-f9bf-4a27-9fc6-62b624287609 2021-04-27       224.706800   \n",
      "4  0405c848-f9bf-4a27-9fc6-62b624287609 2021-04-28       165.493050   \n",
      "\n",
      "   daily_events  daily_durations_chat  daily_events_chat  \\\n",
      "0         194.0             42.373883               39.0   \n",
      "1         202.0             20.075767               34.0   \n",
      "2         255.0             22.858300               40.0   \n",
      "3         203.0             19.491467               17.0   \n",
      "4         233.0             14.512483               24.0   \n",
      "\n",
      "   daily_durations_chat_['morning', 'noon']  daily_durations_social  \\\n",
      "0                                 13.368733               92.213700   \n",
      "1                                  2.191267               78.761117   \n",
      "2                                 20.805400              133.077450   \n",
      "3                                  9.654900              129.138533   \n",
      "4                                  3.957200               74.710567   \n",
      "\n",
      "   daily_events_social  daily_durations_eve  ...  daily_events_news  \\\n",
      "0                 70.0            69.186183  ...                3.0   \n",
      "1                 66.0            56.727850  ...                2.0   \n",
      "2                 85.0            55.302367  ...               11.0   \n",
      "3                 60.0            50.763233  ...                1.0   \n",
      "4                 45.0            26.793533  ...                5.0   \n",
      "\n",
      "   daily_durations_instagram  daily_events_instagram  daily_durations_calling  \\\n",
      "0                   0.250733                     1.0                 0.123150   \n",
      "1                   3.530550                     6.0                 0.336650   \n",
      "2                  10.495133                     2.0                 4.013700   \n",
      "3                  28.268683                     5.0                 2.368033   \n",
      "4                   5.260250                     2.0                 2.798550   \n",
      "\n",
      "   daily_events_calling  daily_unique_apps  mins_between_notif_sessions  \\\n",
      "0                   3.0                 22                    98.366094   \n",
      "1                   2.0                 28                    73.974481   \n",
      "2                  15.0                 26                    58.623921   \n",
      "3                   9.0                 28                   165.422156   \n",
      "4                  17.0                 29                   200.763800   \n",
      "\n",
      "                            panelkit_id  wave  campagne  \n",
      "0  cfcea841-883a-11eb-9dd4-cb04303e036e    w3         1  \n",
      "1  cfcea841-883a-11eb-9dd4-cb04303e036e    w3         1  \n",
      "2  cfcea841-883a-11eb-9dd4-cb04303e036e    w3         1  \n",
      "3  cfcea841-883a-11eb-9dd4-cb04303e036e    w3         1  \n",
      "4  cfcea841-883a-11eb-9dd4-cb04303e036e    w3         1  \n",
      "\n",
      "[5 rows x 28 columns]\n"
     ]
    }
   ],
   "source": [
    "res = res.reset_index().merge(df_mapping, on='id')\n",
    "print(res.head())\n",
    "res.to_csv(\"../data/filtered_appevents_features.csv\", index=False, sep=';', decimal=',')"
   ],
   "metadata": {
    "collapsed": false,
    "pycharm": {
     "name": "#%%\n"
    }
   }
  },
  {
   "cell_type": "markdown",
   "source": [
    "### Averaged features:\n",
    "These are the features that are related to the ***average daily*** mobile usage of a person"
   ],
   "metadata": {
    "collapsed": false,
    "pycharm": {
     "name": "#%% md\n"
    }
   }
  },
  {
   "cell_type": "code",
   "execution_count": 35,
   "outputs": [
    {
     "name": "stdout",
     "output_type": "stream",
     "text": [
      "                                      daily_durations_chat_['morning', 'noon']  \\\n",
      "id                                                                               \n",
      "01617409-e832-4bd9-b139-30189de7e827                                  5.028610   \n",
      "028f0ac3-1720-487e-b5eb-3ee02d0edfe7                                 11.704453   \n",
      "0405c848-f9bf-4a27-9fc6-62b624287609                                  7.918373   \n",
      "0c183eb9-04eb-4337-88c9-cc9a0f7c7f7c                                  3.892389   \n",
      "0cde90dd-f657-48ca-92a5-d6569580cedb                                  2.316216   \n",
      "\n",
      "                                      daily_durations_social  \\\n",
      "id                                                             \n",
      "01617409-e832-4bd9-b139-30189de7e827               37.857345   \n",
      "028f0ac3-1720-487e-b5eb-3ee02d0edfe7               60.493867   \n",
      "0405c848-f9bf-4a27-9fc6-62b624287609              111.902298   \n",
      "0c183eb9-04eb-4337-88c9-cc9a0f7c7f7c              112.561012   \n",
      "0cde90dd-f657-48ca-92a5-d6569580cedb               26.886356   \n",
      "\n",
      "                                      daily_events_social  \\\n",
      "id                                                          \n",
      "01617409-e832-4bd9-b139-30189de7e827            28.000000   \n",
      "028f0ac3-1720-487e-b5eb-3ee02d0edfe7            41.040000   \n",
      "0405c848-f9bf-4a27-9fc6-62b624287609            57.166667   \n",
      "0c183eb9-04eb-4337-88c9-cc9a0f7c7f7c            39.000000   \n",
      "0cde90dd-f657-48ca-92a5-d6569580cedb            22.464286   \n",
      "\n",
      "                                      daily_durations_eve  \\\n",
      "id                                                          \n",
      "01617409-e832-4bd9-b139-30189de7e827            26.297925   \n",
      "028f0ac3-1720-487e-b5eb-3ee02d0edfe7            37.465267   \n",
      "0405c848-f9bf-4a27-9fc6-62b624287609            45.627424   \n",
      "0c183eb9-04eb-4337-88c9-cc9a0f7c7f7c            25.255346   \n",
      "0cde90dd-f657-48ca-92a5-d6569580cedb            60.070575   \n",
      "\n",
      "                                      daily_durations_night  daily_events_eve  \\\n",
      "id                                                                              \n",
      "01617409-e832-4bd9-b139-30189de7e827              20.365642         37.687500   \n",
      "028f0ac3-1720-487e-b5eb-3ee02d0edfe7              17.106953         36.720000   \n",
      "0405c848-f9bf-4a27-9fc6-62b624287609              47.976024         50.208333   \n",
      "0c183eb9-04eb-4337-88c9-cc9a0f7c7f7c              41.865227         18.530303   \n",
      "0cde90dd-f657-48ca-92a5-d6569580cedb              38.616013         44.928571   \n",
      "\n",
      "                                      daily_events_night  \\\n",
      "id                                                         \n",
      "01617409-e832-4bd9-b139-30189de7e827           22.470588   \n",
      "028f0ac3-1720-487e-b5eb-3ee02d0edfe7           15.250000   \n",
      "0405c848-f9bf-4a27-9fc6-62b624287609           28.500000   \n",
      "0c183eb9-04eb-4337-88c9-cc9a0f7c7f7c           19.823529   \n",
      "0cde90dd-f657-48ca-92a5-d6569580cedb           26.892857   \n",
      "\n",
      "                                      mins_between_notif_sessions  \\\n",
      "id                                                                  \n",
      "01617409-e832-4bd9-b139-30189de7e827                   138.011087   \n",
      "028f0ac3-1720-487e-b5eb-3ee02d0edfe7                   134.676165   \n",
      "0405c848-f9bf-4a27-9fc6-62b624287609                   175.248487   \n",
      "0c183eb9-04eb-4337-88c9-cc9a0f7c7f7c                   258.474585   \n",
      "0cde90dd-f657-48ca-92a5-d6569580cedb                   133.995698   \n",
      "\n",
      "                                      weekly_variability_duration  \\\n",
      "id                                                                  \n",
      "01617409-e832-4bd9-b139-30189de7e827                 20482.556924   \n",
      "028f0ac3-1720-487e-b5eb-3ee02d0edfe7                 30855.065644   \n",
      "0405c848-f9bf-4a27-9fc6-62b624287609                 39519.375427   \n",
      "0c183eb9-04eb-4337-88c9-cc9a0f7c7f7c                 20903.998453   \n",
      "0cde90dd-f657-48ca-92a5-d6569580cedb                 32993.258739   \n",
      "\n",
      "                                      avg_daily_durations_non_social  ...  \\\n",
      "id                                                                    ...   \n",
      "01617409-e832-4bd9-b139-30189de7e827                       51.970424  ...   \n",
      "028f0ac3-1720-487e-b5eb-3ee02d0edfe7                       77.077691  ...   \n",
      "0405c848-f9bf-4a27-9fc6-62b624287609                       76.875205  ...   \n",
      "0c183eb9-04eb-4337-88c9-cc9a0f7c7f7c                       37.682042  ...   \n",
      "0cde90dd-f657-48ca-92a5-d6569580cedb                      170.592612  ...   \n",
      "\n",
      "                                      daily_durations_web  daily_events_web  \\\n",
      "id                                                                            \n",
      "01617409-e832-4bd9-b139-30189de7e827            11.913770               4.0   \n",
      "028f0ac3-1720-487e-b5eb-3ee02d0edfe7             4.997208              18.0   \n",
      "0405c848-f9bf-4a27-9fc6-62b624287609            16.398085               8.0   \n",
      "0c183eb9-04eb-4337-88c9-cc9a0f7c7f7c             5.244427               1.0   \n",
      "0cde90dd-f657-48ca-92a5-d6569580cedb             8.533237               1.0   \n",
      "\n",
      "                                      daily_durations_news  daily_events_news  \\\n",
      "id                                                                              \n",
      "01617409-e832-4bd9-b139-30189de7e827              0.871387           2.846154   \n",
      "028f0ac3-1720-487e-b5eb-3ee02d0edfe7              3.519170           2.450000   \n",
      "0405c848-f9bf-4a27-9fc6-62b624287609              3.789166           5.263158   \n",
      "0c183eb9-04eb-4337-88c9-cc9a0f7c7f7c              3.860725           1.884615   \n",
      "0cde90dd-f657-48ca-92a5-d6569580cedb             12.339274           4.607143   \n",
      "\n",
      "                                      avg_daily_durations_instagram  \\\n",
      "id                                                                    \n",
      "01617409-e832-4bd9-b139-30189de7e827                      16.484651   \n",
      "028f0ac3-1720-487e-b5eb-3ee02d0edfe7                       0.706203   \n",
      "0405c848-f9bf-4a27-9fc6-62b624287609                       7.701448   \n",
      "0c183eb9-04eb-4337-88c9-cc9a0f7c7f7c                      50.856717   \n",
      "0cde90dd-f657-48ca-92a5-d6569580cedb                       2.460147   \n",
      "\n",
      "                                      avg_daily_events_instagram  \\\n",
      "id                                                                 \n",
      "01617409-e832-4bd9-b139-30189de7e827                    8.117647   \n",
      "028f0ac3-1720-487e-b5eb-3ee02d0edfe7                    1.375000   \n",
      "0405c848-f9bf-4a27-9fc6-62b624287609                    3.650000   \n",
      "0c183eb9-04eb-4337-88c9-cc9a0f7c7f7c                   14.318182   \n",
      "0cde90dd-f657-48ca-92a5-d6569580cedb                    1.666667   \n",
      "\n",
      "                                      daily_durations_calling  \\\n",
      "id                                                              \n",
      "01617409-e832-4bd9-b139-30189de7e827                 8.321474   \n",
      "028f0ac3-1720-487e-b5eb-3ee02d0edfe7                 0.355383   \n",
      "0405c848-f9bf-4a27-9fc6-62b624287609                 2.504987   \n",
      "0c183eb9-04eb-4337-88c9-cc9a0f7c7f7c                 3.022147   \n",
      "0cde90dd-f657-48ca-92a5-d6569580cedb                 0.856694   \n",
      "\n",
      "                                      daily_events_calling  \\\n",
      "id                                                           \n",
      "01617409-e832-4bd9-b139-30189de7e827             42.888889   \n",
      "028f0ac3-1720-487e-b5eb-3ee02d0edfe7              2.000000   \n",
      "0405c848-f9bf-4a27-9fc6-62b624287609              8.142857   \n",
      "0c183eb9-04eb-4337-88c9-cc9a0f7c7f7c              9.017241   \n",
      "0cde90dd-f657-48ca-92a5-d6569580cedb              3.333333   \n",
      "\n",
      "                                      avg_daily_unique_apps  \\\n",
      "id                                                            \n",
      "01617409-e832-4bd9-b139-30189de7e827              27.352941   \n",
      "028f0ac3-1720-487e-b5eb-3ee02d0edfe7              25.480000   \n",
      "0405c848-f9bf-4a27-9fc6-62b624287609              26.166667   \n",
      "0c183eb9-04eb-4337-88c9-cc9a0f7c7f7c              21.420290   \n",
      "0cde90dd-f657-48ca-92a5-d6569580cedb              27.464286   \n",
      "\n",
      "                                      mins_between_sessions  \n",
      "id                                                           \n",
      "01617409-e832-4bd9-b139-30189de7e827              23.584685  \n",
      "028f0ac3-1720-487e-b5eb-3ee02d0edfe7              20.065113  \n",
      "0405c848-f9bf-4a27-9fc6-62b624287609              23.049165  \n",
      "0c183eb9-04eb-4337-88c9-cc9a0f7c7f7c              75.825539  \n",
      "0cde90dd-f657-48ca-92a5-d6569580cedb              20.248299  \n",
      "\n",
      "[5 rows x 21 columns]\n"
     ]
    }
   ],
   "source": [
    "avg_feat = pd.merge(avg_daily_use_work_hours, avg_daily_social_applications, on=['id']\n",
    ").merge(avg_freq_social_applications, on=['id']\n",
    ").merge(avg_daily_use_evening, on=['id']\n",
    ").merge(avg_daily_use_night, on=['id']\n",
    ").merge(avg_freq_evening_use, on=['id']\n",
    ").merge(avg_freq_night_use, on=['id']\n",
    ").merge(avg_time_between_notif_sessions, on=['id']\n",
    ").merge(weekly_use_variability, on=['id']\n",
    ").merge(avg_daily_non_social_applications, on=['id']\n",
    ").merge(avg_freq_non_social_applications, on=['id']\n",
    ").merge(avg_browser_use, on=['id']\n",
    ").merge(avg_freq_browser_use, on=['id']\n",
    ").merge(avg_news_use, on=['id']\n",
    ").merge(avg_freq_news_use, on=['id']\n",
    ").merge(avg_daily_instagram_use, on=['id']\n",
    ").merge(avg_freq_instagram_use, on=['id']\n",
    ").merge(avg_daily_call_duration, on=['id']\n",
    ").merge(avg_freq_daily_call, on=['id']\n",
    ").merge(avg_daily_unique_apps, on=['id']\n",
    ").merge(avg_daily_time_between_sessions, on=['id']).groupby('id').first()\n",
    "\n",
    "print(avg_feat.head())"
   ],
   "metadata": {
    "collapsed": false,
    "pycharm": {
     "name": "#%%\n"
    }
   }
  }
 ],
 "metadata": {
  "kernelspec": {
   "name": "python3",
   "language": "python",
   "display_name": "Python 3 (ipykernel)"
  },
  "language_info": {
   "codemirror_mode": {
    "name": "ipython",
    "version": 2
   },
   "file_extension": ".py",
   "mimetype": "text/x-python",
   "name": "python",
   "nbconvert_exporter": "python",
   "pygments_lexer": "ipython2",
   "version": "2.7.6"
  }
 },
 "nbformat": 4,
 "nbformat_minor": 0
}