{
 "cells": [
  {
   "cell_type": "code",
   "execution_count": 19,
   "metadata": {
    "collapsed": true
   },
   "outputs": [],
   "source": [
    "# import libraries\n",
    "import mobiledna.core.sessions\n",
    "from mobiledna.core.appevents import Appevents\n",
    "from mobiledna.core.sessions import Sessions\n",
    "from mobiledna.core.notifications import Notifications\n",
    "\n",
    "import pandas as pd\n",
    "\n",
    "pd.set_option('display.max_rows', 2000)\n",
    "pd.set_option('display.max_columns', 500)\n",
    "pd.set_option('display.width', 1000)"
   ]
  },
  {
   "cell_type": "markdown",
   "source": [
    "import necessary files:"
   ],
   "metadata": {
    "collapsed": false,
    "pycharm": {
     "name": "#%% md\n"
    }
   }
  },
  {
   "cell_type": "code",
   "execution_count": 20,
   "outputs": [
    {
     "name": "stdout",
     "output_type": "stream",
     "text": [
      "2021-10-22 12:00:44 - Recognized file type as <parquet>.\n",
      "2021-10-22 12:00:44 - 'load' took 0.115 seconds to complete.\n",
      "2021-10-22 12:00:44 - Recognized file type as <csv>.\n"
     ]
    },
    {
     "name": "stderr",
     "output_type": "stream",
     "text": [
      "/Users/simonperneel/Documents/Imec-mict/mobiledna_py/mobiledna/core/help.py:178: FutureWarning: The error_bad_lines argument has been deprecated and will be removed in a future version.\n",
      "\n",
      "\n",
      "  res = f(*args, **kwargs)\n"
     ]
    },
    {
     "name": "stdout",
     "output_type": "stream",
     "text": [
      "2021-10-22 12:00:47 - 'load' took 2.558 seconds to complete.\n"
     ]
    }
   ],
   "source": [
    "# app events from all waves\n",
    "ae_wave2 = Appevents.load_data(\"/Users/simonperneel/Documents/Imec-mict/mobiledna_py/mobiledna/data/data_nervosity/wave_2/210310_nervocity_appevents_panelkitid.parquet\")\n",
    "ae_wave3 = Appevents.load_data(\"/Users/simonperneel/Documents/Imec-mict/mobiledna_py/mobiledna/data/data_nervosity/wave_3_2/210803_nervocity_appevents.csv\", sep=';')\n",
    "\n",
    "df_ae_wave2 = ae_wave2.__data__\n",
    "df_ae_wave2.pop(\"panelkitid\")\n",
    "df_ae_wave3 = ae_wave3.__data__\n",
    "\n",
    "# date ranges to filter on\n",
    "df_dates = pd.read_csv(\"/Users/simonperneel/Documents/Imec-mict/mobiledna_py/mobiledna/data/data_nervosity/dates_nervo_allwaves.csv\", sep=';')# date ranges to filter on\n",
    "df_dates = pd.read_csv(\"/Users/simonperneel/Documents/Imec-mict/mobiledna_py/mobiledna/data/data_nervosity/dates_nervo_allwaves.csv\", sep=';')\n",
    "\n",
    "# mapping panelkit-id and mobileDNA-id\n",
    "df_mapping = pd.read_csv(\"/Users/simonperneel/Documents/Imec-mict/mobiledna_py/mobiledna/data/data_nervosity/mobdna_mapping_w2w3.csv\", sep=';')\n",
    "df_mapping = df_mapping[['panelkit_id', 'mobdna_id','wave','campagne']].rename(columns={'mobdna_id': 'id'})\n"
   ],
   "metadata": {
    "collapsed": false,
    "pycharm": {
     "name": "#%%\n"
    }
   }
  },
  {
   "cell_type": "markdown",
   "source": [
    "Put data from two waves together:"
   ],
   "metadata": {
    "collapsed": false,
    "pycharm": {
     "name": "#%% md\n"
    }
   }
  },
  {
   "cell_type": "code",
   "execution_count": 21,
   "outputs": [
    {
     "name": "stdout",
     "output_type": "stream",
     "text": [
      "(1897178, 17)\n"
     ]
    }
   ],
   "source": [
    "df_ae_all_waves = pd.concat([df_ae_wave2, df_ae_wave3])\n",
    "print(df_ae_all_waves.shape)"
   ],
   "metadata": {
    "collapsed": false,
    "pycharm": {
     "name": "#%%\n"
    }
   }
  },
  {
   "cell_type": "markdown",
   "source": [
    "Add panelkit-id to mobileDNA-id:"
   ],
   "metadata": {
    "collapsed": false,
    "pycharm": {
     "name": "#%% md\n"
    }
   }
  },
  {
   "cell_type": "code",
   "execution_count": 22,
   "outputs": [
    {
     "name": "stdout",
     "output_type": "stream",
     "text": [
      "109 id's lost from 420 id's after adding panelkit-id\n",
      "                                     id     model     session               startTime                 endTime  notification  notificationId                 application  battery   latitude  longitude   studyKey        surveyId data_version  startDate    endDate  duration                           panelkit_id wave  campagne       date\n",
      "0  0062be5c-4633-43ee-9785-2b164c1f1577  SM-A202F  1611987751 2021-01-30 07:22:38.553 2021-01-30 07:25:29.654         False               0         com.facebook.katana       44  50.985508   3.700484  nervocity  23121992inanjo          1.6 2021-01-30 2021-01-30   171.101  c32add21-2fe3-11eb-9dd4-cb04303e036e   w2         1 2021-01-30\n",
      "1  0062be5c-4633-43ee-9785-2b164c1f1577  SM-A202F  1611987963 2021-01-30 07:26:06.485 2021-01-30 07:32:15.377         False               0       com.instagram.android       43  50.985460   3.700487  nervocity  23121992inanjo          1.6 2021-01-30 2021-01-30   368.892  c32add21-2fe3-11eb-9dd4-cb04303e036e   w2         1 2021-01-30\n",
      "2  0062be5c-4633-43ee-9785-2b164c1f1577  SM-A202F  1611990494 2021-01-30 08:08:14.880 2021-01-30 08:08:24.698         False               0  com.sec.android.app.camera       39  50.985500   3.700521  nervocity  23121992inanjo          1.6 2021-01-30 2021-01-30     9.818  c32add21-2fe3-11eb-9dd4-cb04303e036e   w2         1 2021-01-30\n",
      "3  0062be5c-4633-43ee-9785-2b164c1f1577  SM-A202F  1611991024 2021-01-30 08:17:35.652 2021-01-30 08:18:05.807         False               0           com.spotify.music       38  50.985500   3.700521  nervocity  23121992inanjo          1.6 2021-01-30 2021-01-30    30.155  c32add21-2fe3-11eb-9dd4-cb04303e036e   w2         1 2021-01-30\n",
      "4  0062be5c-4633-43ee-9785-2b164c1f1577  SM-A202F  1611991024 2021-01-30 08:18:07.730 2021-01-30 08:18:22.983         False               0           com.spotify.music       38  50.985500   3.700521  nervocity  23121992inanjo          1.6 2021-01-30 2021-01-30    15.253  c32add21-2fe3-11eb-9dd4-cb04303e036e   w2         1 2021-01-30\n"
     ]
    }
   ],
   "source": [
    "id1 = df_ae_all_waves['id'].nunique()\n",
    "df_ae_all_waves = df_ae_all_waves.merge(df_mapping, on='id')\n",
    "df_ae_all_waves['date'] = df_ae_all_waves['startTime'].dt.date\n",
    "df_ae_all_waves['date'] = pd.to_datetime(df_ae_all_waves['date'])\n",
    "id2 = df_ae_all_waves['id'].nunique()\n",
    "\n",
    "print(f\"{(id1 - id2)} id's lost from {id1} id's after adding panelkit-id\")\n",
    "\n",
    "print(df_ae_all_waves.head())"
   ],
   "metadata": {
    "collapsed": false,
    "pycharm": {
     "name": "#%%\n"
    }
   }
  },
  {
   "cell_type": "code",
   "execution_count": 23,
   "outputs": [
    {
     "name": "stdout",
     "output_type": "stream",
     "text": [
      "878795/1488155 Appevents removed that were not in the date range\n"
     ]
    }
   ],
   "source": [
    "df_dates['date'] = pd.to_datetime(df_dates['date'])\n",
    "\n",
    "all_entries = df_ae_all_waves.shape[0]\n",
    "df_ae_filtered = df_ae_all_waves[df_ae_all_waves['date'].isin(df_dates['date'])]\n",
    "df_ae_filtered.pop('date')\n",
    "filtered_entries = df_ae_filtered.shape[0]\n",
    "\n",
    "print(f\"{(all_entries - filtered_entries)}/{all_entries} Appevents removed that were not in the date range\")"
   ],
   "metadata": {
    "collapsed": false,
    "pycharm": {
     "name": "#%%\n"
    }
   }
  },
  {
   "cell_type": "markdown",
   "source": [
    "Export to csv"
   ],
   "metadata": {
    "collapsed": false,
    "pycharm": {
     "name": "#%% md\n"
    }
   }
  },
  {
   "cell_type": "code",
   "execution_count": 24,
   "outputs": [],
   "source": [
    "df_ae_filtered.to_csv(\"filtered_appevents.csv\", sep=';', index=False)\n",
    "\n",
    "\n",
    "\n",
    "\n"
   ],
   "metadata": {
    "collapsed": false,
    "pycharm": {
     "name": "#%%\n"
    }
   }
  }
 ],
 "metadata": {
  "kernelspec": {
   "display_name": "Python 3",
   "language": "python",
   "name": "python3"
  },
  "language_info": {
   "codemirror_mode": {
    "name": "ipython",
    "version": 2
   },
   "file_extension": ".py",
   "mimetype": "text/x-python",
   "name": "python",
   "nbconvert_exporter": "python",
   "pygments_lexer": "ipython2",
   "version": "2.7.6"
  }
 },
 "nbformat": 4,
 "nbformat_minor": 0
}