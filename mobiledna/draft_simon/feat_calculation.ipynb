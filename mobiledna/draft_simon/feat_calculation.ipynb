{
 "cells": [
  {
   "cell_type": "markdown",
   "metadata": {
    "collapsed": true,
    "pycharm": {
     "name": "#%% md\n"
    }
   },
   "source": [
    "# mBrain: Feature calculation"
   ]
  },
  {
   "cell_type": "code",
   "source": [
    "from mobiledna.core.appevents import Appevents\n",
    "from mobiledna.core.sessions import Sessions\n",
    "from mobiledna.core.notifications import Notifications\n",
    "\n",
    "import numpy as np\n",
    "import pandas as pd\n",
    "from sklearn.model_selection import KFold\n",
    "from sklearn.ensemble import RandomForestClassifier\n",
    "from sklearn.metrics import classification_report"
   ],
   "metadata": {
    "collapsed": false,
    "pycharm": {
     "name": "#%%\n"
    }
   },
   "execution_count": 1,
   "outputs": []
  },
  {
   "cell_type": "markdown",
   "source": [
    "## 1. Open the needed files"
   ],
   "metadata": {
    "collapsed": false,
    "pycharm": {
     "name": "#%% md\n"
    }
   }
  },
  {
   "cell_type": "code",
   "execution_count": 2,
   "outputs": [
    {
     "name": "stdout",
     "output_type": "stream",
     "text": [
      "2021-10-12 16:45:42 - Recognized file type as <csv>.\n"
     ]
    },
    {
     "name": "stderr",
     "output_type": "stream",
     "text": [
      "/Users/simonperneel/Documents/Imec-mict/mobiledna_py/mobiledna/core/help.py:178: FutureWarning: The error_bad_lines argument has been deprecated and will be removed in a future version.\n",
      "\n",
      "\n",
      "  res = f(*args, **kwargs)\n"
     ]
    },
    {
     "name": "stdout",
     "output_type": "stream",
     "text": [
      "2021-10-12 16:45:45 - 'load' took 2.222 seconds to complete.\n",
      "2021-10-12 16:45:46 - Recognized file type as <parquet>.\n",
      "2021-10-12 16:45:50 - 'load' took 3.977 seconds to complete.\n",
      "2021-10-12 16:46:12 - Recognized file type as <csv>.\n",
      "2021-10-12 16:46:13 - 'load' took 0.976 seconds to complete.\n"
     ]
    },
    {
     "name": "stderr",
     "output_type": "stream",
     "text": [
      "Adding category: 100%|██████████| 1489208/1489208 [00:00<00:00, 1652794.85it/s]\n",
      "Adding tod <startTime>: 100%|██████████| 1489208/1489208 [00:00<00:00, 2112025.59it/s]\n",
      "Adding category: 100%|██████████| 27772223/27772223 [00:15<00:00, 1741453.90it/s]\n",
      "Adding tod <time>: 100%|██████████| 27772223/27772223 [00:12<00:00, 2269963.03it/s]\n"
     ]
    },
    {
     "name": "stdout",
     "output_type": "stream",
     "text": [
      "Modified appEvents data file: \n",
      "                                           id    model     session               startTime                 endTime  notification  notificationId                        application  battery   latitude  longitude   studyKey        surveyId data_version  startDate    endDate  duration category startTOD         day\n",
      "1320339  001b6dc4-9c95-4c7c-a21a-56b5deca6689  ELE-L29  1622720128 2021-06-03 13:35:58.071 2021-06-03 13:36:02.945         False               0        com.huawei.android.launcher       63  51.057247   3.706872  nervocity  03062021lepato        1.6.1 2021-06-03 2021-06-03     4.874  unknown     noon  2021-06-03\n",
      "1320340  001b6dc4-9c95-4c7c-a21a-56b5deca6689  ELE-L29  1622720128 2021-06-03 13:36:05.643 2021-06-03 13:36:22.971         False               0  com.google.android.apps.messaging       63  51.057247   3.706872  nervocity  03062021lepato        1.6.1 2021-06-03 2021-06-03    17.328     chat     noon  2021-06-03\n",
      "1320293  001b6dc4-9c95-4c7c-a21a-56b5deca6689  ELE-L29  1622720167 2021-06-03 13:36:25.026 2021-06-03 13:36:28.287         False               0                com.facebook.katana       63  51.057247   3.706872  nervocity  03062021lepato        1.6.1 2021-06-03 2021-06-03     3.261   social     noon  2021-06-03\n",
      "1320310  001b6dc4-9c95-4c7c-a21a-56b5deca6689  ELE-L29  1622720167 2021-06-03 13:36:30.215 2021-06-03 13:36:31.701         False               0        com.huawei.android.launcher       63  51.057247   3.706872  nervocity  03062021lepato        1.6.1 2021-06-03 2021-06-03     1.486  unknown     noon  2021-06-03\n",
      "1320294  001b6dc4-9c95-4c7c-a21a-56b5deca6689  ELE-L29  1622720167 2021-06-03 13:36:38.057 2021-06-03 13:36:38.927         False               0        com.huawei.android.launcher       63  51.057247   3.706872  nervocity  03062021lepato        1.6.1 2021-06-03 2021-06-03     0.870  unknown     noon  2021-06-03\n"
     ]
    }
   ],
   "source": [
    "# file with the stress labels\n",
    "df_eod_experiencekit = pd.read_parquet(\"../data/data_nervosity/df_eod_experiencekit.parquet\")\n",
    "\n",
    "# file with the mapping of the mobileDNA-id and the panelkit-id\n",
    "df_mapping = pd.read_csv(\"../data/data_nervosity/MobileDNA_mapping_panelkitid.csv\", sep=';')\n",
    "\n",
    "# files needed for the feature calculation\n",
    "ae = Appevents.load_data(\"../data/data_nervosity/wave_3_2/210803_nervocity_appevents.csv\", sep=';')\n",
    "no = Notifications.load_data(\"../data/data_nervosity/wave_3_2/210803_nervocity_notifications.parquet\")\n",
    "se = Sessions.load_data(\"../data/data_nervosity/wave_3_2/210803_nervocity_sessions.csv\", sep=';')\n",
    "\n",
    "ae.add_category(scrape=False).add_time_of_day()\n",
    "no.add_category(scrape=False)\n",
    "no.add_time_of_day(time_col='time')\n",
    "no.__data__ = no.__data__.rename(columns={'TOD': 'startTOD'})  # sketchy but otherwise it won't work\n",
    "\n",
    "# only keep the columns we need in the mapping file and experiencekit data\n",
    "df_mapping = df_mapping[['panelkit_id', 'MobileDNA_id']]\n",
    "df_eod_experiencekit = df_eod_experiencekit[['panelkit_id', 'daily_stress_level', 'timestamp']]\n",
    "df_eod_experiencekit['day'] = df_eod_experiencekit['timestamp'].dt.date  # only keep date from timestamp\n",
    "df_eod_experiencekit.pop('timestamp')\n",
    "\n",
    "# add a column with the day for each appEvent\n",
    "ae.__data__['day'] = ae.__data__['startTime'].dt.date\n",
    "print('Modified appEvents data file: ')\n",
    "print(ae.__data__.head())"
   ],
   "metadata": {
    "collapsed": false,
    "pycharm": {
     "name": "#%%\n"
    }
   }
  },
  {
   "cell_type": "code",
   "execution_count": 3,
   "outputs": [
    {
     "name": "stdout",
     "output_type": "stream",
     "text": [
      "2021-10-12 16:46:55 - Recognized file type as <csv>.\n",
      "2021-10-12 16:46:55 - 'load' took 0.003 seconds to complete.\n"
     ]
    },
    {
     "name": "stderr",
     "output_type": "stream",
     "text": [
      "/Users/simonperneel/Documents/Imec-mict/mobiledna_py/mobiledna/core/help.py:178: FutureWarning: The error_bad_lines argument has been deprecated and will be removed in a future version.\n",
      "\n",
      "\n",
      "  res = f(*args, **kwargs)\n"
     ]
    }
   ],
   "source": [
    "# load dummy data (for testing)\n",
    "no_dummy = Notifications.load_data(\"./dummy_notifications.csv\", sep=';')"
   ],
   "metadata": {
    "collapsed": false,
    "pycharm": {
     "name": "#%%\n"
    }
   }
  },
  {
   "cell_type": "markdown",
   "source": [
    "## Output some info about the files\n",
    "Shapes of the files:"
   ],
   "metadata": {
    "collapsed": false,
    "pycharm": {
     "name": "#%% md\n"
    }
   }
  },
  {
   "cell_type": "code",
   "execution_count": 4,
   "outputs": [
    {
     "name": "stdout",
     "output_type": "stream",
     "text": [
      "stress LABELS file: \n",
      "> (rows, columns): (4257, 3)\n",
      "----------------\n",
      "\n",
      "MAPPINGS file: \n",
      "> (rows, columns): (385, 2)\n",
      "----------------\n",
      "\n",
      "MobileDNA DATA file: \n",
      "> (rows, columns): (1489208, 20)\n",
      "----------------\n",
      "\n"
     ]
    }
   ],
   "source": [
    "# stress labels file\n",
    "print(\"stress LABELS file: \")\n",
    "print(f'> (rows, columns): {df_eod_experiencekit.shape[0], df_eod_experiencekit.shape[1]}')\n",
    "# show some labels\n",
    "#print(df_eod_experiencekit.daily_stress_level.head(3))\n",
    "# stress levels distribution\n",
    "#print(df_eod_experiencekit['daily_stress_level'].describe())\n",
    "#print(df_eod_experiencekit['daily_stress_level'].value_counts(normalize=True))\n",
    "print(\"----------------\")\n",
    "print(\"\")\n",
    "\n",
    "# mapping file\n",
    "print(\"MAPPINGS file: \")\n",
    "print(f'> (rows, columns): {df_mapping.shape[0], df_mapping.shape[1]}')\n",
    "print(\"----------------\")\n",
    "print(\"\")\n",
    "\n",
    "# features file\n",
    "print(\"MobileDNA DATA file: \")\n",
    "print(f'> (rows, columns): {ae.__data__.shape[0], ae.__data__.shape[1]}')\n",
    "print(\"----------------\")\n",
    "print(\"\")"
   ],
   "metadata": {
    "collapsed": false,
    "pycharm": {
     "name": "#%%\n"
    }
   }
  },
  {
   "cell_type": "markdown",
   "source": [
    "number of unique id's in each file:"
   ],
   "metadata": {
    "collapsed": false
   }
  },
  {
   "cell_type": "code",
   "execution_count": 5,
   "outputs": [
    {
     "name": "stdout",
     "output_type": "stream",
     "text": [
      "number of unique id's in the mobileDNA data: 326\n",
      "number of unique id's in the mapping file: 274\n",
      "number of unique panelkit id's in the mapping file: 377\n",
      "number of unique panelkit id's in the experiencekit data: 447\n",
      "-----------\n",
      "\n"
     ]
    }
   ],
   "source": [
    "\n",
    "print(f\"number of unique id's in the mobileDNA data: {ae.__data__['id'].nunique()}\")\n",
    "print(f\"number of unique id's in the mapping file: {df_mapping['MobileDNA_id'].nunique()}\")\n",
    "print(f\"number of unique panelkit id's in the mapping file: {df_mapping['panelkit_id'].nunique()}\")\n",
    "print(f\"number of unique panelkit id's in the experiencekit data: {df_eod_experiencekit['panelkit_id'].nunique()}\")\n",
    "print(\"-----------\")\n",
    "print(\"\")"
   ],
   "metadata": {
    "collapsed": false,
    "pycharm": {
     "name": "#%%\n"
    }
   }
  },
  {
   "cell_type": "markdown",
   "source": [
    "## 2. Join the dataframes"
   ],
   "metadata": {
    "collapsed": false,
    "pycharm": {
     "name": "#%% md\n"
    }
   }
  },
  {
   "cell_type": "code",
   "execution_count": 6,
   "outputs": [
    {
     "name": "stdout",
     "output_type": "stream",
     "text": [
      "number of unique id's after adding the panelkit-id to the MobileDNA data: 216\n",
      "number of entries in the MobileDNA data: 932781\n",
      "number of entries in the MobileDNA data after adding the stresslabels: 300105\n"
     ]
    }
   ],
   "source": [
    "# add the panelkit-id's to the mobileDNA data for shared MobileDNA id (inner join)\n",
    "df_mapping = df_mapping.rename(columns={'MobileDNA_id': 'id'})\n",
    "ae.__data__ = ae.__data__.merge(df_mapping, on='id')\n",
    "\n",
    "print(f\"number of unique id's after adding the panelkit-id to the MobileDNA data: {ae.__data__['id'].nunique()}\")\n",
    "print(f\"number of entries in the MobileDNA data: {ae.__data__.shape[0]}\")\n",
    "# add the stress-level from experience-kit data to the mobileDNA data (inner join on panelkit-id and day)\n",
    "ae.__data__ = pd.merge(ae.__data__, df_eod_experiencekit, on=['day', 'panelkit_id'])\n",
    "print(f\"number of entries in the MobileDNA data after adding the stresslabels: {ae.__data__.shape[0]}\")\n",
    "\n",
    "#print(ae.__data__['category'].unique())"
   ],
   "metadata": {
    "collapsed": false,
    "pycharm": {
     "name": "#%%\n"
    }
   }
  },
  {
   "cell_type": "markdown",
   "source": [
    "The resulting file with the stress levels mapped to the mobileDNA-id's:"
   ],
   "metadata": {
    "collapsed": false,
    "pycharm": {
     "name": "#%% md\n"
    }
   },
   "outputs": [
    {
     "ename": "SyntaxError",
     "evalue": "invalid syntax (2233753011.py, line 1)",
     "output_type": "error",
     "traceback": [
      "\u001B[0;36m  File \u001B[0;32m\"/var/folders/r1/mgm0ws211kg73r04pnxb4mjw0000gn/T/ipykernel_1213/2233753011.py\"\u001B[0;36m, line \u001B[0;32m1\u001B[0m\n\u001B[0;31m    The resulting file with the stress levels mapped to the mobileDNA-id's:\u001B[0m\n\u001B[0m        ^\u001B[0m\n\u001B[0;31mSyntaxError\u001B[0m\u001B[0;31m:\u001B[0m invalid syntax\n"
     ]
    }
   ],
   "execution_count": 375
  },
  {
   "cell_type": "code",
   "execution_count": 7,
   "outputs": [
    {
     "name": "stdout",
     "output_type": "stream",
     "text": [
      "                                     id           model     session               startTime                 endTime  notification  notificationId                   application  battery   latitude  longitude   studyKey        surveyId data_version  startDate    endDate  duration category       startTOD         day                           panelkit_id daily_stress_level\n",
      "0  00534866-5655-4e6c-ba15-dd5b5437041a  moto g(8) plus  1623038430 2021-06-07 06:15:00.433 2021-06-07 06:15:10.007          True              66  com.google.android.deskclock      100  51.069824   3.755381  nervocity  21061975frgear        1.6.1 2021-06-07 2021-06-07     9.574    clock  early_morning  2021-06-07  4af7b991-a5b3-11eb-9dd4-cb04303e036e                  5\n",
      "1  00534866-5655-4e6c-ba15-dd5b5437041a  moto g(8) plus  1623039300 2021-06-07 06:30:00.377 2021-06-07 06:30:10.109          True              61  com.google.android.deskclock      100  51.069817   3.755354  nervocity  21061975frgear        1.6.1 2021-06-07 2021-06-07     9.732    clock  early_morning  2021-06-07  4af7b991-a5b3-11eb-9dd4-cb04303e036e                  5\n",
      "2  00534866-5655-4e6c-ba15-dd5b5437041a  moto g(8) plus  1623040540 2021-06-07 06:36:08.277 2021-06-07 06:37:42.743         False               0  com.microsoft.office.outlook      100  51.069817   3.755354  nervocity  21061975frgear        1.6.1 2021-06-07 2021-06-07    94.466    email  early_morning  2021-06-07  4af7b991-a5b3-11eb-9dd4-cb04303e036e                  5\n",
      "3  00534866-5655-4e6c-ba15-dd5b5437041a  moto g(8) plus  1623040540 2021-06-07 06:37:42.990 2021-06-07 06:37:51.041          True               0         com.google.android.gm      100  51.069817   3.755354  nervocity  21061975frgear        1.6.1 2021-06-07 2021-06-07     8.051    email  early_morning  2021-06-07  4af7b991-a5b3-11eb-9dd4-cb04303e036e                  5\n",
      "4  00534866-5655-4e6c-ba15-dd5b5437041a  moto g(8) plus  1623040540 2021-06-07 06:37:52.758 2021-06-07 06:40:11.473         False               0          be.argenta.bankieren      100  51.069817   3.755354  nervocity  21061975frgear        1.6.1 2021-06-07 2021-06-07   138.715  banking  early_morning  2021-06-07  4af7b991-a5b3-11eb-9dd4-cb04303e036e                  5\n"
     ]
    }
   ],
   "source": [
    "print(ae.__data__.head())"
   ],
   "metadata": {
    "collapsed": false,
    "pycharm": {
     "name": "#%%\n"
    }
   }
  },
  {
   "cell_type": "markdown",
   "source": [
    "## 3. Feature calculation\n",
    "All features from literature are listed [here](./Constructlijst_features.xlsx).\n",
    "### Stress Features\n",
    "#### General screen time"
   ],
   "metadata": {
    "collapsed": false,
    "pycharm": {
     "name": "#%% md\n"
    }
   }
  },
  {
   "cell_type": "code",
   "execution_count": 8,
   "outputs": [
    {
     "name": "stdout",
     "output_type": "stream",
     "text": [
      "id                                    day       \n",
      "00534866-5655-4e6c-ba15-dd5b5437041a  2021-06-07    131.344917\n",
      "                                      2021-06-08    122.027483\n",
      "                                      2021-06-09    136.289317\n",
      "                                      2021-06-11    190.306950\n",
      "                                      2021-06-12     80.732533\n",
      "Name: daily_durations, dtype: float64\n"
     ]
    }
   ],
   "source": [
    "#df_features = ae.__data__.groupby(['id', 'day']).agg()\n",
    "general_screen_time = (ae.get_daily_duration(series_unit='day') / 60)\n",
    "print(general_screen_time.head())"
   ],
   "metadata": {
    "collapsed": false,
    "pycharm": {
     "name": "#%%\n"
    }
   }
  },
  {
   "cell_type": "markdown",
   "source": [
    "#### Smartphone use frequency"
   ],
   "metadata": {
    "collapsed": false,
    "pycharm": {
     "name": "#%% md\n"
    }
   }
  },
  {
   "cell_type": "code",
   "execution_count": 9,
   "outputs": [
    {
     "name": "stdout",
     "output_type": "stream",
     "text": [
      "id                                    day       \n",
      "00534866-5655-4e6c-ba15-dd5b5437041a  2021-06-07    155.0\n",
      "                                      2021-06-08    106.0\n",
      "Name: daily_events, dtype: float64\n"
     ]
    }
   ],
   "source": [
    "smartphone_use_freq = ae.get_daily_events(series_unit=('day'))\n",
    "print(smartphone_use_freq.head(2))"
   ],
   "metadata": {
    "collapsed": false,
    "pycharm": {
     "name": "#%%\n"
    }
   }
  },
  {
   "cell_type": "markdown",
   "source": [
    "#### Checking behaviour"
   ],
   "metadata": {
    "collapsed": false,
    "pycharm": {
     "name": "#%% md\n"
    }
   }
  },
  {
   "cell_type": "code",
   "execution_count": 10,
   "outputs": [
    {
     "ename": "TypeError",
     "evalue": "rename() got an unexpected keyword argument 'columns'",
     "output_type": "error",
     "traceback": [
      "\u001B[0;31m---------------------------------------------------------------------------\u001B[0m",
      "\u001B[0;31mTypeError\u001B[0m                                 Traceback (most recent call last)",
      "\u001B[0;32m/var/folders/r1/mgm0ws211kg73r04pnxb4mjw0000gn/T/ipykernel_20920/1065396306.py\u001B[0m in \u001B[0;36m<module>\u001B[0;34m\u001B[0m\n\u001B[0;32m----> 1\u001B[0;31m \u001B[0mchecking_behaviour\u001B[0m \u001B[0;34m=\u001B[0m \u001B[0mse\u001B[0m\u001B[0;34m.\u001B[0m\u001B[0mget_daily_sessions\u001B[0m\u001B[0;34m(\u001B[0m\u001B[0mavg\u001B[0m\u001B[0;34m=\u001B[0m\u001B[0;32mFalse\u001B[0m\u001B[0;34m)\u001B[0m\u001B[0;34m\u001B[0m\u001B[0;34m\u001B[0m\u001B[0m\n\u001B[0m\u001B[1;32m      2\u001B[0m \u001B[0mprint\u001B[0m\u001B[0;34m(\u001B[0m\u001B[0mchecking_behaviour\u001B[0m\u001B[0;34m.\u001B[0m\u001B[0mhead\u001B[0m\u001B[0;34m(\u001B[0m\u001B[0;34m)\u001B[0m\u001B[0;34m)\u001B[0m\u001B[0;34m\u001B[0m\u001B[0;34m\u001B[0m\u001B[0m\n\u001B[1;32m      3\u001B[0m \u001B[0;34m\u001B[0m\u001B[0m\n\u001B[1;32m      4\u001B[0m \u001B[0mavg_checking_behaviour\u001B[0m \u001B[0;34m=\u001B[0m \u001B[0mse\u001B[0m\u001B[0;34m.\u001B[0m\u001B[0mget_daily_sessions\u001B[0m\u001B[0;34m(\u001B[0m\u001B[0mavg\u001B[0m\u001B[0;34m=\u001B[0m\u001B[0;32mTrue\u001B[0m\u001B[0;34m)\u001B[0m\u001B[0;34m\u001B[0m\u001B[0;34m\u001B[0m\u001B[0m\n\u001B[1;32m      5\u001B[0m \u001B[0mprint\u001B[0m\u001B[0;34m(\u001B[0m\u001B[0mavg_checking_behaviour\u001B[0m\u001B[0;34m.\u001B[0m\u001B[0mhead\u001B[0m\u001B[0;34m(\u001B[0m\u001B[0;34m)\u001B[0m\u001B[0;34m)\u001B[0m\u001B[0;34m\u001B[0m\u001B[0;34m\u001B[0m\u001B[0m\n",
      "\u001B[0;32m~/Documents/Imec-mict/mobiledna_py/mobiledna/core/sessions.py\u001B[0m in \u001B[0;36mget_daily_sessions\u001B[0;34m(self, avg)\u001B[0m\n\u001B[1;32m    272\u001B[0m                     \u001B[0mgroupby\u001B[0m\u001B[0;34m(\u001B[0m\u001B[0;34m'id'\u001B[0m\u001B[0;34m)\u001B[0m\u001B[0;34m[\u001B[0m\u001B[0;34m'startTime'\u001B[0m\u001B[0;34m]\u001B[0m\u001B[0;34m.\u001B[0m\u001B[0mmean\u001B[0m\u001B[0;34m(\u001B[0m\u001B[0;34m)\u001B[0m\u001B[0;34m.\u001B[0m\u001B[0mrename\u001B[0m\u001B[0;34m(\u001B[0m\u001B[0mname\u001B[0m\u001B[0;34m)\u001B[0m\u001B[0;34m\u001B[0m\u001B[0;34m\u001B[0m\u001B[0m\n\u001B[1;32m    273\u001B[0m         \u001B[0;32melse\u001B[0m\u001B[0;34m:\u001B[0m\u001B[0;34m\u001B[0m\u001B[0;34m\u001B[0m\u001B[0m\n\u001B[0;32m--> 274\u001B[0;31m             \u001B[0;32mreturn\u001B[0m \u001B[0mself\u001B[0m\u001B[0;34m.\u001B[0m\u001B[0m__data__\u001B[0m\u001B[0;34m.\u001B[0m\u001B[0mgroupby\u001B[0m\u001B[0;34m(\u001B[0m\u001B[0;34m[\u001B[0m\u001B[0;34m'id'\u001B[0m\u001B[0;34m,\u001B[0m \u001B[0;34m'startDate'\u001B[0m\u001B[0;34m]\u001B[0m\u001B[0;34m)\u001B[0m\u001B[0;34m[\u001B[0m\u001B[0;34m'startTime'\u001B[0m\u001B[0;34m]\u001B[0m\u001B[0;34m.\u001B[0m\u001B[0mcount\u001B[0m\u001B[0;34m(\u001B[0m\u001B[0;34m)\u001B[0m\u001B[0;34m.\u001B[0m\u001B[0mrename\u001B[0m\u001B[0;34m(\u001B[0m\u001B[0mname\u001B[0m\u001B[0;34m)\u001B[0m\u001B[0;34m.\u001B[0m\u001B[0mrename\u001B[0m\u001B[0;34m(\u001B[0m\u001B[0mcolumns\u001B[0m\u001B[0;34m=\u001B[0m\u001B[0;34m{\u001B[0m\u001B[0;34m\"startDate\"\u001B[0m\u001B[0;34m:\u001B[0m\u001B[0;34m\"day\"\u001B[0m\u001B[0;34m}\u001B[0m\u001B[0;34m)\u001B[0m\u001B[0;34m\u001B[0m\u001B[0;34m\u001B[0m\u001B[0m\n\u001B[0m\u001B[1;32m    275\u001B[0m \u001B[0;34m\u001B[0m\u001B[0m\n\u001B[1;32m    276\u001B[0m \u001B[0;34m\u001B[0m\u001B[0m\n",
      "\u001B[0;31mTypeError\u001B[0m: rename() got an unexpected keyword argument 'columns'"
     ]
    }
   ],
   "source": [
    "checking_behaviour = se.get_daily_sessions(avg=False)\n",
    "print(checking_behaviour.head())\n",
    "\n",
    "avg_checking_behaviour = se.get_daily_sessions(avg=True)\n",
    "print(avg_checking_behaviour.head())"
   ],
   "metadata": {
    "collapsed": false,
    "pycharm": {
     "name": "#%%\n"
    }
   }
  },
  {
   "cell_type": "markdown",
   "source": [
    "#### Smartphone multitasking"
   ],
   "metadata": {
    "collapsed": false,
    "pycharm": {
     "name": "#%% md\n"
    }
   }
  },
  {
   "cell_type": "code",
   "execution_count": null,
   "outputs": [],
   "source": [
    "# todo"
   ],
   "metadata": {
    "collapsed": false,
    "pycharm": {
     "name": "#%%\n"
    }
   }
  },
  {
   "cell_type": "markdown",
   "source": [
    "#### Duration MIM applications"
   ],
   "metadata": {
    "collapsed": false,
    "pycharm": {
     "name": "#%% md\n"
    }
   }
  },
  {
   "cell_type": "code",
   "source": [
    "duration_MIM_applications = (ae.get_daily_duration(category='chat', series_unit='day') / 60)\n",
    "print(duration_MIM_applications.head())"
   ],
   "metadata": {
    "collapsed": false,
    "pycharm": {
     "name": "#%%\n"
    }
   },
   "execution_count": null,
   "outputs": []
  },
  {
   "cell_type": "markdown",
   "source": [
    "#### Frequency MIM applications"
   ],
   "metadata": {
    "collapsed": false
   }
  },
  {
   "cell_type": "code",
   "execution_count": null,
   "outputs": [],
   "source": [
    "freq_MIM_applications = ae.get_daily_events(category='chat', series_unit='day')\n",
    "print(freq_MIM_applications.head())"
   ],
   "metadata": {
    "collapsed": false,
    "pycharm": {
     "name": "#%%\n"
    }
   }
  },
  {
   "cell_type": "markdown",
   "source": [
    "#### Notifications MIM applications"
   ],
   "metadata": {
    "collapsed": false
   }
  },
  {
   "cell_type": "code",
   "execution_count": null,
   "outputs": [],
   "source": [
    "daily_MIM_notifications = no.get_daily_notifications(category='chat', avg=False)\n",
    "print(daily_MIM_notifications.head())\n",
    "\n",
    "avg_daily_MIM_notifications = no.get_daily_notifications(category='chat', avg=True)\n",
    "print(avg_daily_MIM_notifications.head())"
   ],
   "metadata": {
    "collapsed": false,
    "pycharm": {
     "name": "#%%\n"
    }
   }
  },
  {
   "cell_type": "markdown",
   "source": [
    "#### (Average) daily use of MIM applications during work hours"
   ],
   "metadata": {
    "collapsed": false
   }
  },
  {
   "cell_type": "code",
   "execution_count": null,
   "outputs": [],
   "source": [
    "# TODO change morning & noon to work hours (8-16 => 9-17)\n",
    "daily_use_work_hours = (ae.get_daily_duration(time_of_day=['morning', 'noon'], category='chat', series_unit='day') / 60)\n",
    "print(daily_use_work_hours.head())\n",
    "\n",
    "avg_daily_use_work_hours = (ae.get_daily_duration(time_of_day=['morning', 'noon'], category='chat') / 60)\n",
    "print(avg_daily_use_work_hours.head())"
   ],
   "metadata": {
    "collapsed": false,
    "pycharm": {
     "name": "#%%\n"
    }
   }
  },
  {
   "cell_type": "markdown",
   "source": [
    "#### (Average) amount of social media notifications"
   ],
   "metadata": {
    "collapsed": false
   }
  },
  {
   "cell_type": "code",
   "execution_count": null,
   "outputs": [],
   "source": [
    "# first put some more specific social categories in one general 'Social' category\n",
    "unknown_categories = {\"banking\": [\"com.coinbase.pro\", \"com.kraken.trade\", \"com.kraken.invest.app\"],\"medical\": [\"be.imec.apt.stressy\",\"be.imec.apt.ichange.chillplusclient\",\"be.ilabt.contextaware.empatica\",\"be.ilabt.contextaware.mbrain\",\"be.sciensano.coronalert\",\"com.j_ware.polarsensorlogger\",\"com.urbandroid.sleep\",\"heartzones.com.heartzonestraining\",\"com.empatica.e4realtime\",],\"calling\": [\"com.oneplus.dialer\"],\"calendar\": [\"com.komorebi.SimpleCalendar\"],\"productivity\": [\"partl.workinghours\"],}\n",
    "\n",
    "category_map = {\"medical\": \"Health\",\"chat\": \"Social\",\"email\": \"Productivity\",\"system\": \"none\", \"unknown\": \"none\",\n",
    "                \"social\": \"Social\",\"tools\": \"Productivity\",\"browser\": \"Web\",\"productivity\": \"Productivity\",\n",
    "                \"photography\": \"none\",\"business\": \"Productivity\",\"music&audio\": \"Entertainment\",\"clock\": \"none\",\n",
    "                \"banking\": \"Finance\",\"lifestyle\": \"none\",\"health&fitness\": \"Health\",\"news&magazines\": \"News\",\n",
    "                \"gaming\": \"Entertainment\",\"calling\": \"Calling\",\"calendar\": \"Productivity\",\"video\": \"Entertainment\",\n",
    "                \"maps&navigation\": \"Navigation\",\"food & drink\": \"none\",\"finance\": \"Finance\",\"communication\": \"Social\",\n",
    "                \"ecommerce\": \"Shopping\",\"retail\": \"Shopping\",\"weather\": \"none\",\"sports\": \"none\",\"smartconnectivity\": \"none\",\n",
    "                \"card\": \"Entertainment\",\"travel & local\": \"none\",\"education\": \"Productivity\",\"entertainment\": \"Entertainment\",\n",
    "                \"music & audio\": \"Entertainment\",\"books & reference\": \"none\",\"shopping\": \"Shopping\",\"mobility\": \"Navigation\",\n",
    "                \"news & magazines\": \"News\",\"puzzle\": \"Entertainment\",}\n",
    "\n",
    "no.__data__['category'] = no.__data__['category'].apply(lambda x: category_map.get(x,x))\n",
    "\n",
    "avg_daily_social_notifications = no.get_daily_notifications(category='Social')\n",
    "print(avg_daily_social_notifications.head())\n",
    "\n",
    "avg_daily_social_notifications = no.get_daily_notifications(category='Social', avg=True)\n",
    "print(avg_daily_social_notifications.head())"
   ],
   "metadata": {
    "collapsed": false,
    "pycharm": {
     "name": "#%%\n"
    }
   }
  },
  {
   "cell_type": "markdown",
   "source": [
    "#### (Average) daily use of social media applications"
   ],
   "metadata": {
    "collapsed": false
   }
  },
  {
   "cell_type": "code",
   "execution_count": null,
   "outputs": [],
   "source": [
    "i = ae.__data__['category'].nunique()\n",
    "# first map some more specific social categories in one 'Social' category\n",
    "ae.__data__['category'] = ae.__data__['category'].apply(lambda x: category_map.get(x,x))\n",
    "j = ae.__data__['category'].nunique()\n",
    "print(f'number of categories is reduced by {i-j}')\n",
    "\n",
    "daily_social_applications = (ae.get_daily_duration(category='Social', series_unit='day') / 60)\n",
    "print(daily_social_applications.head())\n",
    "\n",
    "avg_daily_social_applications = (ae.get_daily_duration(category='Social') / 60)\n",
    "print(avg_daily_social_applications.head())"
   ],
   "metadata": {
    "collapsed": false,
    "pycharm": {
     "name": "#%%\n"
    }
   }
  },
  {
   "cell_type": "markdown",
   "source": [
    "#### (Average) daily amount of social media app events"
   ],
   "metadata": {
    "collapsed": false,
    "pycharm": {
     "name": "#%% md\n"
    }
   }
  },
  {
   "cell_type": "code",
   "execution_count": null,
   "outputs": [],
   "source": [
    "freq_social_applications = ae.get_daily_events(category='Social', series_unit='day')\n",
    "print(freq_social_applications.head())\n",
    "\n",
    "avg_freq_social_applications = ae.get_daily_events(category='Social')\n",
    "print(avg_freq_social_applications.head())"
   ],
   "metadata": {
    "collapsed": false,
    "pycharm": {
     "name": "#%%\n"
    }
   }
  },
  {
   "cell_type": "markdown",
   "source": [
    "#### Average daily use during evening time"
   ],
   "metadata": {
    "collapsed": false,
    "pycharm": {
     "name": "#%% md\n"
    }
   }
  },
  {
   "cell_type": "code",
   "execution_count": null,
   "outputs": [],
   "source": [
    "avg_daily_use_evening = (ae.get_daily_duration(time_of_day='eve', series_unit='day') / 60)\n",
    "print(avg_daily_use_evening.head())\n",
    "\n",
    "avg_daily_use_evening = (ae.get_daily_duration(time_of_day='eve') / 60)\n",
    "print(avg_daily_use_evening.head())\n"
   ],
   "metadata": {
    "collapsed": false,
    "pycharm": {
     "name": "#%%\n"
    }
   }
  },
  {
   "cell_type": "markdown",
   "source": [
    "#### (Average) daily use during night time"
   ],
   "metadata": {
    "collapsed": false
   }
  },
  {
   "cell_type": "code",
   "execution_count": null,
   "outputs": [],
   "source": [
    "daily_use_night = (ae.get_daily_duration(time_of_day='night', series_unit='day') / 60)\n",
    "print(daily_use_night.head())\n",
    "\n",
    "avg_daily_use_night = (ae.get_daily_duration(time_of_day='night') / 60)\n",
    "print(avg_daily_use_night.head())"
   ],
   "metadata": {
    "collapsed": false,
    "pycharm": {
     "name": "#%%\n"
    }
   }
  },
  {
   "cell_type": "markdown",
   "source": [
    "#### (Average) daily amount of app events during evening/night time"
   ],
   "metadata": {
    "collapsed": false,
    "pycharm": {
     "name": "#%% md\n"
    }
   }
  },
  {
   "cell_type": "code",
   "execution_count": null,
   "outputs": [],
   "source": [
    "freq_evening_use = (ae.get_daily_events(time_of_day='eve', series_unit='day'))\n",
    "print(freq_evening_use.head())\n",
    "\n",
    "avg_freq_evening_use = (ae.get_daily_events(time_of_day='eve'))\n",
    "print(avg_freq_evening_use.head())\n",
    "\n",
    "freq_night_use = (ae.get_daily_events(time_of_day='night', series_unit='day'))\n",
    "print(freq_evening_use.head())\n",
    "\n",
    "avg_freq_night_use = (ae.get_daily_events(time_of_day='night'))\n",
    "print(avg_freq_evening_use.head())"
   ],
   "metadata": {
    "collapsed": false,
    "pycharm": {
     "name": "#%%\n"
    }
   }
  },
  {
   "cell_type": "markdown",
   "source": [
    "#### (Average) daily amount of notifications during evening/night time"
   ],
   "metadata": {
    "collapsed": false
   }
  },
  {
   "cell_type": "code",
   "execution_count": null,
   "outputs": [],
   "source": [
    "daily_eve_notifications = no.get_daily_notifications(time_of_day='eve')\n",
    "print(daily_eve_notifications.head())\n",
    "avg_daily_eve_notifications = no.get_daily_notifications(time_of_day='eve', avg=True)\n",
    "print(avg_daily_eve_notifications.head())\n",
    "# amount of notifications is hoog\n",
    "\n",
    "daily_night_notifications = (no.get_daily_notifications(time_of_day='night'))\n",
    "print(daily_night_notifications.head())\n",
    "avg_daily_night_notifications = (no.get_daily_notifications(time_of_day='night', avg=True))\n",
    "print(avg_daily_night_notifications.head())\n",
    "# amount of notifications is hoog"
   ],
   "metadata": {
    "collapsed": false,
    "pycharm": {
     "name": "#%%\n"
    }
   }
  },
  {
   "cell_type": "markdown",
   "source": [
    "### Depression features\n",
    "#### General screen time\n",
    "#### Smartphone use frequency\n",
    "#### Screen unlocks (=checking behaviour)\n",
    "#### Average daily social smartphone use/ appevents/ notifications\n",
    "#### Average smartphone appevents/ use during evening/night hours\n",
    " &#8594; All done above\n",
    "#### (Average) time between sessions started on notification"
   ],
   "metadata": {
    "collapsed": false
   }
  },
  {
   "cell_type": "code",
   "execution_count": null,
   "outputs": [],
   "source": [
    "def calc_time_between_notification_sessions(df: pd.DataFrame, avg=False):\n",
    "    session_firsts = df.groupby([\"id\", \"session\"]).head(1)\n",
    "    session_firsts_notif = session_firsts[session_firsts[\"notification\"] == True]\n",
    "    session_firsts_notif = session_firsts_notif.assign(start_shift= session_firsts_notif.groupby([\"id\", \"startDate\"])[[\"startTime\"]].shift(-1))\n",
    "    session_firsts_notif = session_firsts_notif.assign(duration_shift=(session_firsts_notif[\"start_shift\"] - session_firsts_notif[\"endTime\"]).dt.total_seconds())\n",
    "\n",
    "    mean_shift_pd = (session_firsts_notif.groupby([\"id\", \"startDate\"])[\"duration_shift\"].mean() / 60)\n",
    "    mean_shift = mean_shift_pd.groupby(\"id\").mean()\n",
    "\n",
    "    if avg:\n",
    "        return mean_shift.rename(\"mins_between_notif_sessions\")\n",
    "    else:\n",
    "        return mean_shift_pd.rename(\"mins_between_notif_sessions\")\n"
   ],
   "metadata": {
    "collapsed": false,
    "pycharm": {
     "name": "#%%\n"
    }
   }
  },
  {
   "cell_type": "code",
   "execution_count": null,
   "outputs": [],
   "source": [
    "time_between_notif_sessions = calc_time_between_notification_sessions(ae.__data__) # minutes\n",
    "print(time_between_notif_sessions.head())\n",
    "\n",
    "avg_time_between_notif_sessions = calc_time_between_notification_sessions(ae.__data__, avg=True) # minutes\n",
    "print(avg_time_between_notif_sessions.head())"
   ],
   "metadata": {
    "collapsed": false,
    "pycharm": {
     "name": "#%%\n"
    }
   }
  },
  {
   "cell_type": "markdown",
   "source": [
    "#### Variability smartphone use during week"
   ],
   "metadata": {
    "collapsed": false
   }
  },
  {
   "cell_type": "code",
   "execution_count": null,
   "outputs": [],
   "source": [
    "def calc_weekly_use_variability(df: pd.DataFrame, duration: None):\n",
    "    if duration:\n",
    "        name = \"duration\"\n",
    "        variability = df.groupby([\"id\", pd.Grouper(key=\"startDate\", freq=\"W\")])[\"duration\"].sum().groupby(\"id\").std()\n",
    "    else:\n",
    "        name = \"appevents\"\n",
    "        variability = df.groupby([\"id\", pd.Grouper(key=\"startDate\", freq=\"W\")])[\"application\"].count().groupby(\"id\").std()\n",
    "\n",
    "    return variability.rename(f\"weekly_variability_{name}\")"
   ],
   "metadata": {
    "collapsed": false,
    "pycharm": {
     "name": "#%%\n"
    }
   }
  },
  {
   "cell_type": "code",
   "execution_count": null,
   "outputs": [],
   "source": [
    "weekly_use_variability = calc_weekly_use_variability(ae.__data__, duration=True)\n",
    "print(weekly_use_variability.head())"
   ],
   "metadata": {
    "collapsed": false,
    "pycharm": {
     "name": "#%%\n"
    }
   }
  },
  {
   "cell_type": "markdown",
   "source": [
    "#### (Average) daily use/events/notifications\n",
    "##### non-social (process) related apps"
   ],
   "metadata": {
    "collapsed": false,
    "pycharm": {
     "name": "#%% md\n"
    }
   },
   "execution_count": 654
  },
  {
   "cell_type": "code",
   "execution_count": null,
   "outputs": [],
   "source": [
    "social_cat = [\"Social\", \"Calling\"]\n",
    "all_cat = ae.__data__.category.unique().tolist()\n",
    "non_social_cat = list(set(all_cat) - set(social_cat))\n",
    "\n",
    "daily_non_social_applications = (ae.get_daily_duration(category=non_social_cat, series_unit='day') / 60)\n",
    "print(daily_non_social_applications.head())\n",
    "avg_daily_non_social_applications = (ae.get_daily_duration(category=non_social_cat) / 60)\n",
    "print(avg_daily_non_social_applications.head())"
   ],
   "metadata": {
    "collapsed": false,
    "pycharm": {
     "name": "#%%\n"
    }
   }
  },
  {
   "cell_type": "code",
   "execution_count": null,
   "outputs": [],
   "source": [
    "freq_non_social_applications = ae.get_daily_events(category=non_social_cat, series_unit='day')\n",
    "print(freq_non_social_applications.head())\n",
    "avg_freq_non_social_applications = ae.get_daily_events(category=non_social_cat)\n",
    "print(avg_freq_non_social_applications.head())"
   ],
   "metadata": {
    "collapsed": false,
    "pycharm": {
     "name": "#%%\n"
    }
   }
  },
  {
   "cell_type": "code",
   "execution_count": null,
   "outputs": [],
   "source": [
    "daily_non_social_notifications = no.get_daily_notifications(category=non_social_cat)\n",
    "print(daily_non_social_notifications.head())\n",
    "\n",
    "avg_daily_non_social_notifications = no.get_daily_notifications(category=non_social_cat, avg=True)\n",
    "print(avg_daily_non_social_notifications.head())"
   ],
   "metadata": {
    "collapsed": false,
    "pycharm": {
     "name": "#%%\n"
    }
   }
  },
  {
   "cell_type": "markdown",
   "source": [
    "##### browser application"
   ],
   "metadata": {
    "collapsed": false,
    "pycharm": {
     "name": "#%% md\n"
    }
   }
  },
  {
   "cell_type": "code",
   "execution_count": null,
   "outputs": [],
   "source": [
    "browser_use = (ae.get_daily_duration(category='Web') / 60)\n",
    "print(browser_use.head())\n",
    "\n",
    "freq_browser_use = ae.get_daily_events(category='Web', series_unit='day')\n",
    "print(freq_browser_use.head())"
   ],
   "metadata": {
    "collapsed": false,
    "pycharm": {
     "name": "#%%\n"
    }
   }
  },
  {
   "cell_type": "markdown",
   "source": [
    "##### news applications"
   ],
   "metadata": {
    "collapsed": false,
    "pycharm": {
     "name": "#%% md\n"
    }
   }
  },
  {
   "cell_type": "code",
   "execution_count": null,
   "outputs": [],
   "source": [
    "news_use = (ae.get_daily_duration(category='News', series_unit='day') / 60)\n",
    "print(news_use.head())\n",
    "\n",
    "avg_news_use = (ae.get_daily_duration(category='News') / 60)\n",
    "print(avg_news_use.head())\n",
    "\n",
    "freq_news_use = ae.get_daily_events(category='News', series_unit='day')\n",
    "print(freq_news_use.head())\n",
    "\n",
    "avg_freq_news_use = ae.get_daily_events(category='News')\n",
    "print(avg_freq_news_use.head())"
   ],
   "metadata": {
    "collapsed": false,
    "pycharm": {
     "name": "#%%\n"
    }
   }
  },
  {
   "cell_type": "markdown",
   "source": [
    "##### instagram"
   ],
   "metadata": {
    "collapsed": false,
    "pycharm": {
     "name": "#%% md\n"
    }
   }
  },
  {
   "cell_type": "code",
   "execution_count": null,
   "outputs": [],
   "source": [
    "daily_instagram_use = (ae.get_daily_duration(application=\"com.instagram.android\", series_unit='day') / 60)\n",
    "print(daily_instagram_use.head())\n",
    "\n",
    "avg_daily_instagram_use = (ae.get_daily_duration(application=\"com.instagram.android\") / 60)\n",
    "print(avg_daily_instagram_use.head())\n",
    "\n",
    "freq_instagram_use = ae.get_daily_events(application=\"com.instagram.android\", series_unit='day')\n",
    "print(freq_instagram_use.head())\n",
    "\n",
    "avg_freq_instagram_use = ae.get_daily_events(application=\"com.instagram.android\")\n",
    "print(avg_freq_instagram_use.head())"
   ],
   "metadata": {
    "collapsed": false,
    "pycharm": {
     "name": "#%%\n"
    }
   }
  },
  {
   "cell_type": "markdown",
   "source": [
    "### Headaches features\n",
    "##### Daily screen time\n",
    "&#8594; Already done above\n",
    "\n",
    "##### (Average) Daily call duration/frequency"
   ],
   "metadata": {
    "collapsed": false,
    "pycharm": {
     "name": "#%% md\n"
    }
   }
  },
  {
   "cell_type": "code",
   "execution_count": null,
   "outputs": [],
   "source": [
    "daily_call_duration = (ae.get_daily_duration(category='Calling', series_unit='day') /60)\n",
    "print(daily_call_duration.head())\n",
    "\n",
    "avg_daily_call_duration = (ae.get_daily_duration(category='Calling') /60)\n",
    "print(avg_daily_call_duration.head())\n",
    "\n",
    "freq_daily_call = ae.get_daily_events(category='Calling', series_unit='day')\n",
    "print(freq_daily_call.head())\n",
    "\n",
    "avg_freq_daily_call = ae.get_daily_events(category='Calling')\n",
    "print(avg_freq_daily_call.head())"
   ],
   "metadata": {
    "collapsed": false,
    "pycharm": {
     "name": "#%%\n"
    }
   }
  },
  {
   "cell_type": "markdown",
   "source": [
    "### Activity features\n",
    "##### Average daily number of (unique) used apps"
   ],
   "metadata": {
    "collapsed": false,
    "pycharm": {
     "name": "#%% md\n"
    }
   }
  },
  {
   "cell_type": "code",
   "execution_count": null,
   "outputs": [],
   "source": [
    "# TODO unique apps"
   ],
   "metadata": {
    "collapsed": false,
    "pycharm": {
     "name": "#%%\n"
    }
   }
  },
  {
   "cell_type": "markdown",
   "source": [
    "##### (Average) daily duration/ frequency of app use"
   ],
   "metadata": {
    "collapsed": false,
    "pycharm": {
     "name": "#%% md\n"
    }
   }
  },
  {
   "cell_type": "code",
   "execution_count": null,
   "outputs": [],
   "source": [
    "# TODO"
   ],
   "metadata": {
    "collapsed": false,
    "pycharm": {
     "name": "#%%\n"
    }
   }
  },
  {
   "cell_type": "markdown",
   "source": [
    "##### Increase/decrease in battery status"
   ],
   "metadata": {
    "collapsed": false,
    "pycharm": {
     "name": "#%% md\n"
    }
   }
  },
  {
   "cell_type": "code",
   "execution_count": null,
   "outputs": [],
   "source": [
    "def calc_battery_status(df: pd.DataFrame):\n",
    "    \"\"\"\n",
    "    Calculates four battery status variables per participant:\n",
    "    - daily average battery level\n",
    "    - daily std dev of battery level\n",
    "    - daily average charge %\n",
    "    - daily average discharge %\n",
    "\n",
    "    :param df: the appevents DataFrame\n",
    "    :return: results DataFrame with 4 variables per participant\n",
    "    \"\"\"\n",
    "    df = df.copy()\n",
    "    df = df.sort_values(['id', 'startTime']).assign(battery_shift= df.groupby(['id', 'startDate'])['battery'].shift(-1))\n",
    "    df = df.assign(battery_change=df['battery_shift'] - df['battery'])\n",
    "\n",
    "    battery_avg = (df.groupby([\"id\", \"startDate\"])[\"battery\"].mean().groupby('id').mean()).rename('avg_daily_battery')\n",
    "    battery_std = (df.groupby([\"id\", \"startDate\"])[\"battery\"].mean().groupby('id').std()).rename(\"battery_std\")\n",
    "\n",
    "    battery_discharge = (df[df[\"battery_change\"] < 0].groupby(['id', 'startDate'])['battery_change'].sum()\n",
    "                         .abs().groupby('id').mean()).rename(\"battery_daily_discharge\")\n",
    "    battery_charge = (df[df[\"battery_change\"] > 0].groupby([\"id\", \"startDate\"])[\"battery_change\"].sum()\n",
    "                      .abs().groupby(\"id\").mean()).rename(\"battery_daily_charge\")\n",
    "\n",
    "    res = pd.concat([\n",
    "        battery_charge,\n",
    "        battery_discharge\n",
    "    ], axis=1)\n",
    "\n",
    "    return res"
   ],
   "metadata": {
    "collapsed": false,
    "pycharm": {
     "name": "#%%\n"
    }
   }
  },
  {
   "cell_type": "code",
   "execution_count": null,
   "outputs": [],
   "source": [
    "    battery_status = calc_battery_status(ae.__data__)\n",
    "    print(battery_status.head())\n",
    "    # TODO not completely right, averaging app events not best way\n",
    "    # TODO per day"
   ],
   "metadata": {
    "collapsed": false,
    "pycharm": {
     "name": "#%%\n"
    }
   }
  },
  {
   "cell_type": "markdown",
   "source": [
    "##### Average daily time between consecutive phone use sessions"
   ],
   "metadata": {
    "collapsed": false
   }
  },
  {
   "cell_type": "code",
   "execution_count": null,
   "outputs": [],
   "source": [
    "def calc_time_between_consecutive_sessions(df: pd.DataFrame, avg=False):\n",
    "    session_firsts = df.groupby([\"id\", \"session\"]).head(1)\n",
    "\n",
    "    session_firsts = session_firsts.assign(start_shift= session_firsts.groupby([\"id\", \"startDate\"])[[\"startTime\"]].shift(-1))\n",
    "    session_firsts= session_firsts.assign(duration_shift=(session_firsts[\"start_shift\"] - session_firsts[\"endTime\"]).dt.total_seconds())\n",
    "\n",
    "    mean_shift_pd = (session_firsts.groupby([\"id\", \"startDate\"])[\"duration_shift\"].mean() / 60) # pd= per day\n",
    "    mean_shift = mean_shift_pd.groupby(\"id\").mean()  # avg by user\n",
    "\n",
    "    if avg:\n",
    "        return mean_shift.rename(\"mins_between_sessions\")\n",
    "    else:\n",
    "        return mean_shift_pd.rename(\"mins_between_sessions\")"
   ],
   "metadata": {
    "collapsed": false,
    "pycharm": {
     "name": "#%%\n"
    }
   }
  },
  {
   "cell_type": "code",
   "execution_count": null,
   "outputs": [],
   "source": [
    "daily_time_between_sessions = calc_time_between_consecutive_sessions(ae.__data__)\n",
    "print(daily_time_between_sessions.head())\n",
    "\n",
    "avg_daily_time_between_sessions = calc_time_between_consecutive_sessions(ae.__data__, avg=True)\n",
    "print(avg_daily_time_between_sessions.head())"
   ],
   "metadata": {
    "collapsed": false,
    "pycharm": {
     "name": "#%%\n"
    }
   }
  },
  {
   "cell_type": "markdown",
   "source": [
    "## 4. Merge all features in one dataframe"
   ],
   "metadata": {
    "collapsed": false,
    "pycharm": {
     "name": "#%% md\n"
    }
   }
  },
  {
   "cell_type": "code",
   "execution_count": null,
   "outputs": [],
   "source": [
    "temp_res = (pd.merge(general_screen_time, smartphone_use_freq, on=['id', 'day']\n",
    ").merge(checking_behaviour,left_on=['id', 'day'], right_on=['id', 'startDate']\n",
    ").merge(duration_MIM_applications, on=['id', 'day']\n",
    ").merge(freq_MIM_applications, on=['id', 'day']\n",
    "))\n",
    "\n",
    "#print(temp_res.head())"
   ],
   "metadata": {
    "collapsed": false,
    "pycharm": {
     "name": "#%%\n"
    }
   }
  },
  {
   "cell_type": "markdown",
   "source": [
    "#### Add stress labels"
   ],
   "metadata": {
    "collapsed": false,
    "pycharm": {
     "name": "#%% md\n"
    }
   }
  },
  {
   "cell_type": "code",
   "execution_count": null,
   "outputs": [],
   "source": [
    "labels = ae.__data__[['id', 'day','daily_stress_level']].groupby(by=['id','day']).first()\n",
    "res = pd.merge(temp_res, labels, on=['id', 'day'])"
   ],
   "metadata": {
    "collapsed": false,
    "pycharm": {
     "name": "#%%\n"
    }
   }
  },
  {
   "cell_type": "markdown",
   "source": [
    "The resulting dataframe with the features and labels per day, per user:"
   ],
   "metadata": {
    "collapsed": false
   }
  },
  {
   "cell_type": "code",
   "execution_count": null,
   "outputs": [],
   "source": [
    "print(res.head())\n"
   ],
   "metadata": {
    "collapsed": false,
    "pycharm": {
     "name": "#%%\n"
    }
   }
  },
  {
   "cell_type": "markdown",
   "source": [],
   "metadata": {
    "collapsed": false,
    "pycharm": {
     "name": "#%% md\n"
    }
   }
  },
  {
   "cell_type": "markdown",
   "source": [],
   "metadata": {
    "collapsed": false
   }
  },
  {
   "cell_type": "markdown",
   "source": [],
   "metadata": {
    "collapsed": false
   }
  },
  {
   "cell_type": "markdown",
   "source": [],
   "metadata": {
    "collapsed": false
   }
  },
  {
   "cell_type": "markdown",
   "source": [],
   "metadata": {
    "collapsed": false,
    "pycharm": {
     "name": "#%% md\n"
    }
   }
  },
  {
   "cell_type": "markdown",
   "source": [
    "## Feature importance/ correlation/...\n",
    "Now the importance of each feature for the stress level can be estimated."
   ],
   "metadata": {
    "collapsed": false
   }
  },
  {
   "cell_type": "code",
   "source": [
    "import seaborn as sn\n",
    "corrMatrix = res.corr()\n",
    "sn.heatmap(corrMatrix, annot=True)"
   ],
   "metadata": {
    "collapsed": false,
    "pycharm": {
     "name": "#%%\n"
    }
   },
   "execution_count": null,
   "outputs": []
  },
  {
   "cell_type": "code",
   "execution_count": null,
   "outputs": [],
   "source": [
    "k_fold = KFold(n_splits=10, shuffle=True)\n",
    "labels = res.pop('daily_stress_level')\n",
    "\n",
    "all_test_labels = []\n",
    "all_predicted_labels = []\n",
    "\n",
    "for i_fold, (tr, tst) in enumerate(k_fold.split(res, labels)):\n",
    "    #print(f\"fold number {i_fold}\")\n",
    "    res_train, res_test = res.iloc[tr], res.iloc[tst]\n",
    "    labels_train, labels_test = labels[tr], labels[tst]\n",
    "    clf = RandomForestClassifier()\n",
    "    clf.fit(res_train, labels_train)\n",
    "    predicted_label = clf.predict(res_test)\n",
    "\n",
    "    all_test_labels.extend(labels_test)\n",
    "    all_predicted_labels.extend(predicted_label)\n",
    "\n",
    "print(classification_report(all_test_labels, all_predicted_labels))"
   ],
   "metadata": {
    "collapsed": false,
    "pycharm": {
     "name": "#%%\n"
    }
   }
  },
  {
   "cell_type": "code",
   "source": [
    "print(\"FINISHED PROGRAM\")\n"
   ],
   "metadata": {
    "collapsed": false,
    "pycharm": {
     "name": "#%%\n"
    }
   },
   "execution_count": null,
   "outputs": []
  }
 ],
 "metadata": {
  "kernelspec": {
   "name": "python3",
   "language": "python",
   "display_name": "Python 3 (ipykernel)"
  },
  "language_info": {
   "codemirror_mode": {
    "name": "ipython",
    "version": 2
   },
   "file_extension": ".py",
   "mimetype": "text/x-python",
   "name": "python",
   "nbconvert_exporter": "python",
   "pygments_lexer": "ipython2",
   "version": "2.7.6"
  }
 },
 "nbformat": 4,
 "nbformat_minor": 0
}