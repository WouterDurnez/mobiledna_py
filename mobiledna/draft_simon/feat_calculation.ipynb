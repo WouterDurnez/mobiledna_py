{
 "cells": [
  {
   "cell_type": "markdown",
   "metadata": {
    "collapsed": true,
    "pycharm": {
     "name": "#%% md\n"
    }
   },
   "source": [
    "# mBrain: stress features"
   ]
  },
  {
   "cell_type": "code",
   "source": [
    "from mobiledna.core.appevents import Appevents\n",
    "from mobiledna.core.sessions import Sessions\n",
    "from mobiledna.core.notifications import Notifications\n",
    "\n",
    "import pandas as pd\n",
    "from datetime import datetime\n"
   ],
   "metadata": {
    "collapsed": false,
    "pycharm": {
     "name": "#%%\n"
    }
   },
   "execution_count": 281,
   "outputs": []
  },
  {
   "cell_type": "markdown",
   "source": [
    "## Open the needed files"
   ],
   "metadata": {
    "collapsed": false,
    "pycharm": {
     "name": "#%% md\n"
    }
   }
  },
  {
   "cell_type": "code",
   "execution_count": 282,
   "outputs": [
    {
     "name": "stdout",
     "output_type": "stream",
     "text": [
      "2021-10-08 16:12:48 - Recognized file type as <csv>.\n"
     ]
    },
    {
     "name": "stderr",
     "output_type": "stream",
     "text": [
      "/Users/simonperneel/Documents/Imec-mict/mobiledna_py/mobiledna/core/help.py:178: FutureWarning: The error_bad_lines argument has been deprecated and will be removed in a future version.\n",
      "\n",
      "\n",
      "  res = f(*args, **kwargs)\n"
     ]
    },
    {
     "name": "stdout",
     "output_type": "stream",
     "text": [
      "2021-10-08 16:12:51 - 'load' took 2.784 seconds to complete.\n",
      "2021-10-08 16:12:52 - Recognized file type as <parquet>.\n",
      "2021-10-08 16:13:03 - 'load' took 10.543 seconds to complete.\n",
      "2021-10-08 16:13:32 - Recognized file type as <csv>.\n",
      "2021-10-08 16:13:33 - 'load' took 1.137 seconds to complete.\n"
     ]
    },
    {
     "name": "stderr",
     "output_type": "stream",
     "text": [
      "Adding category: 100%|██████████| 1489208/1489208 [00:00<00:00, 1490996.07it/s]\n",
      "Adding tod <startTime>: 100%|██████████| 1489208/1489208 [00:00<00:00, 2151934.86it/s]\n",
      "Adding category: 100%|██████████| 27772223/27772223 [00:16<00:00, 1731965.50it/s]\n",
      "Adding tod <time>: 100%|██████████| 27772223/27772223 [00:12<00:00, 2255595.90it/s]\n"
     ]
    },
    {
     "name": "stdout",
     "output_type": "stream",
     "text": [
      "                                           id    model     session               startTime                 endTime  notification  notificationId                        application  battery   latitude  longitude   studyKey        surveyId data_version  startDate    endDate  duration category startTOD         day\n",
      "1320339  001b6dc4-9c95-4c7c-a21a-56b5deca6689  ELE-L29  1622720128 2021-06-03 13:35:58.071 2021-06-03 13:36:02.945         False               0        com.huawei.android.launcher       63  51.057247   3.706872  nervocity  03062021lepato        1.6.1 2021-06-03 2021-06-03     4.874  unknown     noon  2021-06-03\n",
      "1320340  001b6dc4-9c95-4c7c-a21a-56b5deca6689  ELE-L29  1622720128 2021-06-03 13:36:05.643 2021-06-03 13:36:22.971         False               0  com.google.android.apps.messaging       63  51.057247   3.706872  nervocity  03062021lepato        1.6.1 2021-06-03 2021-06-03    17.328     chat     noon  2021-06-03\n",
      "1320293  001b6dc4-9c95-4c7c-a21a-56b5deca6689  ELE-L29  1622720167 2021-06-03 13:36:25.026 2021-06-03 13:36:28.287         False               0                com.facebook.katana       63  51.057247   3.706872  nervocity  03062021lepato        1.6.1 2021-06-03 2021-06-03     3.261   social     noon  2021-06-03\n",
      "1320310  001b6dc4-9c95-4c7c-a21a-56b5deca6689  ELE-L29  1622720167 2021-06-03 13:36:30.215 2021-06-03 13:36:31.701         False               0        com.huawei.android.launcher       63  51.057247   3.706872  nervocity  03062021lepato        1.6.1 2021-06-03 2021-06-03     1.486  unknown     noon  2021-06-03\n",
      "1320294  001b6dc4-9c95-4c7c-a21a-56b5deca6689  ELE-L29  1622720167 2021-06-03 13:36:38.057 2021-06-03 13:36:38.927         False               0        com.huawei.android.launcher       63  51.057247   3.706872  nervocity  03062021lepato        1.6.1 2021-06-03 2021-06-03     0.870  unknown     noon  2021-06-03\n"
     ]
    }
   ],
   "source": [
    "# file with the stress labels\n",
    "df_eod_experiencekit = pd.read_parquet(\"../data/data_nervosity/df_eod_experiencekit.parquet\")\n",
    "\n",
    "# file with the mapping of the mobileDNA id and the panelkit id\n",
    "df_mapping = pd.read_csv(\"../data/data_nervosity/MobileDNA_mapping_panelkitid.csv\", sep=';')\n",
    "\n",
    "# files needed for the feature calculation\n",
    "ae = Appevents.load_data(\"../data/data_nervosity/wave_3_2/210803_nervocity_appevents.csv\", sep=';')\n",
    "no = Notifications.load_data(\"../data/data_nervosity/wave_3_2/210803_nervocity_notifications.parquet\")\n",
    "se = Sessions.load_data(\"../data/data_nervosity/wave_3_2/210803_nervocity_sessions.csv\", sep=';')\n",
    "ae.add_category(scrape=False).add_time_of_day()\n",
    "no.add_category(scrape=False)\n",
    "no.add_time_of_day(time_col='time')\n",
    "no.__data__ = no.__data__.rename(columns={'TOD': 'startTOD'})  # sketchy but otherwise it won't work\n",
    "\n",
    "# only keep the columns we need in the mapping file and experiencekit data\n",
    "df_mapping = df_mapping[['panelkit_id', 'MobileDNA_id']]\n",
    "df_eod_experiencekit = df_eod_experiencekit[['panelkit_id', 'daily_stress_level', 'timestamp']]\n",
    "df_eod_experiencekit['day'] = df_eod_experiencekit['timestamp'].dt.date  # only keep date from the timestamp\n",
    "df_eod_experiencekit.pop('timestamp')\n",
    "\n",
    "# add a column with the day for each appEvent\n",
    "ae.__data__['day'] = ae.__data__['startTime'].dt.date\n",
    "print(ae.__data__.head())"
   ],
   "metadata": {
    "collapsed": false,
    "pycharm": {
     "name": "#%%\n"
    }
   }
  },
  {
   "cell_type": "markdown",
   "source": [
    "## Output some info about the files"
   ],
   "metadata": {
    "collapsed": false,
    "pycharm": {
     "name": "#%% md\n"
    }
   }
  },
  {
   "cell_type": "code",
   "execution_count": 283,
   "outputs": [
    {
     "name": "stdout",
     "output_type": "stream",
     "text": [
      "information about the stress LABELS file: \n",
      "> (rows, columns): (4257, 3)\n",
      "----------------\n",
      "\n",
      "information about the MAPPINGS file: \n",
      "> (rows, columns): (385, 2)\n",
      "----------------\n",
      "\n",
      "information about the MobileDNA DATA file: \n",
      "> (rows, columns): (1489208, 20)\n",
      "----------------\n",
      "\n",
      "number of unique id's in the mobileDNA data: 326\n",
      "number of unique id's in the mapping file: 274\n",
      "number of unique panelkit id's in the mapping file: 377\n",
      "number of unique panelkit id's in the experiencekit data: 447\n",
      "-----------\n",
      "\n"
     ]
    }
   ],
   "source": [
    "# stress labels file\n",
    "print(\"information about the stress LABELS file: \")\n",
    "print(f'> (rows, columns): {df_eod_experiencekit.shape[0], df_eod_experiencekit.shape[1]}')\n",
    "# show some labels\n",
    "#print(df_eod_experiencekit.daily_stress_level.head(3))\n",
    "# stress levels distribution\n",
    "#print(df_eod_experiencekit['daily_stress_level'].describe())\n",
    "#print(df_eod_experiencekit['daily_stress_level'].value_counts(normalize=True))\n",
    "print(\"----------------\")\n",
    "print(\"\")\n",
    "\n",
    "# mapping file\n",
    "print(\"information about the MAPPINGS file: \")\n",
    "print(f'> (rows, columns): {df_mapping.shape[0], df_mapping.shape[1]}')\n",
    "print(\"----------------\")\n",
    "print(\"\")\n",
    "\n",
    "# features file\n",
    "print(\"information about the MobileDNA DATA file: \")\n",
    "print(f'> (rows, columns): {ae.__data__.shape[0], ae.__data__.shape[1]}')\n",
    "print(\"----------------\")\n",
    "print(\"\")\n",
    "\n",
    "\n",
    "print(f\"number of unique id's in the mobileDNA data: {ae.__data__['id'].nunique()}\")\n",
    "print(f\"number of unique id's in the mapping file: {df_mapping['MobileDNA_id'].nunique()}\")\n",
    "print(f\"number of unique panelkit id's in the mapping file: {df_mapping['panelkit_id'].nunique()}\")\n",
    "print(f\"number of unique panelkit id's in the experiencekit data: {df_eod_experiencekit['panelkit_id'].nunique()}\")\n",
    "print(\"-----------\")\n",
    "print(\"\")"
   ],
   "metadata": {
    "collapsed": false,
    "pycharm": {
     "name": "#%%\n"
    }
   }
  },
  {
   "cell_type": "markdown",
   "source": [
    "## Join the dataframes"
   ],
   "metadata": {
    "collapsed": false,
    "pycharm": {
     "name": "#%% md\n"
    }
   }
  },
  {
   "cell_type": "code",
   "execution_count": 284,
   "outputs": [
    {
     "name": "stdout",
     "output_type": "stream",
     "text": [
      "number of unique id's after adding the panelkit-id to the MobileDNA data: 216\n",
      "number of entries in the MobileDNA data: 932781\n",
      "number of entries in the MobileDNA data after adding the stresslabels: 300105\n",
      "['clock' 'email' 'banking' 'sports' 'news&magazines' 'chat'\n",
      " 'health & fitness' 'browser' 'unknown' 'maps&navigation' 'social'\n",
      " 'finance' 'system' 'calling' 'contacts' 'retail' 'calendar' 'business'\n",
      " 'tools' 'weather' 'lifestyle' 'photography' 'maps & navigation'\n",
      " 'video&audioconferencing' 'ecommerce' 'productivity' 'video'\n",
      " 'communication' 'smartconnectivity' 'education' 'news & magazines'\n",
      " 'music&audio' 'shopping' 'auto&vehicles' 'entertainment' 'health&fitness'\n",
      " 'food & drink' 'travel & local' 'casual' 'trivia' 'medical'\n",
      " 'video players & editors' 'role playing' 'music & audio' 'mobility'\n",
      " 'auto & vehicles' 'gaming' 'puzzle' 'personalization' 'dating'\n",
      " 'libraries & demo' 'comics' 'card' 'books & reference' 'house & home'\n",
      " 'parenting' 'beauty' 'arcade' 'health&fitness ' 'board' 'educational'\n",
      " 'strategy']\n",
      "                                     id           model     session               startTime                 endTime  notification  notificationId                   application  battery   latitude  longitude   studyKey        surveyId data_version  startDate    endDate  duration category       startTOD         day                           panelkit_id daily_stress_level\n",
      "0  00534866-5655-4e6c-ba15-dd5b5437041a  moto g(8) plus  1623038430 2021-06-07 06:15:00.433 2021-06-07 06:15:10.007          True              66  com.google.android.deskclock      100  51.069824   3.755381  nervocity  21061975frgear        1.6.1 2021-06-07 2021-06-07     9.574    clock  early_morning  2021-06-07  4af7b991-a5b3-11eb-9dd4-cb04303e036e                  5\n",
      "1  00534866-5655-4e6c-ba15-dd5b5437041a  moto g(8) plus  1623039300 2021-06-07 06:30:00.377 2021-06-07 06:30:10.109          True              61  com.google.android.deskclock      100  51.069817   3.755354  nervocity  21061975frgear        1.6.1 2021-06-07 2021-06-07     9.732    clock  early_morning  2021-06-07  4af7b991-a5b3-11eb-9dd4-cb04303e036e                  5\n",
      "2  00534866-5655-4e6c-ba15-dd5b5437041a  moto g(8) plus  1623040540 2021-06-07 06:36:08.277 2021-06-07 06:37:42.743         False               0  com.microsoft.office.outlook      100  51.069817   3.755354  nervocity  21061975frgear        1.6.1 2021-06-07 2021-06-07    94.466    email  early_morning  2021-06-07  4af7b991-a5b3-11eb-9dd4-cb04303e036e                  5\n"
     ]
    }
   ],
   "source": [
    "# add the panelkit-id's to the mobileDNA data for shared MobileDNA id (inner join)\n",
    "df_mapping = df_mapping.rename(columns={'MobileDNA_id': 'id'})\n",
    "ae.__data__ = ae.__data__.merge(df_mapping, on='id')\n",
    "\n",
    "print(f\"number of unique id's after adding the panelkit-id to the MobileDNA data: {ae.__data__['id'].nunique()}\")\n",
    "print(f\"number of entries in the MobileDNA data: {ae.__data__.shape[0]}\")\n",
    "# add the stress-level from experience-kit data to the mobileDNA data (inner join on panelkit-id and day)\n",
    "ae.__data__ = pd.merge(ae.__data__, df_eod_experiencekit, on=['day', 'panelkit_id'])\n",
    "print(f\"number of entries in the MobileDNA data after adding the stresslabels: {ae.__data__.shape[0]}\")\n",
    "\n",
    "print(ae.__data__['category'].unique())\n",
    "# output the resulting dataframe with the stress levels\n",
    "print(ae.__data__.head(3))\n"
   ],
   "metadata": {
    "collapsed": false,
    "pycharm": {
     "name": "#%%\n"
    }
   }
  },
  {
   "cell_type": "code",
   "execution_count": 285,
   "outputs": [
    {
     "name": "stdout",
     "output_type": "stream",
     "text": [
      "2021-10-08 16:14:16 - Recognized file type as <csv>.\n",
      "2021-10-08 16:14:16 - 'load' took 0.004 seconds to complete.\n"
     ]
    },
    {
     "name": "stderr",
     "output_type": "stream",
     "text": [
      "/Users/simonperneel/Documents/Imec-mict/mobiledna_py/mobiledna/core/help.py:178: FutureWarning: The error_bad_lines argument has been deprecated and will be removed in a future version.\n",
      "\n",
      "\n",
      "  res = f(*args, **kwargs)\n"
     ]
    }
   ],
   "source": [
    "# load dummy data (testing purpose)\n",
    "no_dummy = Notifications.load_data(\"./dummy_notifications.csv\", sep=';')"
   ],
   "metadata": {
    "collapsed": false,
    "pycharm": {
     "name": "#%%\n"
    }
   }
  },
  {
   "cell_type": "markdown",
   "source": [
    "## Feature calculation\n",
    "#### General screen time"
   ],
   "metadata": {
    "collapsed": false,
    "pycharm": {
     "name": "#%% md\n"
    }
   }
  },
  {
   "cell_type": "code",
   "execution_count": 286,
   "outputs": [
    {
     "name": "stdout",
     "output_type": "stream",
     "text": [
      "id                                    day       \n",
      "00534866-5655-4e6c-ba15-dd5b5437041a  2021-06-07    131.344917\n",
      "                                      2021-06-08    122.027483\n",
      "                                      2021-06-09    136.289317\n",
      "                                      2021-06-11    190.306950\n",
      "                                      2021-06-12     80.732533\n",
      "Name: daily_durations, dtype: float64\n"
     ]
    }
   ],
   "source": [
    "#df_features = ae.__data__.groupby(['id', 'day']).agg()\n",
    "general_screen_time = (ae.get_daily_duration(series_unit='day') / 60)\n",
    "print(general_screen_time.head())"
   ],
   "metadata": {
    "collapsed": false,
    "pycharm": {
     "name": "#%%\n"
    }
   }
  },
  {
   "cell_type": "markdown",
   "source": [
    "#### Smartphone use frequency"
   ],
   "metadata": {
    "collapsed": false,
    "pycharm": {
     "name": "#%% md\n"
    }
   }
  },
  {
   "cell_type": "code",
   "execution_count": 287,
   "outputs": [
    {
     "name": "stdout",
     "output_type": "stream",
     "text": [
      "id                                    day       \n",
      "00534866-5655-4e6c-ba15-dd5b5437041a  2021-06-07    155.0\n",
      "                                      2021-06-08    106.0\n",
      "Name: daily_events, dtype: float64\n"
     ]
    }
   ],
   "source": [
    "smartphone_use_freq = ae.get_daily_events(series_unit=('day'))\n",
    "print(smartphone_use_freq.head(2))"
   ],
   "metadata": {
    "collapsed": false,
    "pycharm": {
     "name": "#%%\n"
    }
   }
  },
  {
   "cell_type": "markdown",
   "source": [
    "#### Checking behaviour"
   ],
   "metadata": {
    "collapsed": false,
    "pycharm": {
     "name": "#%% md\n"
    }
   }
  },
  {
   "cell_type": "code",
   "execution_count": 288,
   "outputs": [
    {
     "name": "stdout",
     "output_type": "stream",
     "text": [
      "id\n",
      "001b6dc4-9c95-4c7c-a21a-56b5deca6689     7.000000\n",
      "00534866-5655-4e6c-ba15-dd5b5437041a    51.241379\n",
      "0079ff14-3579-4e27-b1e5-a838bc23b295    50.345238\n",
      "00a8c6be-edf7-45f5-90a6-cd0adb3d417d    26.750000\n",
      "01617409-e832-4bd9-b139-30189de7e827    76.418605\n",
      "Name: daily_sessions, dtype: float64\n"
     ]
    }
   ],
   "source": [
    "checking_behaviour = se.get_daily_sessions()\n",
    "print(checking_behaviour.head())"
   ],
   "metadata": {
    "collapsed": false,
    "pycharm": {
     "name": "#%%\n"
    }
   }
  },
  {
   "cell_type": "markdown",
   "source": [
    "#### Smartphone multitasking"
   ],
   "metadata": {
    "collapsed": false,
    "pycharm": {
     "name": "#%% md\n"
    }
   }
  },
  {
   "cell_type": "code",
   "execution_count": 289,
   "outputs": [],
   "source": [
    "# todo"
   ],
   "metadata": {
    "collapsed": false,
    "pycharm": {
     "name": "#%%\n"
    }
   }
  },
  {
   "cell_type": "markdown",
   "source": [
    "#### Duration MIM applications"
   ],
   "metadata": {
    "collapsed": false,
    "pycharm": {
     "name": "#%% md\n"
    }
   }
  },
  {
   "cell_type": "code",
   "source": [
    "# (MIM=mobile instant messaging == chat?)\n",
    "duration_MIM_applications = (ae.get_daily_duration(category='chat', series_unit='day') / 60)\n",
    "print(duration_MIM_applications.head())"
   ],
   "metadata": {
    "collapsed": false,
    "pycharm": {
     "name": "#%%\n"
    }
   },
   "execution_count": 290,
   "outputs": [
    {
     "name": "stdout",
     "output_type": "stream",
     "text": [
      "id                                    day       \n",
      "00534866-5655-4e6c-ba15-dd5b5437041a  2021-06-07    17.310767\n",
      "                                      2021-06-08     9.991850\n",
      "                                      2021-06-09    21.115133\n",
      "                                      2021-06-11    38.756633\n",
      "                                      2021-06-12     2.128450\n",
      "Name: daily_durations_chat, dtype: float64\n"
     ]
    }
   ]
  },
  {
   "cell_type": "markdown",
   "source": [
    "#### Frequency MIM applications"
   ],
   "metadata": {
    "collapsed": false
   }
  },
  {
   "cell_type": "code",
   "execution_count": 291,
   "outputs": [
    {
     "name": "stdout",
     "output_type": "stream",
     "text": [
      "id                                    day       \n",
      "00534866-5655-4e6c-ba15-dd5b5437041a  2021-06-07    26.0\n",
      "                                      2021-06-08    10.0\n",
      "                                      2021-06-09    30.0\n",
      "                                      2021-06-11    40.0\n",
      "                                      2021-06-12     6.0\n",
      "Name: daily_events_chat, dtype: float64\n"
     ]
    }
   ],
   "source": [
    "freq_MIM_applications = ae.get_daily_events(category='chat', series_unit='day')\n",
    "print(freq_MIM_applications.head())"
   ],
   "metadata": {
    "collapsed": false,
    "pycharm": {
     "name": "#%%\n"
    }
   }
  },
  {
   "cell_type": "markdown",
   "source": [
    "#### Notifications MIM applications"
   ],
   "metadata": {
    "collapsed": false
   }
  },
  {
   "cell_type": "code",
   "execution_count": 292,
   "outputs": [
    {
     "name": "stdout",
     "output_type": "stream",
     "text": [
      "id\n",
      "001b6dc4-9c95-4c7c-a21a-56b5deca6689     70.000000\n",
      "00534866-5655-4e6c-ba15-dd5b5437041a    145.965517\n",
      "0079ff14-3579-4e27-b1e5-a838bc23b295     75.369048\n",
      "00a8c6be-edf7-45f5-90a6-cd0adb3d417d     15.250000\n",
      "01617409-e832-4bd9-b139-30189de7e827     91.505882\n",
      "Name: daily_notifications_chat, dtype: float64\n"
     ]
    }
   ],
   "source": [
    "avg_daily_MIM_notifications = no.get_daily_notifications(category='chat')\n",
    "print(avg_daily_MIM_notifications.head())"
   ],
   "metadata": {
    "collapsed": false,
    "pycharm": {
     "name": "#%%\n"
    }
   }
  },
  {
   "cell_type": "markdown",
   "source": [
    "#### Average daily use of MIM applications during work hours"
   ],
   "metadata": {
    "collapsed": false
   }
  },
  {
   "cell_type": "code",
   "execution_count": 293,
   "outputs": [
    {
     "name": "stdout",
     "output_type": "stream",
     "text": [
      "id\n",
      "00534866-5655-4e6c-ba15-dd5b5437041a     3.972924\n",
      "0079ff14-3579-4e27-b1e5-a838bc23b295     6.442874\n",
      "00a8c6be-edf7-45f5-90a6-cd0adb3d417d     1.282050\n",
      "03ce19e0-e1e9-4051-a1ac-afaac0557806     4.379676\n",
      "0405c848-f9bf-4a27-9fc6-62b624287609    10.774242\n",
      "Name: daily_durations_chat_['morning', 'noon'], dtype: float64\n"
     ]
    },
    {
     "data": {
      "text/plain": "<AxesSubplot:ylabel='Frequency'>"
     },
     "execution_count": 293,
     "metadata": {},
     "output_type": "execute_result"
    },
    {
     "data": {
      "text/plain": "<Figure size 432x288 with 1 Axes>",
      "image/png": "[encoded data removed]"
     },
     "metadata": {
      "needs_background": "light"
     },
     "output_type": "display_data"
    }
   ],
   "source": [
    "# TODO change morning & noon to work hours (8-16 => 9-17)\n",
    "avg_daily_use_work_hours = (ae.get_daily_duration(time_of_day=['morning', 'noon'], category='chat') / 60)\n",
    "print(avg_daily_use_work_hours.head())\n",
    "avg_daily_use_work_hours.plot.hist()"
   ],
   "metadata": {
    "collapsed": false,
    "pycharm": {
     "name": "#%%\n"
    }
   }
  },
  {
   "cell_type": "markdown",
   "source": [
    "#### Average amount of social media notifications"
   ],
   "metadata": {
    "collapsed": false
   }
  },
  {
   "cell_type": "code",
   "execution_count": 294,
   "outputs": [
    {
     "name": "stdout",
     "output_type": "stream",
     "text": [
      "id\n",
      "001b6dc4-9c95-4c7c-a21a-56b5deca6689     73.000000\n",
      "00534866-5655-4e6c-ba15-dd5b5437041a    151.551724\n",
      "0079ff14-3579-4e27-b1e5-a838bc23b295     77.666667\n",
      "00a8c6be-edf7-45f5-90a6-cd0adb3d417d     15.312500\n",
      "01617409-e832-4bd9-b139-30189de7e827    100.209302\n",
      "Name: daily_notifications_social, dtype: float64\n"
     ]
    }
   ],
   "source": [
    "# first put some more specific social categories in one general 'Social' category\n",
    "unknown_categories = {\"banking\": [\"com.coinbase.pro\", \"com.kraken.trade\", \"com.kraken.invest.app\"],\"medical\": [\"be.imec.apt.stressy\",\"be.imec.apt.ichange.chillplusclient\",\"be.ilabt.contextaware.empatica\",\"be.ilabt.contextaware.mbrain\",\"be.sciensano.coronalert\",\"com.j_ware.polarsensorlogger\",\"com.urbandroid.sleep\",\"heartzones.com.heartzonestraining\",\"com.empatica.e4realtime\",],\"calling\": [\"com.oneplus.dialer\"],\"calendar\": [\"com.komorebi.SimpleCalendar\"],\"productivity\": [\"partl.workinghours\"],}\n",
    "category_map = {\"medical\": \"Health\",\"chat\": \"Social\",\"email\": \"Productivity\",\"system\": \"none\", \"unknown\": \"none\",\"social\": \"Social\",\"tools\": \"Productivity\",\"browser\": \"Web\",\"productivity\": \"Productivity\",\"photography\": \"none\",\"business\": \"Productivity\",\"music&audio\": \"Entertainment\",\"clock\": \"none\",\"banking\": \"Finance\",\"lifestyle\": \"none\",\"health&fitness\": \"Health\",\"news&magazines\": \"News\",\"gaming\": \"Entertainment\",\"calling\": \"Calling\",\"calendar\": \"Productivity\",\"video\": \"Entertainment\",\"contacts\": \"Calling\",\"video&audioconferencing\": \"Productivity\",\"health & fitness\": \"Health\",\"maps&navigation\": \"Navigation\",\"food & drink\": \"none\",\"finance\": \"Finance\",\"communication\": \"Social\",\"ecommerce\": \"Shopping\",\"retail\": \"Shopping\",\"weather\": \"none\",\"sports\": \"none\",\"smartconnectivity\": \"none\",\"card\": \"Entertainment\",\"travel & local\": \"none\",\"education\": \"Productivity\",\"entertainment\": \"Entertainment\",\"music & audio\": \"Entertainment\",\"books & reference\": \"none\",\"shopping\": \"Shopping\",\"mobility\": \"Navigation\",\"news & magazines\": \"News\",\"puzzle\": \"Entertainment\",}\n",
    "no.__data__['category'] = no.__data__['category'].apply(lambda x: category_map.get(x,x))\n",
    "\n",
    "avg_daily_social_notifications = no.get_daily_notifications(category='Social')\n",
    "print(avg_daily_social_notifications.head())"
   ],
   "metadata": {
    "collapsed": false,
    "pycharm": {
     "name": "#%%\n"
    }
   }
  },
  {
   "cell_type": "markdown",
   "source": [
    "#### Average daily use of social media applications"
   ],
   "metadata": {
    "collapsed": false,
    "pycharm": {
     "name": "#%% md\n"
    }
   }
  },
  {
   "cell_type": "code",
   "execution_count": 295,
   "outputs": [
    {
     "name": "stdout",
     "output_type": "stream",
     "text": [
      "number of categories is reduced by 32\n",
      "id                                    day       \n",
      "00534866-5655-4e6c-ba15-dd5b5437041a  2021-06-07    20.110167\n",
      "                                      2021-06-08    22.504683\n",
      "                                      2021-06-09    28.751350\n",
      "                                      2021-06-11    50.081050\n",
      "                                      2021-06-12    28.248683\n",
      "Name: daily_durations_social, dtype: float64\n"
     ]
    }
   ],
   "source": [
    "i = ae.__data__['category'].nunique()\n",
    "# first map some more specific social categories in one 'Social' category\n",
    "ae.__data__['category'] = ae.__data__['category'].apply(lambda x: category_map.get(x,x))\n",
    "j = ae.__data__['category'].nunique()\n",
    "print(f'number of categories is reduced by {i-j}')\n",
    "\n",
    "avg_daily_social_applications = (ae.get_daily_duration(category='Social', series_unit='day') / 60)\n",
    "print(avg_daily_social_applications.head())"
   ],
   "metadata": {
    "collapsed": false,
    "pycharm": {
     "name": "#%%\n"
    }
   }
  },
  {
   "cell_type": "markdown",
   "source": [
    "#### Average daily amount of social media app events"
   ],
   "metadata": {
    "collapsed": false,
    "pycharm": {
     "name": "#%% md\n"
    }
   }
  },
  {
   "cell_type": "code",
   "execution_count": 296,
   "outputs": [
    {
     "name": "stdout",
     "output_type": "stream",
     "text": [
      "id                                    day       \n",
      "00534866-5655-4e6c-ba15-dd5b5437041a  2021-06-07    32.0\n",
      "                                      2021-06-08    14.0\n",
      "                                      2021-06-09    37.0\n",
      "                                      2021-06-11    49.0\n",
      "                                      2021-06-12    24.0\n",
      "Name: daily_events_social, dtype: float64\n"
     ]
    }
   ],
   "source": [
    "freq_social_applications = ae.get_daily_events(category='Social', series_unit='day')\n",
    "print(freq_social_applications.head())"
   ],
   "metadata": {
    "collapsed": false,
    "pycharm": {
     "name": "#%%\n"
    }
   }
  },
  {
   "cell_type": "markdown",
   "source": [
    "#### Duration of different social media applications"
   ],
   "metadata": {
    "collapsed": false,
    "pycharm": {
     "name": "#%% md\n"
    }
   }
  },
  {
   "cell_type": "code",
   "execution_count": 297,
   "outputs": [],
   "source": [
    "#todo"
   ],
   "metadata": {
    "collapsed": false,
    "pycharm": {
     "name": "#%%\n"
    }
   }
  },
  {
   "cell_type": "markdown",
   "source": [
    "#### Average daily use during evening time"
   ],
   "metadata": {
    "collapsed": false,
    "pycharm": {
     "name": "#%% md\n"
    }
   }
  },
  {
   "cell_type": "code",
   "execution_count": 298,
   "outputs": [
    {
     "name": "stdout",
     "output_type": "stream",
     "text": [
      "id\n",
      "00534866-5655-4e6c-ba15-dd5b5437041a    37.901985\n",
      "0079ff14-3579-4e27-b1e5-a838bc23b295    26.582850\n",
      "00a8c6be-edf7-45f5-90a6-cd0adb3d417d     7.642969\n",
      "03ce19e0-e1e9-4051-a1ac-afaac0557806    49.716194\n",
      "0405c848-f9bf-4a27-9fc6-62b624287609    57.787203\n",
      "Name: daily_durations_eve, dtype: float64\n"
     ]
    }
   ],
   "source": [
    "avg_daily_use_evening = (ae.get_daily_duration(time_of_day='eve') / 60) #per day: series_unit='day'\n",
    "print(avg_daily_use_evening.head())\n"
   ],
   "metadata": {
    "collapsed": false,
    "pycharm": {
     "name": "#%%\n"
    }
   }
  },
  {
   "cell_type": "markdown",
   "source": [
    "#### Average daily use during night time"
   ],
   "metadata": {
    "collapsed": false
   }
  },
  {
   "cell_type": "code",
   "execution_count": 299,
   "outputs": [
    {
     "name": "stdout",
     "output_type": "stream",
     "text": [
      "id\n",
      "00534866-5655-4e6c-ba15-dd5b5437041a    10.927101\n",
      "0079ff14-3579-4e27-b1e5-a838bc23b295     9.603232\n",
      "00a8c6be-edf7-45f5-90a6-cd0adb3d417d     4.499922\n",
      "03ce19e0-e1e9-4051-a1ac-afaac0557806     9.694495\n",
      "0405c848-f9bf-4a27-9fc6-62b624287609    46.865879\n",
      "Name: daily_durations_night, dtype: float64\n"
     ]
    }
   ],
   "source": [
    "avg_daily_use_night = (ae.get_daily_duration(time_of_day='night') / 60) #per day: series_unit='day'\n",
    "print(avg_daily_use_night.head())"
   ],
   "metadata": {
    "collapsed": false,
    "pycharm": {
     "name": "#%%\n"
    }
   }
  },
  {
   "cell_type": "markdown",
   "source": [
    "#### Average daily amount of app events during evening time"
   ],
   "metadata": {
    "collapsed": false,
    "pycharm": {
     "name": "#%% md\n"
    }
   }
  },
  {
   "cell_type": "code",
   "execution_count": 300,
   "outputs": [
    {
     "name": "stdout",
     "output_type": "stream",
     "text": [
      "id\n",
      "00534866-5655-4e6c-ba15-dd5b5437041a    36.214286\n",
      "0079ff14-3579-4e27-b1e5-a838bc23b295    40.857143\n",
      "00a8c6be-edf7-45f5-90a6-cd0adb3d417d    13.333333\n",
      "03ce19e0-e1e9-4051-a1ac-afaac0557806    42.000000\n",
      "0405c848-f9bf-4a27-9fc6-62b624287609    63.250000\n",
      "Name: daily_events_eve, dtype: float64\n"
     ]
    }
   ],
   "source": [
    "freq_evening_use = (ae.get_daily_events(time_of_day='eve'))\n",
    "print(freq_evening_use.head())"
   ],
   "metadata": {
    "collapsed": false,
    "pycharm": {
     "name": "#%%\n"
    }
   }
  },
  {
   "cell_type": "markdown",
   "source": [
    "#### Average daily amount of app events during night time"
   ],
   "metadata": {
    "collapsed": false
   }
  },
  {
   "cell_type": "code",
   "source": [
    "freq_night_use = (ae.get_daily_events(time_of_day='night'))\n",
    "print(freq_evening_use.head())"
   ],
   "metadata": {
    "collapsed": false,
    "pycharm": {
     "name": "#%%\n"
    }
   },
   "execution_count": 301,
   "outputs": [
    {
     "name": "stdout",
     "output_type": "stream",
     "text": [
      "id\n",
      "00534866-5655-4e6c-ba15-dd5b5437041a    36.214286\n",
      "0079ff14-3579-4e27-b1e5-a838bc23b295    40.857143\n",
      "00a8c6be-edf7-45f5-90a6-cd0adb3d417d    13.333333\n",
      "03ce19e0-e1e9-4051-a1ac-afaac0557806    42.000000\n",
      "0405c848-f9bf-4a27-9fc6-62b624287609    63.250000\n",
      "Name: daily_events_eve, dtype: float64\n"
     ]
    }
   ]
  },
  {
   "cell_type": "markdown",
   "source": [
    "#### Average daily amount of notifications during evening time"
   ],
   "metadata": {
    "collapsed": false
   }
  },
  {
   "cell_type": "code",
   "execution_count": 302,
   "outputs": [
    {
     "name": "stdout",
     "output_type": "stream",
     "text": [
      "id\n",
      "001b6dc4-9c95-4c7c-a21a-56b5deca6689     119.000000\n",
      "00534866-5655-4e6c-ba15-dd5b5437041a    1048.310345\n",
      "0079ff14-3579-4e27-b1e5-a838bc23b295     303.761905\n",
      "00a8c6be-edf7-45f5-90a6-cd0adb3d417d     334.400000\n",
      "01617409-e832-4bd9-b139-30189de7e827     359.458824\n",
      "Name: daily_notifications_eve, dtype: float64\n"
     ]
    }
   ],
   "source": [
    "# TODO looks to high, is this daily?\n",
    "avg_daily_eve_notifications = (no.get_daily_notifications(time_of_day='eve'))\n",
    "print(avg_daily_eve_notifications.head())"
   ],
   "metadata": {
    "collapsed": false,
    "pycharm": {
     "name": "#%%\n"
    }
   }
  },
  {
   "cell_type": "markdown",
   "source": [
    "#### Average daily amount of notifications during night time"
   ],
   "metadata": {
    "collapsed": false
   }
  },
  {
   "cell_type": "code",
   "execution_count": 303,
   "outputs": [
    {
     "name": "stdout",
     "output_type": "stream",
     "text": [
      "id\n",
      "00534866-5655-4e6c-ba15-dd5b5437041a    145.571429\n",
      "0079ff14-3579-4e27-b1e5-a838bc23b295     50.677419\n",
      "00a8c6be-edf7-45f5-90a6-cd0adb3d417d     11.785714\n",
      "01617409-e832-4bd9-b139-30189de7e827    389.779070\n",
      "028f0ac3-1720-487e-b5eb-3ee02d0edfe7    131.833333\n",
      "Name: daily_notifications_night, dtype: float64\n"
     ]
    }
   ],
   "source": [
    "# TODO also looks high\n",
    "avg_daily_night_notifications = (no.get_daily_notifications(time_of_day='night'))\n",
    "print(avg_daily_night_notifications.head())"
   ],
   "metadata": {
    "collapsed": false,
    "pycharm": {
     "name": "#%%\n"
    }
   }
  },
  {
   "cell_type": "code",
   "execution_count": null,
   "outputs": [],
   "source": [
    "# TODO next step: alle features samenzetten in één dataframe met dan panelkit id en stressniveau\n"
   ],
   "metadata": {
    "collapsed": false,
    "pycharm": {
     "name": "#%%\n"
    }
   }
  },
  {
   "cell_type": "code",
   "execution_count": 304,
   "outputs": [
    {
     "name": "stdout",
     "output_type": "stream",
     "text": [
      "FINISHED PROGRAM\n"
     ]
    }
   ],
   "source": [
    "print(\"FINISHED PROGRAM\")\n"
   ],
   "metadata": {
    "collapsed": false,
    "pycharm": {
     "name": "#%%\n"
    }
   }
  }
 ],
 "metadata": {
  "kernelspec": {
   "name": "python3",
   "language": "python",
   "display_name": "Python 3 (ipykernel)"
  },
  "language_info": {
   "codemirror_mode": {
    "name": "ipython",
    "version": 2
   },
   "file_extension": ".py",
   "mimetype": "text/x-python",
   "name": "python",
   "nbconvert_exporter": "python",
   "pygments_lexer": "ipython2",
   "version": "2.7.6"
  }
 },
 "nbformat": 4,
 "nbformat_minor": 0
}