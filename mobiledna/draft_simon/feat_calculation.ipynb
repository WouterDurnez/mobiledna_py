{
 "cells": [
  {
   "cell_type": "markdown",
   "metadata": {
    "collapsed": true,
    "pycharm": {
     "name": "#%% md\n"
    }
   },
   "source": [
    "# mBrain: Feature calculation"
   ]
  },
  {
   "cell_type": "code",
   "source": [
    "from mobiledna.core.appevents import Appevents\n",
    "from mobiledna.core.sessions import Sessions\n",
    "from mobiledna.core.notifications import Notifications\n",
    "\n",
    "import pandas as pd\n",
    "from sklearn.model_selection import KFold, cross_validate\n",
    "from sklearn.ensemble import RandomForestRegressor\n",
    "from sklearn.dummy import DummyRegressor\n",
    "from sklearn.linear_model import LogisticRegression, ElasticNet, Lasso\n",
    "from sklearn.svm import SVR\n",
    "import xgboost\n",
    "from xgboost import XGBRegressor, plot_importance\n"
   ],
   "metadata": {
    "collapsed": false,
    "pycharm": {
     "name": "#%%\n"
    }
   },
   "execution_count": 303,
   "outputs": []
  },
  {
   "cell_type": "markdown",
   "source": [
    "## 1. Open the needed files"
   ],
   "metadata": {
    "collapsed": false,
    "pycharm": {
     "name": "#%% md\n"
    }
   }
  },
  {
   "cell_type": "code",
   "execution_count": null,
   "outputs": [
    {
     "name": "stdout",
     "output_type": "stream",
     "text": [
      "2021-10-18 09:33:25 - Recognized file type as <csv>.\n"
     ]
    },
    {
     "name": "stderr",
     "output_type": "stream",
     "text": [
      "/Users/simonperneel/Documents/Imec-mict/mobiledna_py/mobiledna/core/help.py:178: FutureWarning: The error_bad_lines argument has been deprecated and will be removed in a future version.\n",
      "\n",
      "\n",
      "  res = f(*args, **kwargs)\n"
     ]
    },
    {
     "name": "stdout",
     "output_type": "stream",
     "text": [
      "2021-10-18 09:33:28 - 'load' took 2.666 seconds to complete.\n",
      "2021-10-18 09:33:30 - Recognized file type as <parquet>.\n",
      "2021-10-18 09:33:38 - 'load' took 8.515 seconds to complete.\n",
      "2021-10-18 09:34:03 - Recognized file type as <csv>.\n",
      "2021-10-18 09:34:04 - 'load' took 1.028 seconds to complete.\n"
     ]
    },
    {
     "name": "stderr",
     "output_type": "stream",
     "text": [
      "Adding category: 100%|██████████| 1489208/1489208 [00:00<00:00, 1620248.56it/s]\n",
      "Adding tod <startTime>: 100%|██████████| 1489208/1489208 [00:00<00:00, 2213734.40it/s]\n",
      "Adding category: 100%|██████████| 27772223/27772223 [00:15<00:00, 1770514.36it/s]\n",
      "Adding tod <time>:  75%|███████▌  | 20897884/27772223 [00:09<00:03, 2164245.66it/s]"
     ]
    }
   ],
   "source": [
    "# file with the stress labels\n",
    "df_eod_experiencekit = pd.read_parquet(\"../data/data_nervosity/df_eod_experiencekit.parquet\")\n",
    "\n",
    "# file with the mapping of the mobileDNA-id and the panelkit-id\n",
    "df_mapping = pd.read_csv(\"../data/data_nervosity/MobileDNA_mapping_panelkitid.csv\", sep=';')\n",
    "\n",
    "# files needed for the feature calculation\n",
    "ae = Appevents.load_data(\"../data/data_nervosity/wave_3_2/210803_nervocity_appevents.csv\", sep=';')\n",
    "no = Notifications.load_data(\"../data/data_nervosity/wave_3_2/210803_nervocity_notifications.parquet\")\n",
    "se = Sessions.load_data(\"../data/data_nervosity/wave_3_2/210803_nervocity_sessions.csv\", sep=';')\n",
    "\n",
    "ae.add_category(scrape=False).add_time_of_day()\n",
    "no.add_category(scrape=False)\n",
    "no.add_time_of_day(time_col='time')\n",
    "no.__data__ = no.__data__.rename(columns={'TOD': 'startTOD'})  # sketchy but otherwise it won't work\n",
    "\n",
    "# only keep the columns we need in the mapping file and experiencekit data\n",
    "df_mapping = df_mapping[['panelkit_id', 'MobileDNA_id']]\n",
    "df_eod_experiencekit = df_eod_experiencekit[['panelkit_id', 'daily_stress_level', 'timestamp']]\n",
    "df_eod_experiencekit['day'] = df_eod_experiencekit['timestamp'].dt.date  # only keep date from timestamp\n",
    "df_eod_experiencekit.pop('timestamp')\n",
    "\n",
    "# add a column with the day for each appEvent\n",
    "ae.__data__['day'] = ae.__data__['startTime'].dt.date\n",
    "se.__data__['day'] = se.__data__['startDate'].dt.date\n",
    "\n",
    "print('Modified appEvents data file: ')\n",
    "print(ae.__data__.head())"
   ],
   "metadata": {
    "collapsed": false,
    "pycharm": {
     "name": "#%%\n",
     "is_executing": true
    }
   }
  },
  {
   "cell_type": "markdown",
   "source": [
    "## Output some info about the files\n",
    "Shapes of the files:"
   ],
   "metadata": {
    "collapsed": false,
    "pycharm": {
     "name": "#%% md\n"
    }
   }
  },
  {
   "cell_type": "code",
   "execution_count": null,
   "outputs": [],
   "source": [
    "# stress labels file\n",
    "print(\"stress LABELS file: \")\n",
    "print(f'> (rows, columns): {df_eod_experiencekit.shape[0], df_eod_experiencekit.shape[1]}')\n",
    "# show some labels\n",
    "#print(df_eod_experiencekit.daily_stress_level.head(3))\n",
    "# stress levels distribution\n",
    "#print(df_eod_experiencekit['daily_stress_level'].describe())\n",
    "#print(df_eod_experiencekit['daily_stress_level'].value_counts(normalize=True))\n",
    "print(\"----------------\")\n",
    "print(\"\")\n",
    "\n",
    "# mapping file\n",
    "print(\"MAPPINGS file: \")\n",
    "print(f'> (rows, columns): {df_mapping.shape[0], df_mapping.shape[1]}')\n",
    "print(\"----------------\")\n",
    "print(\"\")\n",
    "\n",
    "# features file\n",
    "print(\"MobileDNA DATA file: \")\n",
    "print(f'> (rows, columns): {ae.__data__.shape[0], ae.__data__.shape[1]}')\n",
    "print(\"----------------\")\n",
    "print(\"\")"
   ],
   "metadata": {
    "collapsed": false,
    "pycharm": {
     "name": "#%%\n",
     "is_executing": true
    }
   }
  },
  {
   "cell_type": "markdown",
   "source": [
    "number of unique id's in each file:"
   ],
   "metadata": {
    "collapsed": false
   }
  },
  {
   "cell_type": "code",
   "execution_count": null,
   "outputs": [],
   "source": [
    "\n",
    "print(f\"number of unique id's in the mobileDNA data: {ae.__data__['id'].nunique()}\")\n",
    "print(f\"number of unique id's in the mapping file: {df_mapping['MobileDNA_id'].nunique()}\")\n",
    "print(f\"number of unique panelkit id's in the mapping file: {df_mapping['panelkit_id'].nunique()}\")\n",
    "print(f\"number of unique panelkit id's in the experiencekit data: {df_eod_experiencekit['panelkit_id'].nunique()}\")\n",
    "print(\"-----------\")\n",
    "print(\"\")"
   ],
   "metadata": {
    "collapsed": false,
    "pycharm": {
     "name": "#%%\n",
     "is_executing": true
    }
   }
  },
  {
   "cell_type": "markdown",
   "source": [
    "## 2. Join the dataframes"
   ],
   "metadata": {
    "collapsed": false,
    "pycharm": {
     "name": "#%% md\n"
    }
   }
  },
  {
   "cell_type": "code",
   "execution_count": null,
   "outputs": [],
   "source": [
    "# add the panelkit-id's to the mobileDNA data for shared MobileDNA id (inner join)\n",
    "df_mapping = df_mapping.rename(columns={'MobileDNA_id': 'id'})\n",
    "ae.__data__ = ae.__data__.merge(df_mapping, on='id')\n",
    "\n",
    "print(f\"number of unique id's after adding the panelkit-id to the MobileDNA data: {ae.__data__['id'].nunique()}\")\n",
    "print(f\"number of entries in the MobileDNA data: {ae.__data__.shape[0]}\")\n",
    "# add the stress-level from experience-kit data to the mobileDNA data (inner join on panelkit-id and day)\n",
    "ae.__data__ = pd.merge(ae.__data__, df_eod_experiencekit, on=['day', 'panelkit_id'])\n",
    "print(f\"number of entries in the MobileDNA data after adding the stresslabels: {ae.__data__.shape[0]}\")\n",
    "\n",
    "#print(ae.__data__['category'].unique())"
   ],
   "metadata": {
    "collapsed": false,
    "pycharm": {
     "name": "#%%\n",
     "is_executing": true
    }
   }
  },
  {
   "cell_type": "markdown",
   "source": [
    "The resulting file with the stress levels mapped to the mobileDNA-id's:"
   ],
   "metadata": {
    "collapsed": false,
    "pycharm": {
     "name": "#%% md\n"
    }
   },
   "outputs": [
    {
     "ename": "SyntaxError",
     "evalue": "invalid syntax (2233753011.py, line 1)",
     "output_type": "error",
     "traceback": [
      "\u001B[0;36m  File \u001B[0;32m\"/var/folders/r1/mgm0ws211kg73r04pnxb4mjw0000gn/T/ipykernel_1213/2233753011.py\"\u001B[0;36m, line \u001B[0;32m1\u001B[0m\n\u001B[0;31m    The resulting file with the stress levels mapped to the mobileDNA-id's:\u001B[0m\n\u001B[0m        ^\u001B[0m\n\u001B[0;31mSyntaxError\u001B[0m\u001B[0;31m:\u001B[0m invalid syntax\n"
     ]
    }
   ],
   "execution_count": 375
  },
  {
   "cell_type": "code",
   "execution_count": null,
   "outputs": [],
   "source": [
    "print(ae.__data__.head())"
   ],
   "metadata": {
    "collapsed": false,
    "pycharm": {
     "name": "#%%\n",
     "is_executing": true
    }
   }
  },
  {
   "cell_type": "markdown",
   "source": [
    "## 3. Feature calculation\n",
    "All features from literature are listed [here](./Constructlijst_features.xlsx).\n",
    "### Stress Features\n",
    "#### General screen time"
   ],
   "metadata": {
    "collapsed": false,
    "pycharm": {
     "name": "#%% md\n"
    }
   }
  },
  {
   "cell_type": "code",
   "execution_count": null,
   "outputs": [],
   "source": [
    "#df_features = ae.__data__.groupby(['id', 'day']).agg()\n",
    "general_screen_time = (ae.get_daily_duration(series_unit='day') / 60)\n",
    "print(general_screen_time.head())"
   ],
   "metadata": {
    "collapsed": false,
    "pycharm": {
     "name": "#%%\n",
     "is_executing": true
    }
   }
  },
  {
   "cell_type": "markdown",
   "source": [
    "#### Smartphone use frequency"
   ],
   "metadata": {
    "collapsed": false,
    "pycharm": {
     "name": "#%% md\n"
    }
   }
  },
  {
   "cell_type": "code",
   "execution_count": null,
   "outputs": [],
   "source": [
    "smartphone_use_freq = ae.get_daily_events(series_unit=('day'))\n",
    "print(smartphone_use_freq.head(2))"
   ],
   "metadata": {
    "collapsed": false,
    "pycharm": {
     "name": "#%%\n",
     "is_executing": true
    }
   }
  },
  {
   "cell_type": "markdown",
   "source": [
    "#### Checking behaviour"
   ],
   "metadata": {
    "collapsed": false,
    "pycharm": {
     "name": "#%% md\n"
    }
   }
  },
  {
   "cell_type": "code",
   "execution_count": null,
   "outputs": [],
   "source": [
    "checking_behaviour = se.get_daily_sessions(avg=False)\n",
    "print(checking_behaviour.head())\n",
    "\n",
    "avg_checking_behaviour = se.get_daily_sessions(avg=True)\n",
    "print(avg_checking_behaviour.head())"
   ],
   "metadata": {
    "collapsed": false,
    "pycharm": {
     "name": "#%%\n",
     "is_executing": true
    }
   }
  },
  {
   "cell_type": "markdown",
   "source": [
    "#### Smartphone multitasking"
   ],
   "metadata": {
    "collapsed": false,
    "pycharm": {
     "name": "#%% md\n"
    }
   }
  },
  {
   "cell_type": "code",
   "execution_count": null,
   "outputs": [],
   "source": [
    "# todo"
   ],
   "metadata": {
    "collapsed": false,
    "pycharm": {
     "name": "#%%\n",
     "is_executing": true
    }
   }
  },
  {
   "cell_type": "markdown",
   "source": [
    "#### Duration MIM applications"
   ],
   "metadata": {
    "collapsed": false,
    "pycharm": {
     "name": "#%% md\n"
    }
   }
  },
  {
   "cell_type": "code",
   "source": [
    "duration_MIM_applications = (ae.get_daily_duration(category='chat', series_unit='day') / 60)\n",
    "print(duration_MIM_applications.head())"
   ],
   "metadata": {
    "collapsed": false,
    "pycharm": {
     "name": "#%%\n",
     "is_executing": true
    }
   },
   "execution_count": null,
   "outputs": []
  },
  {
   "cell_type": "markdown",
   "source": [
    "#### Frequency MIM applications"
   ],
   "metadata": {
    "collapsed": false
   }
  },
  {
   "cell_type": "code",
   "execution_count": null,
   "outputs": [],
   "source": [
    "freq_MIM_applications = ae.get_daily_events(category='chat', series_unit='day')\n",
    "print(freq_MIM_applications.head())"
   ],
   "metadata": {
    "collapsed": false,
    "pycharm": {
     "name": "#%%\n",
     "is_executing": true
    }
   }
  },
  {
   "cell_type": "markdown",
   "source": [
    "#### Notifications MIM applications"
   ],
   "metadata": {
    "collapsed": false
   }
  },
  {
   "cell_type": "code",
   "execution_count": null,
   "outputs": [],
   "source": [
    "daily_MIM_notifications = no.get_daily_notifications(category='chat', avg=False)\n",
    "print(daily_MIM_notifications.head())\n",
    "\n",
    "avg_daily_MIM_notifications = no.get_daily_notifications(category='chat', avg=True)\n",
    "print(avg_daily_MIM_notifications.head())"
   ],
   "metadata": {
    "collapsed": false,
    "pycharm": {
     "name": "#%%\n",
     "is_executing": true
    }
   }
  },
  {
   "cell_type": "markdown",
   "source": [
    "#### (Average) daily use of MIM applications during work hours"
   ],
   "metadata": {
    "collapsed": false
   }
  },
  {
   "cell_type": "code",
   "execution_count": null,
   "outputs": [],
   "source": [
    "# TODO change morning & noon to work hours (8-16 => 9-17)\n",
    "daily_use_work_hours = (ae.get_daily_duration(time_of_day=['morning', 'noon'], category='chat', series_unit='day') / 60)\n",
    "print(daily_use_work_hours.head())\n",
    "\n",
    "avg_daily_use_work_hours = (ae.get_daily_duration(time_of_day=['morning', 'noon'], category='chat') / 60)\n",
    "print(avg_daily_use_work_hours.head())"
   ],
   "metadata": {
    "collapsed": false,
    "pycharm": {
     "name": "#%%\n",
     "is_executing": true
    }
   }
  },
  {
   "cell_type": "markdown",
   "source": [
    "#### (Average) amount of social media notifications"
   ],
   "metadata": {
    "collapsed": false
   }
  },
  {
   "cell_type": "code",
   "execution_count": null,
   "outputs": [],
   "source": [
    "# first put some more specific social categories in one general 'Social' category\n",
    "unknown_categories = {\"banking\": [\"com.coinbase.pro\", \"com.kraken.trade\", \"com.kraken.invest.app\"],\"medical\": [\"be.imec.apt.stressy\",\"be.imec.apt.ichange.chillplusclient\",\"be.ilabt.contextaware.empatica\",\"be.ilabt.contextaware.mbrain\",\"be.sciensano.coronalert\",\"com.j_ware.polarsensorlogger\",\"com.urbandroid.sleep\",\"heartzones.com.heartzonestraining\",\"com.empatica.e4realtime\",],\"calling\": [\"com.oneplus.dialer\"],\"calendar\": [\"com.komorebi.SimpleCalendar\"],\"productivity\": [\"partl.workinghours\"],}\n",
    "\n",
    "category_map = {\"medical\": \"Health\",\"chat\": \"Social\",\"email\": \"Productivity\",\"system\": \"none\", \"unknown\": \"none\",\n",
    "                \"social\": \"Social\",\"tools\": \"Productivity\",\"browser\": \"Web\",\"productivity\": \"Productivity\",\n",
    "                \"photography\": \"none\",\"business\": \"Productivity\",\"music&audio\": \"Entertainment\",\"clock\": \"none\",\n",
    "                \"banking\": \"Finance\",\"lifestyle\": \"none\",\"health&fitness\": \"Health\",\"news&magazines\": \"News\",\n",
    "                \"gaming\": \"Entertainment\",\"calling\": \"Calling\",\"calendar\": \"Productivity\",\"video\": \"Entertainment\",\n",
    "                \"maps&navigation\": \"Navigation\",\"food & drink\": \"none\",\"finance\": \"Finance\",\"communication\": \"Social\",\n",
    "                \"ecommerce\": \"Shopping\",\"retail\": \"Shopping\",\"weather\": \"none\",\"sports\": \"none\",\"smartconnectivity\": \"none\",\n",
    "                \"card\": \"Entertainment\",\"travel & local\": \"none\",\"education\": \"Productivity\",\"entertainment\": \"Entertainment\",\n",
    "                \"music & audio\": \"Entertainment\",\"books & reference\": \"none\",\"shopping\": \"Shopping\",\"mobility\": \"Navigation\",\n",
    "                \"news & magazines\": \"News\",\"puzzle\": \"Entertainment\",}\n",
    "\n",
    "no.__data__['category'] = no.__data__['category'].apply(lambda x: category_map.get(x,x))\n",
    "\n",
    "daily_social_notifications = no.get_daily_notifications(category='Social')\n",
    "print(daily_social_notifications.head())\n",
    "\n",
    "avg_daily_social_notifications = no.get_daily_notifications(category='Social', avg=True)\n",
    "print(avg_daily_social_notifications.head())"
   ],
   "metadata": {
    "collapsed": false,
    "pycharm": {
     "name": "#%%\n",
     "is_executing": true
    }
   }
  },
  {
   "cell_type": "markdown",
   "source": [
    "#### (Average) daily use of social media applications"
   ],
   "metadata": {
    "collapsed": false
   }
  },
  {
   "cell_type": "code",
   "execution_count": null,
   "outputs": [],
   "source": [
    "i = ae.__data__['category'].nunique()\n",
    "# first map some more specific social categories in one 'Social' category\n",
    "ae.__data__['category'] = ae.__data__['category'].apply(lambda x: category_map.get(x,x))\n",
    "j = ae.__data__['category'].nunique()\n",
    "print(f'number of categories is reduced by {i-j}')\n",
    "\n",
    "daily_social_applications = (ae.get_daily_duration(category='Social', series_unit='day') / 60)\n",
    "print(daily_social_applications.head())\n",
    "\n",
    "avg_daily_social_applications = (ae.get_daily_duration(category='Social') / 60)\n",
    "print(avg_daily_social_applications.head())"
   ],
   "metadata": {
    "collapsed": false,
    "pycharm": {
     "name": "#%%\n",
     "is_executing": true
    }
   }
  },
  {
   "cell_type": "markdown",
   "source": [
    "#### (Average) daily amount of social media app events"
   ],
   "metadata": {
    "collapsed": false,
    "pycharm": {
     "name": "#%% md\n"
    }
   }
  },
  {
   "cell_type": "code",
   "execution_count": null,
   "outputs": [],
   "source": [
    "freq_social_applications = ae.get_daily_events(category='Social', series_unit='day')\n",
    "print(freq_social_applications.head())\n",
    "\n",
    "avg_freq_social_applications = ae.get_daily_events(category='Social')\n",
    "print(avg_freq_social_applications.head())"
   ],
   "metadata": {
    "collapsed": false,
    "pycharm": {
     "name": "#%%\n",
     "is_executing": true
    }
   }
  },
  {
   "cell_type": "markdown",
   "source": [
    "#### Average daily use during evening time"
   ],
   "metadata": {
    "collapsed": false,
    "pycharm": {
     "name": "#%% md\n"
    }
   }
  },
  {
   "cell_type": "code",
   "execution_count": null,
   "outputs": [],
   "source": [
    "daily_use_evening = (ae.get_daily_duration(time_of_day='eve', series_unit='day') / 60)\n",
    "print(daily_use_evening.head())\n",
    "\n",
    "avg_daily_use_evening = (ae.get_daily_duration(time_of_day='eve') / 60)\n",
    "print(avg_daily_use_evening.head())\n"
   ],
   "metadata": {
    "collapsed": false,
    "pycharm": {
     "name": "#%%\n",
     "is_executing": true
    }
   }
  },
  {
   "cell_type": "markdown",
   "source": [
    "#### (Average) daily use during night time"
   ],
   "metadata": {
    "collapsed": false
   }
  },
  {
   "cell_type": "code",
   "execution_count": null,
   "outputs": [],
   "source": [
    "daily_use_night = (ae.get_daily_duration(time_of_day='night', series_unit='day') / 60)\n",
    "print(daily_use_night.head())\n",
    "\n",
    "avg_daily_use_night = (ae.get_daily_duration(time_of_day='night') / 60)\n",
    "print(avg_daily_use_night.head())"
   ],
   "metadata": {
    "collapsed": false,
    "pycharm": {
     "name": "#%%\n",
     "is_executing": true
    }
   }
  },
  {
   "cell_type": "markdown",
   "source": [
    "#### (Average) daily amount of app events during evening/night time"
   ],
   "metadata": {
    "collapsed": false,
    "pycharm": {
     "name": "#%% md\n"
    }
   }
  },
  {
   "cell_type": "code",
   "execution_count": null,
   "outputs": [],
   "source": [
    "freq_evening_use = (ae.get_daily_events(time_of_day='eve', series_unit='day'))\n",
    "print(freq_evening_use.head())\n",
    "\n",
    "avg_freq_evening_use = (ae.get_daily_events(time_of_day='eve'))\n",
    "print(avg_freq_evening_use.head())\n",
    "\n",
    "freq_night_use = (ae.get_daily_events(time_of_day='night', series_unit='day'))\n",
    "print(freq_evening_use.head())\n",
    "\n",
    "avg_freq_night_use = (ae.get_daily_events(time_of_day='night'))\n",
    "print(avg_freq_night_use.head())"
   ],
   "metadata": {
    "collapsed": false,
    "pycharm": {
     "name": "#%%\n",
     "is_executing": true
    }
   }
  },
  {
   "cell_type": "markdown",
   "source": [
    "#### (Average) daily amount of notifications during evening/night time"
   ],
   "metadata": {
    "collapsed": false
   }
  },
  {
   "cell_type": "code",
   "execution_count": null,
   "outputs": [],
   "source": [
    "daily_eve_notifications = no.get_daily_notifications(time_of_day='eve')\n",
    "print(daily_eve_notifications.head())\n",
    "avg_daily_eve_notifications = no.get_daily_notifications(time_of_day='eve', avg=True)\n",
    "print(avg_daily_eve_notifications.head())\n",
    "# amount of notifications is hoog\n",
    "\n",
    "daily_night_notifications = (no.get_daily_notifications(time_of_day='night'))\n",
    "print(daily_night_notifications.head())\n",
    "avg_daily_night_notifications = (no.get_daily_notifications(time_of_day='night', avg=True))\n",
    "print(avg_daily_night_notifications.head())\n",
    "# amount of notifications is hoog"
   ],
   "metadata": {
    "collapsed": false,
    "pycharm": {
     "name": "#%%\n",
     "is_executing": true
    }
   }
  },
  {
   "cell_type": "markdown",
   "source": [
    "### Depression features\n",
    "#### General screen time\n",
    "#### Smartphone use frequency\n",
    "#### Screen unlocks (=checking behaviour)\n",
    "#### Average daily social smartphone use/ appevents/ notifications\n",
    "#### Average smartphone appevents/ use during evening/night hours\n",
    " &#8594; All done above\n",
    "#### (Average) time between sessions started on notification"
   ],
   "metadata": {
    "collapsed": false
   }
  },
  {
   "cell_type": "code",
   "execution_count": null,
   "outputs": [],
   "source": [
    "def calc_time_between_notification_sessions(df: pd.DataFrame, avg=False):\n",
    "    session_firsts = df.groupby([\"id\", \"session\"]).head(1)\n",
    "    session_firsts_notif = session_firsts[session_firsts[\"notification\"] == True]\n",
    "    session_firsts_notif = session_firsts_notif.assign(start_shift= session_firsts_notif.groupby([\"id\", \"startDate\"])[[\"startTime\"]].shift(-1))\n",
    "    session_firsts_notif = session_firsts_notif.assign(duration_shift=(session_firsts_notif[\"start_shift\"] - session_firsts_notif[\"endTime\"]).dt.total_seconds())\n",
    "\n",
    "    mean_shift_pd = (session_firsts_notif.groupby([\"id\", \"startDate\"])[\"duration_shift\"].mean() / 60)\n",
    "    mean_shift = mean_shift_pd.groupby(\"id\").mean()\n",
    "\n",
    "    if avg:\n",
    "        return mean_shift.rename(\"mins_between_notif_sessions\")\n",
    "    else:\n",
    "        return mean_shift_pd.rename(\"mins_between_notif_sessions\")\n"
   ],
   "metadata": {
    "collapsed": false,
    "pycharm": {
     "name": "#%%\n",
     "is_executing": true
    }
   }
  },
  {
   "cell_type": "code",
   "execution_count": null,
   "outputs": [],
   "source": [
    "time_between_notif_sessions = calc_time_between_notification_sessions(ae.__data__) # minutes\n",
    "print(time_between_notif_sessions.head())\n",
    "\n",
    "avg_time_between_notif_sessions = calc_time_between_notification_sessions(ae.__data__, avg=True) # minutes\n",
    "print(avg_time_between_notif_sessions.head())"
   ],
   "metadata": {
    "collapsed": false,
    "pycharm": {
     "name": "#%%\n",
     "is_executing": true
    }
   }
  },
  {
   "cell_type": "markdown",
   "source": [
    "#### Variability smartphone use during week"
   ],
   "metadata": {
    "collapsed": false
   }
  },
  {
   "cell_type": "code",
   "execution_count": null,
   "outputs": [],
   "source": [
    "def calc_weekly_use_variability(df: pd.DataFrame, duration: None):\n",
    "    if duration:\n",
    "        name = \"duration\"\n",
    "        variability = df.groupby([\"id\", pd.Grouper(key=\"startDate\", freq=\"W\")])[\"duration\"].sum().groupby(\"id\").std()\n",
    "    else:\n",
    "        name = \"appevents\"\n",
    "        variability = df.groupby([\"id\", pd.Grouper(key=\"startDate\", freq=\"W\")])[\"application\"].count().groupby(\"id\").std()\n",
    "\n",
    "    return variability.rename(f\"weekly_variability_{name}\")"
   ],
   "metadata": {
    "collapsed": false,
    "pycharm": {
     "name": "#%%\n",
     "is_executing": true
    }
   }
  },
  {
   "cell_type": "code",
   "execution_count": null,
   "outputs": [],
   "source": [
    "weekly_use_variability = calc_weekly_use_variability(ae.__data__, duration=True)\n",
    "print(weekly_use_variability.head())"
   ],
   "metadata": {
    "collapsed": false,
    "pycharm": {
     "name": "#%%\n",
     "is_executing": true
    }
   }
  },
  {
   "cell_type": "markdown",
   "source": [
    "#### (Average) daily use/events/notifications\n",
    "##### non-social (process) related apps"
   ],
   "metadata": {
    "collapsed": false,
    "pycharm": {
     "name": "#%% md\n"
    }
   },
   "execution_count": 654
  },
  {
   "cell_type": "code",
   "execution_count": null,
   "outputs": [],
   "source": [
    "social_cat = [\"Social\", \"Calling\"]\n",
    "all_cat = ae.__data__.category.unique().tolist()\n",
    "non_social_cat = list(set(all_cat) - set(social_cat))\n",
    "\n",
    "daily_non_social_applications = (ae.get_daily_duration(category=non_social_cat, series_unit='day') / 60).rename('daily_durations_non_social')\n",
    "print(daily_non_social_applications.head())\n",
    "avg_daily_non_social_applications = (ae.get_daily_duration(category=non_social_cat) / 60).rename('avg_daily_durations_non_social')\n",
    "print(avg_daily_non_social_applications.head())"
   ],
   "metadata": {
    "collapsed": false,
    "pycharm": {
     "name": "#%%\n",
     "is_executing": true
    }
   }
  },
  {
   "cell_type": "code",
   "execution_count": null,
   "outputs": [],
   "source": [
    "freq_non_social_applications = ae.get_daily_events(category=non_social_cat, series_unit='day').rename('daily_events_non_social')\n",
    "print(freq_non_social_applications.head())\n",
    "avg_freq_non_social_applications = ae.get_daily_events(category=non_social_cat).rename('daily_events_non_social')\n",
    "print(avg_freq_non_social_applications.head())"
   ],
   "metadata": {
    "collapsed": false,
    "pycharm": {
     "name": "#%%\n",
     "is_executing": true
    }
   }
  },
  {
   "cell_type": "code",
   "execution_count": null,
   "outputs": [],
   "source": [
    "daily_non_social_notifications = no.get_daily_notifications(category=non_social_cat).rename('daily_non_social_notifications')\n",
    "print(daily_non_social_notifications.head())\n",
    "\n",
    "avg_daily_non_social_notifications = no.get_daily_notifications(category=non_social_cat, avg=True).rename('avg_daily_non_social_notifications')\n",
    "print(avg_daily_non_social_notifications.head())"
   ],
   "metadata": {
    "collapsed": false,
    "pycharm": {
     "name": "#%%\n",
     "is_executing": true
    }
   }
  },
  {
   "cell_type": "markdown",
   "source": [
    "##### browser application"
   ],
   "metadata": {
    "collapsed": false,
    "pycharm": {
     "name": "#%% md\n"
    }
   }
  },
  {
   "cell_type": "code",
   "execution_count": null,
   "outputs": [],
   "source": [
    "browser_use = (ae.get_daily_duration(category='Web', series_unit='day') / 60)\n",
    "print(browser_use.head())\n",
    "\n",
    "avg_browser_use = (ae.get_daily_duration(category='Web') / 60)\n",
    "print(avg_browser_use.head())\n",
    "\n",
    "\n",
    "freq_browser_use = ae.get_daily_events(category='Web', series_unit='day')\n",
    "print(freq_browser_use.head())\n",
    "\n",
    "avg_freq_browser_use = ae.get_daily_events(category='Web', series_unit='day')\n",
    "print(avg_freq_browser_use.head())\n"
   ],
   "metadata": {
    "collapsed": false,
    "pycharm": {
     "name": "#%%\n",
     "is_executing": true
    }
   }
  },
  {
   "cell_type": "markdown",
   "source": [
    "##### news applications"
   ],
   "metadata": {
    "collapsed": false,
    "pycharm": {
     "name": "#%% md\n"
    }
   }
  },
  {
   "cell_type": "code",
   "execution_count": null,
   "outputs": [],
   "source": [
    "news_use = (ae.get_daily_duration(category='News', series_unit='day') / 60)\n",
    "print(news_use.head())\n",
    "\n",
    "avg_news_use = (ae.get_daily_duration(category='News') / 60)\n",
    "print(avg_news_use.head())\n",
    "\n",
    "freq_news_use = ae.get_daily_events(category='News', series_unit='day')\n",
    "print(freq_news_use.head())\n",
    "\n",
    "avg_freq_news_use = ae.get_daily_events(category='News')\n",
    "print(avg_freq_news_use.head())"
   ],
   "metadata": {
    "collapsed": false,
    "pycharm": {
     "name": "#%%\n",
     "is_executing": true
    }
   }
  },
  {
   "cell_type": "markdown",
   "source": [
    "##### instagram"
   ],
   "metadata": {
    "collapsed": false,
    "pycharm": {
     "name": "#%% md\n"
    }
   }
  },
  {
   "cell_type": "code",
   "execution_count": null,
   "outputs": [],
   "source": [
    "daily_instagram_use = (ae.get_daily_duration(application=\"com.instagram.android\", series_unit='day') / 60).rename('daily_durations_instagram')\n",
    "print(daily_instagram_use.head())\n",
    "\n",
    "avg_daily_instagram_use = (ae.get_daily_duration(application=\"com.instagram.android\") / 60).rename('avg_daily_durations_instagram')\n",
    "print(avg_daily_instagram_use.head())\n",
    "\n",
    "freq_instagram_use = ae.get_daily_events(application=\"com.instagram.android\", series_unit='day').rename('daily_events_instagram')\n",
    "print(freq_instagram_use.head())\n",
    "\n",
    "avg_freq_instagram_use = ae.get_daily_events(application=\"com.instagram.android\").rename('avg_daily_events_instagram')\n",
    "print(avg_freq_instagram_use.head())"
   ],
   "metadata": {
    "collapsed": false,
    "pycharm": {
     "name": "#%%\n",
     "is_executing": true
    }
   }
  },
  {
   "cell_type": "markdown",
   "source": [
    "### Headaches features\n",
    "##### Daily screen time\n",
    "&#8594; Already done above\n",
    "\n",
    "##### (Average) Daily call duration/frequency"
   ],
   "metadata": {
    "collapsed": false,
    "pycharm": {
     "name": "#%% md\n"
    }
   }
  },
  {
   "cell_type": "code",
   "execution_count": null,
   "outputs": [],
   "source": [
    "daily_call_duration = (ae.get_daily_duration(category='Calling', series_unit='day') /60)\n",
    "print(daily_call_duration.head())\n",
    "\n",
    "avg_daily_call_duration = (ae.get_daily_duration(category='Calling') /60)\n",
    "print(avg_daily_call_duration.head())\n",
    "\n",
    "freq_daily_call = ae.get_daily_events(category='Calling', series_unit='day')\n",
    "print(freq_daily_call.head())\n",
    "\n",
    "avg_freq_daily_call = ae.get_daily_events(category='Calling')\n",
    "print(avg_freq_daily_call.head())"
   ],
   "metadata": {
    "collapsed": false,
    "pycharm": {
     "name": "#%%\n",
     "is_executing": true
    }
   }
  },
  {
   "cell_type": "markdown",
   "source": [
    "### Activity features\n",
    "##### Average daily number of (unique) used apps"
   ],
   "metadata": {
    "collapsed": false,
    "pycharm": {
     "name": "#%% md\n"
    }
   }
  },
  {
   "cell_type": "code",
   "execution_count": null,
   "outputs": [],
   "source": [
    "# TODO unique apps"
   ],
   "metadata": {
    "collapsed": false,
    "pycharm": {
     "name": "#%%\n",
     "is_executing": true
    }
   }
  },
  {
   "cell_type": "markdown",
   "source": [
    "##### (Average) daily duration/ frequency of app use"
   ],
   "metadata": {
    "collapsed": false,
    "pycharm": {
     "name": "#%% md\n"
    }
   }
  },
  {
   "cell_type": "code",
   "execution_count": null,
   "outputs": [],
   "source": [
    "# TODO"
   ],
   "metadata": {
    "collapsed": false,
    "pycharm": {
     "name": "#%%\n",
     "is_executing": true
    }
   }
  },
  {
   "cell_type": "markdown",
   "source": [
    "##### Increase/decrease in battery status"
   ],
   "metadata": {
    "collapsed": false,
    "pycharm": {
     "name": "#%% md\n"
    }
   }
  },
  {
   "cell_type": "code",
   "execution_count": null,
   "outputs": [],
   "source": [
    "def calc_battery_status(df: pd.DataFrame):\n",
    "    \"\"\"\n",
    "    Calculates four battery status variables per participant:\n",
    "    - daily average battery level\n",
    "    - daily std dev of battery level\n",
    "    - daily average charge %\n",
    "    - daily average discharge %\n",
    "\n",
    "    :param df: the appevents DataFrame\n",
    "    :return: results DataFrame with 4 variables per participant\n",
    "    \"\"\"\n",
    "    df = df.copy()\n",
    "    df = df.sort_values(['id', 'startTime']).assign(battery_shift= df.groupby(['id', 'startDate'])['battery'].shift(-1))\n",
    "    df = df.assign(battery_change=df['battery_shift'] - df['battery'])\n",
    "\n",
    "    battery_avg = (df.groupby([\"id\", \"startDate\"])[\"battery\"].mean().groupby('id').mean()).rename('avg_daily_battery')\n",
    "    battery_std = (df.groupby([\"id\", \"startDate\"])[\"battery\"].mean().groupby('id').std()).rename(\"battery_std\")\n",
    "\n",
    "    battery_discharge = (df[df[\"battery_change\"] < 0].groupby(['id', 'startDate'])['battery_change'].sum()\n",
    "                         .abs().groupby('id').mean()).rename(\"battery_daily_discharge\")\n",
    "    battery_charge = (df[df[\"battery_change\"] > 0].groupby([\"id\", \"startDate\"])[\"battery_change\"].sum()\n",
    "                      .abs().groupby(\"id\").mean()).rename(\"battery_daily_charge\")\n",
    "\n",
    "    res = pd.concat([\n",
    "        battery_charge,\n",
    "        battery_discharge\n",
    "    ], axis=1)\n",
    "\n",
    "    return res"
   ],
   "metadata": {
    "collapsed": false,
    "pycharm": {
     "name": "#%%\n",
     "is_executing": true
    }
   }
  },
  {
   "cell_type": "code",
   "execution_count": null,
   "outputs": [],
   "source": [
    "    battery_status = calc_battery_status(ae.__data__)\n",
    "    print(battery_status.head())\n",
    "    # TODO not completely right, averaging app events not best way\n",
    "    # TODO per day"
   ],
   "metadata": {
    "collapsed": false,
    "pycharm": {
     "name": "#%%\n",
     "is_executing": true
    }
   }
  },
  {
   "cell_type": "markdown",
   "source": [
    "##### Average daily time between consecutive phone use sessions"
   ],
   "metadata": {
    "collapsed": false
   }
  },
  {
   "cell_type": "code",
   "execution_count": null,
   "outputs": [],
   "source": [
    "def calc_time_between_consecutive_sessions(df: pd.DataFrame, avg=False):\n",
    "    session_firsts = df.groupby([\"id\", \"session\"]).head(1)\n",
    "\n",
    "    session_firsts = session_firsts.assign(start_shift= session_firsts.groupby([\"id\", \"startDate\"])[[\"startTime\"]].shift(-1))\n",
    "    session_firsts= session_firsts.assign(duration_shift=(session_firsts[\"start_shift\"] - session_firsts[\"endTime\"]).dt.total_seconds())\n",
    "\n",
    "    mean_shift_pd = (session_firsts.groupby([\"id\", \"startDate\"])[\"duration_shift\"].mean() / 60) # pd= per day\n",
    "    mean_shift = mean_shift_pd.groupby(\"id\").mean()  # avg by user\n",
    "\n",
    "    if avg:\n",
    "        return mean_shift.rename(\"mins_between_sessions\")\n",
    "    else:\n",
    "        return mean_shift_pd.rename(\"mins_between_sessions\")"
   ],
   "metadata": {
    "collapsed": false,
    "pycharm": {
     "name": "#%%\n",
     "is_executing": true
    }
   }
  },
  {
   "cell_type": "code",
   "execution_count": null,
   "outputs": [],
   "source": [
    "daily_time_between_sessions = calc_time_between_consecutive_sessions(ae.__data__)\n",
    "print(daily_time_between_sessions.index.dtype)\n",
    "avg_daily_time_between_sessions = calc_time_between_consecutive_sessions(ae.__data__, avg=True)\n",
    "print(avg_daily_time_between_sessions.head())"
   ],
   "metadata": {
    "collapsed": false,
    "pycharm": {
     "name": "#%%\n",
     "is_executing": true
    }
   }
  },
  {
   "cell_type": "markdown",
   "source": [
    "## 4. Merge all features in one dataframe\n",
    "### Daily counted features"
   ],
   "metadata": {
    "collapsed": false,
    "pycharm": {
     "name": "#%% md\n"
    }
   }
  },
  {
   "cell_type": "code",
   "execution_count": null,
   "outputs": [],
   "source": [
    "# merge all dataframes with 'day' index\n",
    "temp1 = (pd.merge(general_screen_time, smartphone_use_freq, on=['id', 'day']\n",
    ").merge(duration_MIM_applications, on=['id', 'day']\n",
    ").merge(freq_MIM_applications, on=['id', 'day']\n",
    ").merge(daily_use_work_hours, on=['id', 'day']\n",
    ").merge(daily_social_applications, on=['id', 'day']\n",
    ").merge(freq_social_applications, on=['id', 'day']\n",
    ").merge(daily_use_evening,  on=['id', 'day']\n",
    ").merge(daily_use_night, on=['id', 'day']\n",
    ").merge(freq_evening_use, on=['id', 'day']\n",
    ").merge(freq_night_use, on=['id', 'day']\n",
    ").merge(daily_non_social_applications, on=['id', 'day']\n",
    ").merge(freq_non_social_applications, on=['id', 'day']\n",
    ").merge(browser_use, on=['id', 'day']\n",
    ").merge(freq_browser_use, on=['id', 'day']\n",
    ").merge(news_use, on=['id', 'day']\n",
    ").merge(freq_news_use, on=['id', 'day']\n",
    ").merge(daily_instagram_use, on=['id', 'day']\n",
    ").merge(freq_instagram_use, on=['id', 'day']\n",
    ").merge(daily_call_duration, on=['id', 'day']\n",
    ").merge(freq_daily_call, on=['id', 'day']\n",
    "))\n",
    "\n",
    "# merge all dataframes with 'date' index\n",
    "temp2 = (pd.merge(checking_behaviour, time_between_notif_sessions, on=['id', 'startDate']))\n",
    "\n",
    "# merge all dataframes with 'startDate' index\n",
    "temp3 = (pd.merge(daily_MIM_notifications, daily_social_notifications, on=['id', 'date']\n",
    ").merge(daily_eve_notifications, on=['id', 'date']\n",
    ").merge(daily_night_notifications, on=['id', 'date']\n",
    ").merge(daily_non_social_notifications, on=['id', 'date']))\n",
    "\n",
    "# change type of the date columns a give similar name\n",
    "temp1 = temp1.reset_index().astype({'day': 'datetime64[ns]'}).set_index(['id','day'])\n",
    "temp2 = temp2.reset_index().rename(columns={'startDate': 'day'}).set_index(['id', 'day'])\n",
    "temp3 = temp3.reset_index().astype({'date': 'datetime64[ns]'}).rename(columns={'date': 'day'}).set_index(['id','day'])\n",
    "\n",
    "# merge into one dataframe\n",
    "temp = (pd.merge(temp1, temp2, on=['id', 'day']).merge(temp3, on=['id', 'day']))\n",
    "print(temp.head())"
   ],
   "metadata": {
    "collapsed": false,
    "pycharm": {
     "name": "#%%\n",
     "is_executing": true
    }
   }
  },
  {
   "cell_type": "markdown",
   "source": [
    "#### Add stress labels"
   ],
   "metadata": {
    "collapsed": false,
    "pycharm": {
     "name": "#%% md\n"
    }
   }
  },
  {
   "cell_type": "code",
   "execution_count": null,
   "outputs": [],
   "source": [
    "labels = ae.__data__[['id', 'day','daily_stress_level']].reset_index(drop=True)\\\n",
    "    .astype({'day': 'datetime64[ns]', 'daily_stress_level': 'int64'}).set_index(['id','day'])\\\n",
    "    .groupby(['id','day']).first()\n",
    "\n",
    "print(labels.head(15))\n",
    "daily_feat = pd.merge(temp, labels, on=['id', 'day'])"
   ],
   "metadata": {
    "collapsed": false,
    "pycharm": {
     "name": "#%%\n",
     "is_executing": true
    }
   }
  },
  {
   "cell_type": "markdown",
   "source": [
    "The resulting dataframe with the features and labels per day, per user:"
   ],
   "metadata": {
    "collapsed": false
   }
  },
  {
   "cell_type": "code",
   "execution_count": null,
   "outputs": [],
   "source": [
    "print(daily_feat.head())\n",
    "\n"
   ],
   "metadata": {
    "collapsed": false,
    "pycharm": {
     "name": "#%%\n",
     "is_executing": true
    }
   }
  },
  {
   "cell_type": "markdown",
   "source": [
    "### Averaged features:"
   ],
   "metadata": {
    "collapsed": false,
    "pycharm": {
     "name": "#%% md\n"
    }
   }
  },
  {
   "cell_type": "code",
   "execution_count": null,
   "outputs": [],
   "source": [
    "avg_feat = pd.merge(avg_checking_behaviour, avg_daily_MIM_notifications, on=['id']\n",
    ").merge(avg_daily_use_work_hours, on=['id']\n",
    ").merge(avg_daily_social_notifications, on=['id']\n",
    ").merge(avg_daily_social_applications, on=['id']\n",
    ").merge(avg_freq_social_applications, on=['id']\n",
    ").merge(avg_daily_use_evening, on=['id']\n",
    ").merge(avg_daily_use_night, on=['id']\n",
    ").merge(avg_freq_evening_use, on=['id']\n",
    ").merge(avg_freq_night_use, on=['id']\n",
    ").merge(avg_daily_eve_notifications, on=['id']\n",
    ").merge(avg_daily_night_notifications, on=['id']\n",
    ").merge(avg_time_between_notif_sessions, on=['id']\n",
    ").merge(weekly_use_variability, on=['id']\n",
    ").merge(avg_daily_non_social_applications, on=['id']\n",
    ").merge(avg_freq_non_social_applications, on=['id']\n",
    ").merge(avg_daily_non_social_notifications, on=['id']\n",
    ").merge(avg_browser_use, on=['id']\n",
    ").merge(avg_freq_browser_use, on=['id']\n",
    ").merge(avg_news_use, on=['id']\n",
    ").merge(avg_freq_news_use, on=['id']\n",
    ").merge(avg_daily_instagram_use, on=['id']\n",
    ").merge(avg_freq_instagram_use, on=['id']\n",
    ").merge(avg_daily_call_duration, on=['id']\n",
    ").merge(avg_freq_daily_call, on=['id']\n",
    ").merge(avg_daily_time_between_sessions, on=['id']).groupby('id').first()\n",
    "\n",
    "print(avg_feat.head())"
   ],
   "metadata": {
    "collapsed": false,
    "pycharm": {
     "name": "#%%\n",
     "is_executing": true
    }
   }
  },
  {
   "cell_type": "markdown",
   "source": [
    "Add stress labels averaged per user:"
   ],
   "metadata": {
    "collapsed": false,
    "pycharm": {
     "name": "#%% md\n"
    }
   }
  },
  {
   "cell_type": "code",
   "execution_count": null,
   "outputs": [],
   "source": [
    "labels = ae.__data__[['id', 'day','daily_stress_level']].reset_index(drop=True)\\\n",
    "    .astype({'day': 'datetime64[ns]', 'daily_stress_level': 'int64'}).set_index(['id','day'])\\\n",
    "    .groupby(['id','day']).first().groupby('id').mean().astype({'daily_stress_level':'float64'})\n"
   ],
   "metadata": {
    "collapsed": false,
    "pycharm": {
     "name": "#%%\n",
     "is_executing": true
    }
   }
  },
  {
   "cell_type": "code",
   "execution_count": null,
   "outputs": [],
   "source": [
    "# add label to each feature vector\n",
    "avg_feat = avg_feat.merge(labels, on=['id'])\n",
    "# fill in Nan's with mean of the feature\n",
    "avg_feat = avg_feat.fillna(avg_feat.mean(axis=0))\n",
    "\n",
    "print(avg_feat.head())"
   ],
   "metadata": {
    "collapsed": false,
    "pycharm": {
     "name": "#%%\n",
     "is_executing": true
    }
   }
  },
  {
   "cell_type": "markdown",
   "source": [],
   "metadata": {
    "collapsed": false,
    "pycharm": {
     "name": "#%% md\n"
    }
   },
   "execution_count": 598
  },
  {
   "cell_type": "markdown",
   "source": [],
   "metadata": {
    "collapsed": false
   }
  },
  {
   "cell_type": "markdown",
   "source": [
    "## Feature correlation/importance/selection/..."
   ],
   "metadata": {
    "collapsed": false
   }
  },
  {
   "cell_type": "code",
   "source": [
    "import matplotlib.pyplot as plt\n",
    "import seaborn as sns\n",
    "\n",
    "correlation = avg_feat.corr()\n",
    "f ,ax = plt.subplots(figsize = (18, 14))\n",
    "plt.title('Correlation of Numeric Features and Daily Stress Level',y=1,size=16)\n",
    "sns.heatmap(correlation, square= True, annot=True, cmap='coolwarm')"
   ],
   "metadata": {
    "collapsed": false,
    "pycharm": {
     "name": "#%%\n",
     "is_executing": true
    }
   },
   "execution_count": null,
   "outputs": []
  },
  {
   "cell_type": "markdown",
   "source": [
    "correlations with daily stress level:"
   ],
   "metadata": {
    "collapsed": false,
    "pycharm": {
     "name": "#%% md\n"
    }
   }
  },
  {
   "cell_type": "code",
   "execution_count": null,
   "outputs": [],
   "source": [
    "plt.figure(figsize=(6,6))\n",
    "sns.heatmap(correlation[['daily_stress_level']].sort_values(by=['daily_stress_level'],ascending=False),\n",
    "            cmap='coolwarm',\n",
    "            vmax=0.3,\n",
    "            annot=True);\n",
    "#plt.savefig('correlations.png', format='png', dpi=1000, bbox_inches='tight')\n"
   ],
   "metadata": {
    "collapsed": false,
    "pycharm": {
     "name": "#%%\n",
     "is_executing": true
    }
   }
  },
  {
   "cell_type": "markdown",
   "source": [
    "Scatterplot of most correlated feature with daily stress level"
   ],
   "metadata": {
    "collapsed": false,
    "pycharm": {
     "name": "#%% md\n"
    }
   }
  },
  {
   "cell_type": "code",
   "execution_count": null,
   "outputs": [],
   "source": [
    "sns.scatterplot(data=avg_feat, x=avg_feat['daily_stress_level'], y=avg_feat['avg_daily_notifications_chat'])"
   ],
   "metadata": {
    "collapsed": false,
    "pycharm": {
     "name": "#%%\n",
     "is_executing": true
    }
   }
  },
  {
   "cell_type": "markdown",
   "source": [
    "### F-test for each feature\n",
    "Univariate linear regression tests returning F-statistic.\n",
    "Explanation [here](https://scikit-learn.org/stable/modules/generated/sklearn.feature_selection.f_regression.html)\n"
   ],
   "metadata": {
    "collapsed": false,
    "pycharm": {
     "name": "#%% md\n"
    }
   }
  },
  {
   "cell_type": "code",
   "execution_count": null,
   "outputs": [],
   "source": [
    "from sklearn.feature_selection import f_regression, SequentialFeatureSelector\n",
    "labels = avg_feat.pop('daily_stress_level')\n",
    "feature_names = avg_feat.columns.tolist()"
   ],
   "metadata": {
    "collapsed": false,
    "pycharm": {
     "name": "#%%\n",
     "is_executing": true
    }
   }
  },
  {
   "cell_type": "code",
   "execution_count": null,
   "outputs": [],
   "source": [
    "f_statistic,_ = f_regression(avg_feat, labels)\n",
    "\n",
    "f_statistics = sorted(zip(feature_names, f_statistic), key=lambda x:x[1], reverse=True)\n",
    "print(f_statistics)"
   ],
   "metadata": {
    "collapsed": false,
    "pycharm": {
     "name": "#%%\n",
     "is_executing": true
    }
   }
  },
  {
   "cell_type": "markdown",
   "source": [
    "### Standardize feature set"
   ],
   "metadata": {
    "collapsed": false,
    "pycharm": {
     "name": "#%% md\n"
    }
   }
  },
  {
   "cell_type": "code",
   "execution_count": null,
   "outputs": [],
   "source": [
    "# standardize features\n",
    "res_normalized = avg_feat.transform(lambda x: ((x - x.mean()) / x.std()))\n",
    "print(res_normalized.head())"
   ],
   "metadata": {
    "collapsed": false,
    "pycharm": {
     "name": "#%%\n",
     "is_executing": true
    }
   }
  },
  {
   "cell_type": "markdown",
   "source": [
    "### Fit regression models"
   ],
   "metadata": {
    "collapsed": false,
    "pycharm": {
     "name": "#%% md\n"
    }
   }
  },
  {
   "cell_type": "code",
   "execution_count": null,
   "outputs": [],
   "source": [
    "# build regression\n",
    "X = res_normalized\n",
    "y = labels\n",
    "\n",
    "# set-up models\n",
    "dum = DummyRegressor(strategy='mean')\n",
    "en = ElasticNet()\n",
    "las = Lasso()\n",
    "svr = SVR()\n",
    "rfr = RandomForestRegressor(n_estimators=100)\n",
    "\n",
    "# takes too long\n",
    "#data_dmatrix = xgboost.DMatrix(data=X, label=y)\n",
    "#xg_params = {\"objective\": \"reg:squarederror\", 'colsample_bytree': 0.3, 'learning_rate': 0.2,\n",
    "#              'max_depth': 10, 'alpha': 10}\n",
    "\n",
    "\n",
    "# fit and cross-validate\n",
    "dum_results = cross_validate(dum, X, y, cv=5,\n",
    "                             scoring=['explained_variance', 'r2', 'neg_mean_absolute_error',\n",
    "                                      'neg_root_mean_squared_error'])\n",
    "en_results = cross_validate(en, X, y, cv=5,\n",
    "                             scoring=['explained_variance', 'r2', 'neg_mean_absolute_error',\n",
    "                                      'neg_root_mean_squared_error'])\n",
    "las_results = cross_validate(las, X, y, cv=5,\n",
    "                             scoring=['explained_variance', 'r2', 'neg_mean_absolute_error',\n",
    "                                      'neg_root_mean_squared_error'])\n",
    "svr_results = cross_validate(svr, X, y, cv=5,\n",
    "                             scoring=['explained_variance', 'r2', 'neg_mean_absolute_error',\n",
    "                                      'neg_root_mean_squared_error'])\n",
    "rfr_results = cross_validate(rfr, X, y, cv=5,\n",
    "                             scoring=['explained_variance', 'r2', 'neg_mean_absolute_error',\n",
    "                                      'neg_root_mean_squared_error'])\n",
    "#xg_results = xgboost.cv(dtrain=data_dmatrix, params=xg_params, nfold=5, num_boost_round=50,\n",
    "#                        early_stopping_rounds=10, metrics=\"rmse\", as_pandas=True, seed=123)"
   ],
   "metadata": {
    "collapsed": false,
    "pycharm": {
     "name": "#%%\n",
     "is_executing": true
    }
   }
  },
  {
   "cell_type": "markdown",
   "source": [
    "Rank all models frow lowest to highest RMSE"
   ],
   "metadata": {
    "collapsed": false,
    "pycharm": {
     "name": "#%% md\n"
    }
   }
  },
  {
   "cell_type": "code",
   "execution_count": null,
   "outputs": [],
   "source": [
    "dict = {'dummy': dum_results['test_neg_root_mean_squared_error'][0],\n",
    "       'en': en_results['test_neg_root_mean_squared_error'][0],\n",
    "        'lasso' : las_results['test_neg_root_mean_squared_error'][0],\n",
    "       'svr': svr_results['test_neg_root_mean_squared_error'][0],\n",
    "        'rfr': rfr_results['test_neg_root_mean_squared_error'][0]}\n",
    "\n",
    "dict = {key : round(dict[key], 3) for key in dict}\n",
    "\n",
    "ranked = sorted(dict, key=dict.get, reverse=True)\n",
    "print(ranked)\n",
    "print(f\"models ranked from better to worse: {ranked} (RMSE as metric)\")\n",
    "\n",
    "# plot results\n",
    "metric = 'test_neg_root_mean_squared_error'\n",
    "plt.boxplot([dum_results[metric],\n",
    "             en_results[metric],\n",
    "             las_results[metric],\n",
    "             svr_results[metric],\n",
    "             rfr_results[metric]],\n",
    "             labels=['dummy', 'elasticnet', 'lasso', 'svr', 'rfr'])\n",
    "\n",
    "plt.title('RMSE on test set for different regressors')\n",
    "plt.savefig('./RMSE_boxplots.png', format='png', dpi=1000)\n"
   ],
   "metadata": {
    "collapsed": false,
    "pycharm": {
     "name": "#%%\n",
     "is_executing": true
    }
   }
  },
  {
   "cell_type": "code",
   "source": [
    "print(\"FINISHED PROGRAM\")\n"
   ],
   "metadata": {
    "collapsed": false,
    "pycharm": {
     "name": "#%%\n",
     "is_executing": true
    }
   },
   "execution_count": null,
   "outputs": []
  }
 ],
 "metadata": {
  "kernelspec": {
   "name": "python3",
   "language": "python",
   "display_name": "Python 3 (ipykernel)"
  },
  "language_info": {
   "codemirror_mode": {
    "name": "ipython",
    "version": 2
   },
   "file_extension": ".py",
   "mimetype": "text/x-python",
   "name": "python",
   "nbconvert_exporter": "python",
   "pygments_lexer": "ipython2",
   "version": "2.7.6"
  }
 },
 "nbformat": 4,
 "nbformat_minor": 0
}