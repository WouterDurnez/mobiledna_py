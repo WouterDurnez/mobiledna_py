{
 "cells": [
  {
   "cell_type": "markdown",
   "metadata": {
    "collapsed": true,
    "pycharm": {
     "name": "#%% md\n"
    }
   },
   "source": [
    "# mBrain: stress features"
   ]
  },
  {
   "cell_type": "code",
   "source": [
    "from mobiledna.core.appevents import Appevents\n",
    "from mobiledna.core.sessions import Sessions\n",
    "from mobiledna.core.notifications import Notifications\n",
    "\n",
    "import pandas as pd\n",
    "from sklearn.model_selection import KFold\n",
    "from sklearn.ensemble import RandomForestClassifier\n",
    "from sklearn.metrics import classification_report"
   ],
   "metadata": {
    "collapsed": false,
    "pycharm": {
     "name": "#%%\n"
    }
   },
   "execution_count": 502,
   "outputs": []
  },
  {
   "cell_type": "markdown",
   "source": [
    "## Open the needed files"
   ],
   "metadata": {
    "collapsed": false,
    "pycharm": {
     "name": "#%% md\n"
    }
   }
  },
  {
   "cell_type": "code",
   "execution_count": null,
   "outputs": [
    {
     "name": "stdout",
     "output_type": "stream",
     "text": [
      "2021-10-11 13:02:45 - Recognized file type as <csv>.\n"
     ]
    },
    {
     "name": "stderr",
     "output_type": "stream",
     "text": [
      "/Users/simonperneel/Documents/Imec-mict/mobiledna_py/mobiledna/core/help.py:178: FutureWarning: The error_bad_lines argument has been deprecated and will be removed in a future version.\n",
      "\n",
      "\n",
      "  res = f(*args, **kwargs)\n"
     ]
    },
    {
     "name": "stdout",
     "output_type": "stream",
     "text": [
      "2021-10-11 13:02:49 - 'load' took 3.416 seconds to complete.\n",
      "2021-10-11 13:02:50 - Recognized file type as <parquet>.\n",
      "2021-10-11 13:03:01 - 'load' took 10.717 seconds to complete.\n",
      "2021-10-11 13:03:33 - Recognized file type as <csv>.\n",
      "2021-10-11 13:03:35 - 'load' took 1.33 seconds to complete.\n"
     ]
    },
    {
     "name": "stderr",
     "output_type": "stream",
     "text": [
      "Adding category: 100%|██████████| 1489208/1489208 [00:01<00:00, 1176999.63it/s]\n",
      "Adding tod <startTime>: 100%|██████████| 1489208/1489208 [00:00<00:00, 1778810.83it/s]\n",
      "Adding category:  90%|████████▉ | 24913775/27772223 [00:17<00:02, 1418873.25it/s]"
     ]
    }
   ],
   "source": [
    "# file with the stress labels\n",
    "df_eod_experiencekit = pd.read_parquet(\"../data/data_nervosity/df_eod_experiencekit.parquet\")\n",
    "\n",
    "# file with the mapping of the mobileDNA-id and the panelkit-id\n",
    "df_mapping = pd.read_csv(\"../data/data_nervosity/MobileDNA_mapping_panelkitid.csv\", sep=';')\n",
    "\n",
    "# files needed for the feature calculation\n",
    "ae = Appevents.load_data(\"../data/data_nervosity/wave_3_2/210803_nervocity_appevents.csv\", sep=';')\n",
    "no = Notifications.load_data(\"../data/data_nervosity/wave_3_2/210803_nervocity_notifications.parquet\")\n",
    "se = Sessions.load_data(\"../data/data_nervosity/wave_3_2/210803_nervocity_sessions.csv\", sep=';')\n",
    "\n",
    "ae.add_category(scrape=False).add_time_of_day()\n",
    "no.add_category(scrape=False)\n",
    "no.add_time_of_day(time_col='time')\n",
    "no.__data__ = no.__data__.rename(columns={'TOD': 'startTOD'})  # sketchy but otherwise it won't work\n",
    "\n",
    "# only keep the columns we need in the mapping file and experiencekit data\n",
    "df_mapping = df_mapping[['panelkit_id', 'MobileDNA_id']]\n",
    "df_eod_experiencekit = df_eod_experiencekit[['panelkit_id', 'daily_stress_level', 'timestamp']]\n",
    "df_eod_experiencekit['day'] = df_eod_experiencekit['timestamp'].dt.date  # only keep date from timestamp\n",
    "df_eod_experiencekit.pop('timestamp')\n",
    "\n",
    "# add a column with the day for each appEvent\n",
    "ae.__data__['day'] = ae.__data__['startTime'].dt.date\n",
    "print('Modified appEvents data file: ')\n",
    "print(ae.__data__.head())"
   ],
   "metadata": {
    "collapsed": false,
    "pycharm": {
     "name": "#%%\n",
     "is_executing": true
    }
   }
  },
  {
   "cell_type": "code",
   "execution_count": null,
   "outputs": [],
   "source": [
    "# load dummy data (for testing)\n",
    "no_dummy = Notifications.load_data(\"./dummy_notifications.csv\", sep=';')"
   ],
   "metadata": {
    "collapsed": false,
    "pycharm": {
     "name": "#%%\n",
     "is_executing": true
    }
   }
  },
  {
   "cell_type": "markdown",
   "source": [
    "## Output some info about the files\n",
    "Shapes of the files:"
   ],
   "metadata": {
    "collapsed": false,
    "pycharm": {
     "name": "#%% md\n"
    }
   }
  },
  {
   "cell_type": "code",
   "execution_count": null,
   "outputs": [],
   "source": [
    "# stress labels file\n",
    "print(\"stress LABELS file: \")\n",
    "print(f'> (rows, columns): {df_eod_experiencekit.shape[0], df_eod_experiencekit.shape[1]}')\n",
    "# show some labels\n",
    "#print(df_eod_experiencekit.daily_stress_level.head(3))\n",
    "# stress levels distribution\n",
    "#print(df_eod_experiencekit['daily_stress_level'].describe())\n",
    "#print(df_eod_experiencekit['daily_stress_level'].value_counts(normalize=True))\n",
    "print(\"----------------\")\n",
    "print(\"\")\n",
    "\n",
    "# mapping file\n",
    "print(\"MAPPINGS file: \")\n",
    "print(f'> (rows, columns): {df_mapping.shape[0], df_mapping.shape[1]}')\n",
    "print(\"----------------\")\n",
    "print(\"\")\n",
    "\n",
    "# features file\n",
    "print(\"MobileDNA DATA file: \")\n",
    "print(f'> (rows, columns): {ae.__data__.shape[0], ae.__data__.shape[1]}')\n",
    "print(\"----------------\")\n",
    "print(\"\")"
   ],
   "metadata": {
    "collapsed": false,
    "pycharm": {
     "name": "#%%\n",
     "is_executing": true
    }
   }
  },
  {
   "cell_type": "markdown",
   "source": [
    "number of unique id's in each file:"
   ],
   "metadata": {
    "collapsed": false
   }
  },
  {
   "cell_type": "code",
   "execution_count": null,
   "outputs": [],
   "source": [
    "\n",
    "print(f\"number of unique id's in the mobileDNA data: {ae.__data__['id'].nunique()}\")\n",
    "print(f\"number of unique id's in the mapping file: {df_mapping['MobileDNA_id'].nunique()}\")\n",
    "print(f\"number of unique panelkit id's in the mapping file: {df_mapping['panelkit_id'].nunique()}\")\n",
    "print(f\"number of unique panelkit id's in the experiencekit data: {df_eod_experiencekit['panelkit_id'].nunique()}\")\n",
    "print(\"-----------\")\n",
    "print(\"\")"
   ],
   "metadata": {
    "collapsed": false,
    "pycharm": {
     "name": "#%%\n",
     "is_executing": true
    }
   }
  },
  {
   "cell_type": "markdown",
   "source": [
    "## Join the dataframes"
   ],
   "metadata": {
    "collapsed": false,
    "pycharm": {
     "name": "#%% md\n"
    }
   }
  },
  {
   "cell_type": "code",
   "execution_count": null,
   "outputs": [],
   "source": [
    "# add the panelkit-id's to the mobileDNA data for shared MobileDNA id (inner join)\n",
    "df_mapping = df_mapping.rename(columns={'MobileDNA_id': 'id'})\n",
    "ae.__data__ = ae.__data__.merge(df_mapping, on='id')\n",
    "\n",
    "print(f\"number of unique id's after adding the panelkit-id to the MobileDNA data: {ae.__data__['id'].nunique()}\")\n",
    "print(f\"number of entries in the MobileDNA data: {ae.__data__.shape[0]}\")\n",
    "# add the stress-level from experience-kit data to the mobileDNA data (inner join on panelkit-id and day)\n",
    "ae.__data__ = pd.merge(ae.__data__, df_eod_experiencekit, on=['day', 'panelkit_id'])\n",
    "print(f\"number of entries in the MobileDNA data after adding the stresslabels: {ae.__data__.shape[0]}\")\n",
    "\n",
    "#print(ae.__data__['category'].unique())"
   ],
   "metadata": {
    "collapsed": false,
    "pycharm": {
     "name": "#%%\n",
     "is_executing": true
    }
   }
  },
  {
   "cell_type": "markdown",
   "source": [
    "The resulting file with the stress levels mapped to the mobileDNA-id's:"
   ],
   "metadata": {
    "collapsed": false,
    "pycharm": {
     "name": "#%% md\n"
    }
   },
   "outputs": [
    {
     "ename": "SyntaxError",
     "evalue": "invalid syntax (2233753011.py, line 1)",
     "output_type": "error",
     "traceback": [
      "\u001B[0;36m  File \u001B[0;32m\"/var/folders/r1/mgm0ws211kg73r04pnxb4mjw0000gn/T/ipykernel_1213/2233753011.py\"\u001B[0;36m, line \u001B[0;32m1\u001B[0m\n\u001B[0;31m    The resulting file with the stress levels mapped to the mobileDNA-id's:\u001B[0m\n\u001B[0m        ^\u001B[0m\n\u001B[0;31mSyntaxError\u001B[0m\u001B[0;31m:\u001B[0m invalid syntax\n"
     ]
    }
   ],
   "execution_count": 375
  },
  {
   "cell_type": "code",
   "execution_count": null,
   "outputs": [],
   "source": [],
   "metadata": {
    "collapsed": false,
    "pycharm": {
     "name": "#%%\n",
     "is_executing": true
    }
   }
  },
  {
   "cell_type": "markdown",
   "source": [
    "## Feature calculation\n",
    "#### General screen time"
   ],
   "metadata": {
    "collapsed": false,
    "pycharm": {
     "name": "#%% md\n"
    }
   }
  },
  {
   "cell_type": "code",
   "execution_count": null,
   "outputs": [],
   "source": [
    "#df_features = ae.__data__.groupby(['id', 'day']).agg()\n",
    "general_screen_time = (ae.get_daily_duration(series_unit='day') / 60)\n",
    "print(general_screen_time.head())"
   ],
   "metadata": {
    "collapsed": false,
    "pycharm": {
     "name": "#%%\n",
     "is_executing": true
    }
   }
  },
  {
   "cell_type": "markdown",
   "source": [
    "#### Smartphone use frequency"
   ],
   "metadata": {
    "collapsed": false,
    "pycharm": {
     "name": "#%% md\n"
    }
   }
  },
  {
   "cell_type": "code",
   "execution_count": null,
   "outputs": [],
   "source": [
    "smartphone_use_freq = ae.get_daily_events(series_unit=('day'))\n",
    "print(smartphone_use_freq.head(2))"
   ],
   "metadata": {
    "collapsed": false,
    "pycharm": {
     "name": "#%%\n",
     "is_executing": true
    }
   }
  },
  {
   "cell_type": "markdown",
   "source": [
    "#### Checking behaviour"
   ],
   "metadata": {
    "collapsed": false,
    "pycharm": {
     "name": "#%% md\n"
    }
   }
  },
  {
   "cell_type": "code",
   "execution_count": null,
   "outputs": [],
   "source": [
    "checking_behaviour = se.get_daily_sessions()\n",
    "print(checking_behaviour.head())"
   ],
   "metadata": {
    "collapsed": false,
    "pycharm": {
     "name": "#%%\n",
     "is_executing": true
    }
   }
  },
  {
   "cell_type": "markdown",
   "source": [
    "#### Smartphone multitasking"
   ],
   "metadata": {
    "collapsed": false,
    "pycharm": {
     "name": "#%% md\n"
    }
   }
  },
  {
   "cell_type": "code",
   "execution_count": null,
   "outputs": [],
   "source": [
    "# todo"
   ],
   "metadata": {
    "collapsed": false,
    "pycharm": {
     "name": "#%%\n",
     "is_executing": true
    }
   }
  },
  {
   "cell_type": "markdown",
   "source": [
    "#### Duration MIM applications"
   ],
   "metadata": {
    "collapsed": false,
    "pycharm": {
     "name": "#%% md\n"
    }
   }
  },
  {
   "cell_type": "code",
   "source": [
    "# (MIM=mobile instant messaging == chat?)\n",
    "duration_MIM_applications = (ae.get_daily_duration(category='chat', series_unit='day') / 60)\n",
    "print(duration_MIM_applications.head())"
   ],
   "metadata": {
    "collapsed": false,
    "pycharm": {
     "name": "#%%\n",
     "is_executing": true
    }
   },
   "execution_count": null,
   "outputs": []
  },
  {
   "cell_type": "markdown",
   "source": [
    "#### Frequency MIM applications"
   ],
   "metadata": {
    "collapsed": false
   }
  },
  {
   "cell_type": "code",
   "execution_count": null,
   "outputs": [],
   "source": [
    "freq_MIM_applications = ae.get_daily_events(category='chat', series_unit='day')\n",
    "print(freq_MIM_applications.head())"
   ],
   "metadata": {
    "collapsed": false,
    "pycharm": {
     "name": "#%%\n",
     "is_executing": true
    }
   }
  },
  {
   "cell_type": "markdown",
   "source": [
    "#### Notifications MIM applications"
   ],
   "metadata": {
    "collapsed": false
   }
  },
  {
   "cell_type": "code",
   "execution_count": null,
   "outputs": [],
   "source": [
    "avg_daily_MIM_notifications = no.get_daily_notifications(category='chat')\n",
    "print(avg_daily_MIM_notifications.head())"
   ],
   "metadata": {
    "collapsed": false,
    "pycharm": {
     "name": "#%%\n",
     "is_executing": true
    }
   }
  },
  {
   "cell_type": "markdown",
   "source": [
    "#### Average daily use of MIM applications during work hours"
   ],
   "metadata": {
    "collapsed": false
   }
  },
  {
   "cell_type": "code",
   "execution_count": null,
   "outputs": [],
   "source": [
    "# TODO change morning & noon to work hours (8-16 => 9-17)\n",
    "avg_daily_use_work_hours = (ae.get_daily_duration(time_of_day=['morning', 'noon'], category='chat') / 60)\n",
    "print(avg_daily_use_work_hours.head())\n",
    "avg_daily_use_work_hours.plot.hist()"
   ],
   "metadata": {
    "collapsed": false,
    "pycharm": {
     "name": "#%%\n",
     "is_executing": true
    }
   }
  },
  {
   "cell_type": "markdown",
   "source": [
    "#### Average amount of social media notifications"
   ],
   "metadata": {
    "collapsed": false
   }
  },
  {
   "cell_type": "code",
   "execution_count": null,
   "outputs": [],
   "source": [
    "# first put some more specific social categories in one general 'Social' category\n",
    "unknown_categories = {\"banking\": [\"com.coinbase.pro\", \"com.kraken.trade\", \"com.kraken.invest.app\"],\"medical\": [\"be.imec.apt.stressy\",\"be.imec.apt.ichange.chillplusclient\",\"be.ilabt.contextaware.empatica\",\"be.ilabt.contextaware.mbrain\",\"be.sciensano.coronalert\",\"com.j_ware.polarsensorlogger\",\"com.urbandroid.sleep\",\"heartzones.com.heartzonestraining\",\"com.empatica.e4realtime\",],\"calling\": [\"com.oneplus.dialer\"],\"calendar\": [\"com.komorebi.SimpleCalendar\"],\"productivity\": [\"partl.workinghours\"],}\n",
    "category_map = {\"medical\": \"Health\",\"chat\": \"Social\",\"email\": \"Productivity\",\"system\": \"none\", \"unknown\": \"none\",\"social\": \"Social\",\"tools\": \"Productivity\",\"browser\": \"Web\",\"productivity\": \"Productivity\",\"photography\": \"none\",\"business\": \"Productivity\",\"music&audio\": \"Entertainment\",\"clock\": \"none\",\"banking\": \"Finance\",\"lifestyle\": \"none\",\"health&fitness\": \"Health\",\"news&magazines\": \"News\",\"gaming\": \"Entertainment\",\"calling\": \"Calling\",\"calendar\": \"Productivity\",\"video\": \"Entertainment\",\"contacts\": \"Calling\",\"video&audioconferencing\": \"Productivity\",\"health & fitness\": \"Health\",\"maps&navigation\": \"Navigation\",\"food & drink\": \"none\",\"finance\": \"Finance\",\"communication\": \"Social\",\"ecommerce\": \"Shopping\",\"retail\": \"Shopping\",\"weather\": \"none\",\"sports\": \"none\",\"smartconnectivity\": \"none\",\"card\": \"Entertainment\",\"travel & local\": \"none\",\"education\": \"Productivity\",\"entertainment\": \"Entertainment\",\"music & audio\": \"Entertainment\",\"books & reference\": \"none\",\"shopping\": \"Shopping\",\"mobility\": \"Navigation\",\"news & magazines\": \"News\",\"puzzle\": \"Entertainment\",}\n",
    "no.__data__['category'] = no.__data__['category'].apply(lambda x: category_map.get(x,x))\n",
    "\n",
    "avg_daily_social_notifications = no.get_daily_notifications(category='Social')\n",
    "print(avg_daily_social_notifications.head())"
   ],
   "metadata": {
    "collapsed": false,
    "pycharm": {
     "name": "#%%\n",
     "is_executing": true
    }
   }
  },
  {
   "cell_type": "markdown",
   "source": [
    "#### Average daily use of social media applications"
   ],
   "metadata": {
    "collapsed": false,
    "pycharm": {
     "name": "#%% md\n"
    }
   }
  },
  {
   "cell_type": "code",
   "execution_count": null,
   "outputs": [],
   "source": [
    "i = ae.__data__['category'].nunique()\n",
    "# first map some more specific social categories in one 'Social' category\n",
    "ae.__data__['category'] = ae.__data__['category'].apply(lambda x: category_map.get(x,x))\n",
    "j = ae.__data__['category'].nunique()\n",
    "print(f'number of categories is reduced by {i-j}')\n",
    "\n",
    "avg_daily_social_applications = (ae.get_daily_duration(category='Social', series_unit='day') / 60)\n",
    "print(avg_daily_social_applications.head())"
   ],
   "metadata": {
    "collapsed": false,
    "pycharm": {
     "name": "#%%\n",
     "is_executing": true
    }
   }
  },
  {
   "cell_type": "markdown",
   "source": [
    "#### Average daily amount of social media app events"
   ],
   "metadata": {
    "collapsed": false,
    "pycharm": {
     "name": "#%% md\n"
    }
   }
  },
  {
   "cell_type": "code",
   "execution_count": null,
   "outputs": [],
   "source": [
    "freq_social_applications = ae.get_daily_events(category='Social', series_unit='day')\n",
    "print(freq_social_applications.head())"
   ],
   "metadata": {
    "collapsed": false,
    "pycharm": {
     "name": "#%%\n",
     "is_executing": true
    }
   }
  },
  {
   "cell_type": "markdown",
   "source": [
    "#### Duration of different social media applications"
   ],
   "metadata": {
    "collapsed": false,
    "pycharm": {
     "name": "#%% md\n"
    }
   }
  },
  {
   "cell_type": "code",
   "execution_count": null,
   "outputs": [],
   "source": [
    "#todo"
   ],
   "metadata": {
    "collapsed": false,
    "pycharm": {
     "name": "#%%\n",
     "is_executing": true
    }
   }
  },
  {
   "cell_type": "markdown",
   "source": [
    "#### Average daily use during evening time"
   ],
   "metadata": {
    "collapsed": false,
    "pycharm": {
     "name": "#%% md\n"
    }
   }
  },
  {
   "cell_type": "code",
   "execution_count": null,
   "outputs": [],
   "source": [
    "avg_daily_use_evening = (ae.get_daily_duration(time_of_day='eve') / 60) #per day: series_unit='day'\n",
    "print(avg_daily_use_evening.head())\n"
   ],
   "metadata": {
    "collapsed": false,
    "pycharm": {
     "name": "#%%\n",
     "is_executing": true
    }
   }
  },
  {
   "cell_type": "markdown",
   "source": [
    "#### Average daily use during night time"
   ],
   "metadata": {
    "collapsed": false
   }
  },
  {
   "cell_type": "code",
   "execution_count": null,
   "outputs": [],
   "source": [
    "avg_daily_use_night = (ae.get_daily_duration(time_of_day='night') / 60) #per day: series_unit='day'\n",
    "print(avg_daily_use_night.head())"
   ],
   "metadata": {
    "collapsed": false,
    "pycharm": {
     "name": "#%%\n",
     "is_executing": true
    }
   }
  },
  {
   "cell_type": "markdown",
   "source": [
    "#### Average daily amount of app events during evening time"
   ],
   "metadata": {
    "collapsed": false,
    "pycharm": {
     "name": "#%% md\n"
    }
   }
  },
  {
   "cell_type": "code",
   "execution_count": null,
   "outputs": [],
   "source": [
    "freq_evening_use = (ae.get_daily_events(time_of_day='eve'))\n",
    "print(freq_evening_use.head())"
   ],
   "metadata": {
    "collapsed": false,
    "pycharm": {
     "name": "#%%\n",
     "is_executing": true
    }
   }
  },
  {
   "cell_type": "markdown",
   "source": [
    "#### Average daily amount of app events during night time"
   ],
   "metadata": {
    "collapsed": false
   }
  },
  {
   "cell_type": "code",
   "source": [
    "freq_night_use = (ae.get_daily_events(time_of_day='night'))\n",
    "print(freq_evening_use.head())"
   ],
   "metadata": {
    "collapsed": false,
    "pycharm": {
     "name": "#%%\n",
     "is_executing": true
    }
   },
   "execution_count": null,
   "outputs": []
  },
  {
   "cell_type": "markdown",
   "source": [
    "#### Average daily amount of notifications during evening time"
   ],
   "metadata": {
    "collapsed": false
   }
  },
  {
   "cell_type": "code",
   "execution_count": null,
   "outputs": [],
   "source": [
    "avg_daily_eve_notifications = no.get_daily_notifications(time_of_day='eve')\n",
    "print(avg_daily_eve_notifications.head())\n",
    "# amount of notifications is high"
   ],
   "metadata": {
    "collapsed": false,
    "pycharm": {
     "name": "#%%\n",
     "is_executing": true
    }
   }
  },
  {
   "cell_type": "markdown",
   "source": [
    "#### Average daily amount of notifications during night time"
   ],
   "metadata": {
    "collapsed": false
   }
  },
  {
   "cell_type": "code",
   "execution_count": null,
   "outputs": [],
   "source": [
    "avg_daily_night_notifications = (no.get_daily_notifications(time_of_day='night'))\n",
    "print(avg_daily_night_notifications.head())\n",
    "# amount of notifications is high"
   ],
   "metadata": {
    "collapsed": false,
    "pycharm": {
     "name": "#%%\n",
     "is_executing": true
    }
   }
  },
  {
   "cell_type": "markdown",
   "source": [
    "## Merge all features in one dataframe"
   ],
   "metadata": {
    "collapsed": false,
    "pycharm": {
     "name": "#%% md\n"
    }
   }
  },
  {
   "cell_type": "code",
   "execution_count": null,
   "outputs": [],
   "source": [
    "temp = pd.merge(avg_daily_social_applications, freq_social_applications, on=['id', 'day'])\n",
    "temp_2 = pd.merge(temp, general_screen_time, on=['id', 'day'])\n",
    "temp = pd.merge(temp_2, duration_MIM_applications, on=['id', 'day'])\n",
    "temp_2 = pd.merge(temp, smartphone_use_freq, on=['id', 'day'])\n",
    "temp_res =  pd.merge(temp_2, freq_MIM_applications, on=['id', 'day'])\n",
    "#print(temp_res.head())"
   ],
   "metadata": {
    "collapsed": false,
    "pycharm": {
     "name": "#%%\n",
     "is_executing": true
    }
   }
  },
  {
   "cell_type": "markdown",
   "source": [
    "#### Add stress labels"
   ],
   "metadata": {
    "collapsed": false,
    "pycharm": {
     "name": "#%% md\n"
    }
   }
  },
  {
   "cell_type": "code",
   "execution_count": null,
   "outputs": [],
   "source": [
    "labels = ae.__data__[['id', 'day','daily_stress_level']].groupby(by=['id','day']).first()\n",
    "res = pd.merge(temp_res, labels, on=['id', 'day'])"
   ],
   "metadata": {
    "collapsed": false,
    "pycharm": {
     "name": "#%%\n",
     "is_executing": true
    }
   }
  },
  {
   "cell_type": "markdown",
   "source": [
    "This is the resulting dataframe with the features and labels per day, per user:"
   ],
   "metadata": {
    "collapsed": false
   }
  },
  {
   "cell_type": "code",
   "execution_count": null,
   "outputs": [],
   "source": [
    "print(res.head())"
   ],
   "metadata": {
    "collapsed": false,
    "pycharm": {
     "name": "#%%\n",
     "is_executing": true
    }
   }
  },
  {
   "cell_type": "markdown",
   "source": [],
   "metadata": {
    "collapsed": false,
    "pycharm": {
     "name": "#%% md\n"
    }
   }
  },
  {
   "cell_type": "markdown",
   "source": [],
   "metadata": {
    "collapsed": false
   }
  },
  {
   "cell_type": "markdown",
   "source": [],
   "metadata": {
    "collapsed": false
   }
  },
  {
   "cell_type": "markdown",
   "source": [],
   "metadata": {
    "collapsed": false
   }
  },
  {
   "cell_type": "markdown",
   "source": [],
   "metadata": {
    "collapsed": false,
    "pycharm": {
     "name": "#%% md\n"
    }
   }
  },
  {
   "cell_type": "markdown",
   "source": [
    "## Feature importance/ correlation/...\n",
    "Now the importance of the features for the stress level can be estimated."
   ],
   "metadata": {
    "collapsed": false
   }
  },
  {
   "cell_type": "code",
   "source": [
    "import seaborn as sn\n",
    "corrMatrix = res.corr()\n",
    "sn.heatmap(corrMatrix, annot=True)"
   ],
   "metadata": {
    "collapsed": false,
    "pycharm": {
     "name": "#%%\n",
     "is_executing": true
    }
   },
   "execution_count": null,
   "outputs": []
  },
  {
   "cell_type": "code",
   "execution_count": null,
   "outputs": [],
   "source": [
    "k_fold = KFold(n_splits=10, shuffle=True)\n",
    "labels = res.pop('daily_stress_level')\n",
    "\n",
    "all_test_labels = []\n",
    "all_predicted_labels = []\n",
    "\n",
    "for i_fold, (tr, tst) in enumerate(k_fold.split(res, labels)):\n",
    "    #print(f\"fold number {i_fold}\")\n",
    "    res_train, res_test = res.iloc[tr], res.iloc[tst]\n",
    "    labels_train, labels_test = labels[tr], labels[tst]\n",
    "    clf = RandomForestClassifier()\n",
    "    clf.fit(res_train, labels_train)\n",
    "    predicted_label = clf.predict(res_test)\n",
    "\n",
    "    all_test_labels.extend(labels_test)\n",
    "    all_predicted_labels.extend(predicted_label)\n",
    "\n",
    "print(classification_report(all_test_labels, all_predicted_labels))"
   ],
   "metadata": {
    "collapsed": false,
    "pycharm": {
     "name": "#%%\n",
     "is_executing": true
    }
   }
  },
  {
   "cell_type": "code",
   "source": [
    "print(\"FINISHED PROGRAM\")\n"
   ],
   "metadata": {
    "collapsed": false,
    "pycharm": {
     "name": "#%%\n",
     "is_executing": true
    }
   },
   "execution_count": null,
   "outputs": []
  }
 ],
 "metadata": {
  "kernelspec": {
   "name": "python3",
   "language": "python",
   "display_name": "Python 3 (ipykernel)"
  },
  "language_info": {
   "codemirror_mode": {
    "name": "ipython",
    "version": 2
   },
   "file_extension": ".py",
   "mimetype": "text/x-python",
   "name": "python",
   "nbconvert_exporter": "python",
   "pygments_lexer": "ipython2",
   "version": "2.7.6"
  }
 },
 "nbformat": 4,
 "nbformat_minor": 0
}