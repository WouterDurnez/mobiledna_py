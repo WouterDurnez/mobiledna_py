{
 "cells": [
  {
   "cell_type": "markdown",
   "metadata": {},
   "source": [
    "# mBrain: depression"
   ]
  },
  {
   "cell_type": "code",
   "execution_count": 1,
   "metadata": {
    "pycharm": {
     "name": "#%%\n"
    }
   },
   "outputs": [],
   "source": [
    "from mobiledna.core.appevents import Appevents\n",
    "from mobiledna.core.sessions import Sessions\n",
    "from mobiledna.core.notifications import Notifications\n",
    "\n",
    "import pandas as pd"
   ]
  },
  {
   "cell_type": "code",
   "execution_count": 2,
   "metadata": {
    "pycharm": {
     "name": "#%%\n"
    }
   },
   "outputs": [
    {
     "name": "stdout",
     "output_type": "stream",
     "text": [
      "2021-10-07 10:46:44 - Recognized file type as <parquet>.\n",
      "2021-10-07 10:46:44 - 'load' took 0.019 seconds to complete.\n",
      "2021-10-07 10:46:44 - Recognized file type as <parquet>.\n",
      "2021-10-07 10:46:44 - 'load' took 0.002 seconds to complete.\n",
      "2021-10-07 10:46:44 - Recognized file type as <parquet>.\n",
      "2021-10-07 10:46:44 - 'load' took 0.031 seconds to complete.\n"
     ]
    }
   ],
   "source": [
    "ae = Appevents.load_data(\"./appevents.parquet\")\n",
    "se = Sessions.load_data(\"./sessions.parquet\")\n",
    "no = Notifications.load_data(\"./notifications.parquet\")\n",
    "\n",
    "df = ae.get_data()\n",
    "df_s = se.get_data()\n",
    "df_n = no.get_data()"
   ]
  },
  {
   "cell_type": "code",
   "execution_count": 3,
   "metadata": {
    "pycharm": {
     "name": "#%%\n"
    }
   },
   "outputs": [
    {
     "name": "stderr",
     "output_type": "stream",
     "text": [
      "Adding category: 100%|██████████| 15065/15065 [00:00<00:00, 869951.53it/s]\n",
      "Adding tod <startTime>: 100%|██████████| 15065/15065 [00:00<00:00, 1682703.25it/s]\n",
      "Adding category: 100%|██████████| 451218/451218 [00:00<00:00, 1563346.83it/s]\n"
     ]
    }
   ],
   "source": [
    "ae.add_category(scrape=False).add_time_of_day()\n",
    "no.add_category(scrape=False)"
   ]
  },
  {
   "cell_type": "markdown",
   "metadata": {},
   "source": [
    "# Variables\n",
    "### General screen time"
   ]
  },
  {
   "cell_type": "code",
   "execution_count": 4,
   "metadata": {
    "pycharm": {
     "name": "#%%\n"
    }
   },
   "outputs": [
    {
     "data": {
      "text/plain": "id\n0f17152a-ec9e-4105-b58d-25b2ae692388    213.315132\na9ac43fd-cf95-40d5-9c9a-3582b88993fe    186.937611\nName: daily_durations, dtype: float64"
     },
     "execution_count": 4,
     "metadata": {},
     "output_type": "execute_result"
    }
   ],
   "source": [
    "general_screen_time = (ae.get_daily_duration() / 60)\n",
    "general_screen_time"
   ]
  },
  {
   "cell_type": "markdown",
   "metadata": {
    "pycharm": {
     "name": "#%% md\n"
    }
   },
   "source": [
    "### Smartphone use frequency\n"
   ]
  },
  {
   "cell_type": "code",
   "execution_count": 5,
   "metadata": {
    "pycharm": {
     "name": "#%%\n"
    }
   },
   "outputs": [
    {
     "data": {
      "text/plain": "id\n0f17152a-ec9e-4105-b58d-25b2ae692388    233.974359\na9ac43fd-cf95-40d5-9c9a-3582b88993fe    160.540541\nName: daily_events, dtype: float64"
     },
     "execution_count": 5,
     "metadata": {},
     "output_type": "execute_result"
    }
   ],
   "source": [
    "smartphone_use_frequency = ae.get_daily_events()\n",
    "smartphone_use_frequency"
   ]
  },
  {
   "cell_type": "markdown",
   "metadata": {
    "pycharm": {
     "name": "#%% md\n"
    }
   },
   "source": [
    "### Screen unlocks"
   ]
  },
  {
   "cell_type": "code",
   "execution_count": 6,
   "metadata": {
    "pycharm": {
     "name": "#%%\n"
    }
   },
   "outputs": [
    {
     "data": {
      "text/plain": "id\n0f17152a-ec9e-4105-b58d-25b2ae692388    127.384615\na9ac43fd-cf95-40d5-9c9a-3582b88993fe     60.297297\nName: daily_sessions, dtype: float64"
     },
     "execution_count": 6,
     "metadata": {},
     "output_type": "execute_result"
    }
   ],
   "source": [
    "screen_unlocks = se.get_daily_sessions()\n",
    "screen_unlocks"
   ]
  },
  {
   "cell_type": "markdown",
   "metadata": {
    "pycharm": {
     "name": "#%% md\n"
    }
   },
   "source": [
    "### Time between sessions on notification"
   ]
  },
  {
   "cell_type": "code",
   "execution_count": 7,
   "metadata": {
    "pycharm": {
     "name": "#%%\n"
    }
   },
   "outputs": [],
   "source": [
    "def calc_time_between_notification_sessions(df: pd.DataFrame):\n",
    "    \"\"\"\n",
    "    \"\"\"\n",
    "    session_firsts = df.groupby([\"id\", \"session\"]).head(1)\n",
    "    session_firsts_notif = session_firsts[session_firsts[\"notification\"] == True]\n",
    "    session_firsts_notif = session_firsts_notif.assign(start_shift= session_firsts_notif.groupby([\"id\", \"startDate\"])[[\"startTime\"]].shift(-1))\n",
    "    session_firsts_notif = session_firsts_notif.assign(duration_shift=(session_firsts_notif[\"start_shift\"] - session_firsts_notif[\"endTime\"]).dt.total_seconds())\n",
    "\n",
    "    mean_shift_pd = session_firsts_notif.groupby([\"id\", \"startDate\"])[\"duration_shift\"].mean()\n",
    "    mean_shift = mean_shift_pd.groupby(\"id\").mean() / 60\n",
    "\n",
    "    return mean_shift.rename(\"mins_between_notif_sessions\")"
   ]
  },
  {
   "cell_type": "code",
   "execution_count": 8,
   "metadata": {
    "pycharm": {
     "name": "#%%\n"
    }
   },
   "outputs": [
    {
     "data": {
      "text/plain": "id\n0f17152a-ec9e-4105-b58d-25b2ae692388    176.389771\na9ac43fd-cf95-40d5-9c9a-3582b88993fe    139.453716\nName: mins_between_notif_sessions, dtype: float64"
     },
     "execution_count": 8,
     "metadata": {},
     "output_type": "execute_result"
    }
   ],
   "source": [
    "time_between_notif_sessions = calc_time_between_notification_sessions(df)\n",
    "time_between_notif_sessions"
   ]
  },
  {
   "cell_type": "markdown",
   "metadata": {
    "pycharm": {
     "name": "#%% md\n"
    }
   },
   "source": [
    "### Variability smartphone use  during week"
   ]
  },
  {
   "cell_type": "code",
   "execution_count": 9,
   "metadata": {
    "pycharm": {
     "name": "#%%\n"
    }
   },
   "outputs": [],
   "source": [
    "def calc_weekly_use_variability(df: pd.DataFrame, duration: None):\n",
    "    \"\"\"\n",
    "    \"\"\"\n",
    "\n",
    "    if duration:\n",
    "        name = \"duration\"\n",
    "        variability = df.groupby([\"id\", pd.Grouper(key=\"startDate\", freq=\"W\")])[\"duration\"].sum().groupby(\"id\").std()\n",
    "    else:\n",
    "        name = \"appevents\"\n",
    "        variability = df.groupby([\"id\", pd.Grouper(key=\"startDate\", freq=\"W\")])[\"application\"].count().groupby(\"id\").std()\n",
    "\n",
    "    return variability.rename(f\"weekly_variability_{name}\")"
   ]
  },
  {
   "cell_type": "code",
   "execution_count": 10,
   "metadata": {
    "pycharm": {
     "name": "#%%\n"
    }
   },
   "outputs": [
    {
     "data": {
      "text/plain": "id\n0f17152a-ec9e-4105-b58d-25b2ae692388    550.593286\na9ac43fd-cf95-40d5-9c9a-3582b88993fe    395.043289\nName: weekly_variability_appevents, dtype: float64"
     },
     "execution_count": 10,
     "metadata": {},
     "output_type": "execute_result"
    }
   ],
   "source": [
    "calc_weekly_use_variability(df=df, duration=None)"
   ]
  },
  {
   "cell_type": "code",
   "execution_count": 11,
   "metadata": {
    "pycharm": {
     "name": "#%%\n"
    }
   },
   "outputs": [
    {
     "data": {
      "text/plain": "id\n0f17152a-ec9e-4105-b58d-25b2ae692388    23933.893716\na9ac43fd-cf95-40d5-9c9a-3582b88993fe    24602.261844\nName: weekly_variability_duration, dtype: float64"
     },
     "execution_count": 11,
     "metadata": {},
     "output_type": "execute_result"
    }
   ],
   "source": [
    "calc_weekly_use_variability(df=df, duration=True)\n"
   ]
  },
  {
   "cell_type": "markdown",
   "metadata": {
    "pycharm": {
     "name": "#%% md\n"
    }
   },
   "source": [
    "### Social smartphone use\n",
    "- Duration social smartphone use\tAverage daily use of social related smartphone use (social networks + MIM + calls)\n",
    "- Frequency social smartphone use\tAverage daily social related app events (social networks + MIM + calls)\n",
    "- Notifications social smartphone use\tAverage daily social related notifications (social networks + MIM + calls)"
   ]
  },
  {
   "cell_type": "code",
   "execution_count": 12,
   "metadata": {
    "pycharm": {
     "name": "#%%\n"
    }
   },
   "outputs": [],
   "source": [
    "def calc_category_use(df: pd.DataFrame, df_n: pd.DataFrame, categories: list, category_name: str, reverse= None):\n",
    "    \"\"\"\n",
    "    Calculates category usage variables:\n",
    "    - avg daily category duration\n",
    "    - avg daily category appevents\n",
    "    - avg daily category notifications\n",
    "    :param df: appevents DataFrame\n",
    "    :param df_n: notifications DataFrame\n",
    "    :param categories: list of category strings to filter on\n",
    "    :param category_name: name of the category as string\n",
    "    :param reverse: bool to check whether to include `categories` (None) or exclude (True) them\n",
    "    :return: DataFrame with calculated category variables\n",
    "    \"\"\"\n",
    "    logdays_pp = df.groupby(\"id\")[\"startDate\"].nunique()\n",
    "\n",
    "    if reverse:\n",
    "        mask = ~df[\"category\"].isin(categories)\n",
    "        n_mask = ~df_n[\"category\"].isin(categories)\n",
    "    else:\n",
    "        mask = df[\"category\"].isin(categories)\n",
    "        n_mask = df_n[\"category\"].isin(categories)\n",
    "\n",
    "    duration = (df[mask].groupby([\"id\"])[\"duration\"].sum() / logdays_pp / 60).rename(f\"{category_name}_duration_min\")\n",
    "    frequency = (df[mask].groupby([\"id\"])[\"application\"].count() / logdays_pp).rename(f\"{category_name}_frequency\")\n",
    "    notifications = (df_n[n_mask].groupby(\"id\")[\"application\"].count() / logdays_pp).rename(f\"{category_name}_notifications\")\n",
    "\n",
    "    res = pd.concat([duration, frequency, notifications], axis=1)\n",
    "\n",
    "    return res"
   ]
  },
  {
   "cell_type": "code",
   "execution_count": 13,
   "metadata": {
    "pycharm": {
     "name": "#%%\n"
    }
   },
   "outputs": [
    {
     "data": {
      "text/plain": "                                      social_duration_min  social_frequency  social_notifications\nid                                                                                               \n0f17152a-ec9e-4105-b58d-25b2ae692388           145.920305        137.512821           1262.282051\na9ac43fd-cf95-40d5-9c9a-3582b88993fe            90.800503         79.756757           2089.162162",
      "text/html": "<div>\n<style scoped>\n    .dataframe tbody tr th:only-of-type {\n        vertical-align: middle;\n    }\n\n    .dataframe tbody tr th {\n        vertical-align: top;\n    }\n\n    .dataframe thead th {\n        text-align: right;\n    }\n</style>\n<table border=\"1\" class=\"dataframe\">\n  <thead>\n    <tr style=\"text-align: right;\">\n      <th></th>\n      <th>social_duration_min</th>\n      <th>social_frequency</th>\n      <th>social_notifications</th>\n    </tr>\n    <tr>\n      <th>id</th>\n      <th></th>\n      <th></th>\n      <th></th>\n    </tr>\n  </thead>\n  <tbody>\n    <tr>\n      <th>0f17152a-ec9e-4105-b58d-25b2ae692388</th>\n      <td>145.920305</td>\n      <td>137.512821</td>\n      <td>1262.282051</td>\n    </tr>\n    <tr>\n      <th>a9ac43fd-cf95-40d5-9c9a-3582b88993fe</th>\n      <td>90.800503</td>\n      <td>79.756757</td>\n      <td>2089.162162</td>\n    </tr>\n  </tbody>\n</table>\n</div>"
     },
     "execution_count": 13,
     "metadata": {},
     "output_type": "execute_result"
    }
   ],
   "source": [
    "social_use = calc_category_use(df=df, df_n=df_n, categories=[\"chat\", \"social\", \"calling\"], category_name=\"social\")\n",
    "social_use"
   ]
  },
  {
   "cell_type": "markdown",
   "metadata": {
    "pycharm": {
     "name": "#%% md\n"
    }
   },
   "source": [
    "### Non-social smartphone use\n",
    "- Duration non social smartphone use \tAverage daily use of non-social (process) related apps (news, entertainment, relaxation)\n",
    "- Frequency non social smartphone use\tAverage daily app events of non-social (process) related apps (news, entertainment, relaxation)\n",
    "- Notifications non social smartphone use\tAverage daily notifications of non-social (process) related apps (news, entertainment, relaxation)\n",
    "\n"
   ]
  },
  {
   "cell_type": "code",
   "execution_count": 14,
   "metadata": {
    "pycharm": {
     "name": "#%%\n"
    }
   },
   "outputs": [
    {
     "data": {
      "text/plain": "                                      non_social_duration_min  non_social_frequency  non_social_notifications\nid                                                                                                           \n0f17152a-ec9e-4105-b58d-25b2ae692388                67.394826             96.461538               2051.564103\na9ac43fd-cf95-40d5-9c9a-3582b88993fe                96.137108             80.783784               6612.945946",
      "text/html": "<div>\n<style scoped>\n    .dataframe tbody tr th:only-of-type {\n        vertical-align: middle;\n    }\n\n    .dataframe tbody tr th {\n        vertical-align: top;\n    }\n\n    .dataframe thead th {\n        text-align: right;\n    }\n</style>\n<table border=\"1\" class=\"dataframe\">\n  <thead>\n    <tr style=\"text-align: right;\">\n      <th></th>\n      <th>non_social_duration_min</th>\n      <th>non_social_frequency</th>\n      <th>non_social_notifications</th>\n    </tr>\n    <tr>\n      <th>id</th>\n      <th></th>\n      <th></th>\n      <th></th>\n    </tr>\n  </thead>\n  <tbody>\n    <tr>\n      <th>0f17152a-ec9e-4105-b58d-25b2ae692388</th>\n      <td>67.394826</td>\n      <td>96.461538</td>\n      <td>2051.564103</td>\n    </tr>\n    <tr>\n      <th>a9ac43fd-cf95-40d5-9c9a-3582b88993fe</th>\n      <td>96.137108</td>\n      <td>80.783784</td>\n      <td>6612.945946</td>\n    </tr>\n  </tbody>\n</table>\n</div>"
     },
     "execution_count": 14,
     "metadata": {},
     "output_type": "execute_result"
    }
   ],
   "source": [
    "non_social_use = calc_category_use(df=df, df_n=df_n, categories=[\"chat\", \"social\", \"calling\"], category_name=\"non_social\", reverse=True)\n",
    "non_social_use\n"
   ]
  },
  {
   "cell_type": "markdown",
   "metadata": {
    "pycharm": {
     "name": "#%% md\n"
    }
   },
   "source": [
    "### Browser"
   ]
  },
  {
   "cell_type": "code",
   "execution_count": 15,
   "metadata": {
    "pycharm": {
     "name": "#%%\n"
    }
   },
   "outputs": [
    {
     "data": {
      "text/plain": "                                      browser_duration_min  browser_frequency  browser_notifications\nid                                                                                                  \n0f17152a-ec9e-4105-b58d-25b2ae692388              11.58907           6.897436             101.666667\na9ac43fd-cf95-40d5-9c9a-3582b88993fe               6.07703           5.648649                    NaN",
      "text/html": "<div>\n<style scoped>\n    .dataframe tbody tr th:only-of-type {\n        vertical-align: middle;\n    }\n\n    .dataframe tbody tr th {\n        vertical-align: top;\n    }\n\n    .dataframe thead th {\n        text-align: right;\n    }\n</style>\n<table border=\"1\" class=\"dataframe\">\n  <thead>\n    <tr style=\"text-align: right;\">\n      <th></th>\n      <th>browser_duration_min</th>\n      <th>browser_frequency</th>\n      <th>browser_notifications</th>\n    </tr>\n    <tr>\n      <th>id</th>\n      <th></th>\n      <th></th>\n      <th></th>\n    </tr>\n  </thead>\n  <tbody>\n    <tr>\n      <th>0f17152a-ec9e-4105-b58d-25b2ae692388</th>\n      <td>11.58907</td>\n      <td>6.897436</td>\n      <td>101.666667</td>\n    </tr>\n    <tr>\n      <th>a9ac43fd-cf95-40d5-9c9a-3582b88993fe</th>\n      <td>6.07703</td>\n      <td>5.648649</td>\n      <td>NaN</td>\n    </tr>\n  </tbody>\n</table>\n</div>"
     },
     "execution_count": 15,
     "metadata": {},
     "output_type": "execute_result"
    }
   ],
   "source": [
    "browser_use = calc_category_use(df=df, df_n=df_n, categories=[\"browser\"], category_name=\"browser\")\n",
    "browser_use"
   ]
  },
  {
   "cell_type": "markdown",
   "metadata": {
    "pycharm": {
     "name": "#%% md\n"
    }
   },
   "source": [
    "### News"
   ]
  },
  {
   "cell_type": "code",
   "execution_count": 16,
   "metadata": {
    "pycharm": {
     "name": "#%%\n"
    }
   },
   "outputs": [
    {
     "data": {
      "text/plain": "                                      news_duration_min  news_frequency  news_notifications\nid                                                                                         \n0f17152a-ec9e-4105-b58d-25b2ae692388           1.898018        4.589744          102.717949\na9ac43fd-cf95-40d5-9c9a-3582b88993fe                NaN             NaN                 NaN",
      "text/html": "<div>\n<style scoped>\n    .dataframe tbody tr th:only-of-type {\n        vertical-align: middle;\n    }\n\n    .dataframe tbody tr th {\n        vertical-align: top;\n    }\n\n    .dataframe thead th {\n        text-align: right;\n    }\n</style>\n<table border=\"1\" class=\"dataframe\">\n  <thead>\n    <tr style=\"text-align: right;\">\n      <th></th>\n      <th>news_duration_min</th>\n      <th>news_frequency</th>\n      <th>news_notifications</th>\n    </tr>\n    <tr>\n      <th>id</th>\n      <th></th>\n      <th></th>\n      <th></th>\n    </tr>\n  </thead>\n  <tbody>\n    <tr>\n      <th>0f17152a-ec9e-4105-b58d-25b2ae692388</th>\n      <td>1.898018</td>\n      <td>4.589744</td>\n      <td>102.717949</td>\n    </tr>\n    <tr>\n      <th>a9ac43fd-cf95-40d5-9c9a-3582b88993fe</th>\n      <td>NaN</td>\n      <td>NaN</td>\n      <td>NaN</td>\n    </tr>\n  </tbody>\n</table>\n</div>"
     },
     "execution_count": 16,
     "metadata": {},
     "output_type": "execute_result"
    }
   ],
   "source": [
    "news_use = calc_category_use(df=df, df_n=df_n, categories=[\"news&magazines\"], category_name=\"news\")\n",
    "news_use"
   ]
  },
  {
   "cell_type": "markdown",
   "metadata": {
    "pycharm": {
     "name": "#%% md\n"
    }
   },
   "source": [
    "### Instagram use"
   ]
  },
  {
   "cell_type": "code",
   "execution_count": 17,
   "metadata": {
    "pycharm": {
     "name": "#%%\n"
    }
   },
   "outputs": [],
   "source": [
    "def calc_app_use(df: pd.DataFrame, df_n: pd.DataFrame, apps: list, app_name: str, reverse= None):\n",
    "    \"\"\"\n",
    "    Calculates app usage variables:\n",
    "    - avg daily apps duration\n",
    "    - avg daily apps appevents\n",
    "    - avg daily apps notifications\n",
    "\n",
    "    :param df: appevents DataFrame\n",
    "    :param df_n: notifications DataFrame\n",
    "    :param apps: list of application package names strings to filter on\n",
    "    :param app_name: name of the app as string\n",
    "    :param reverse: bool to check whether to include `apps` (None) or exclude (True) them\n",
    "\n",
    "    :return: DataFrame with calculated apps variables\n",
    "    \"\"\"\n",
    "    logdays_pp = df.groupby(\"id\")[\"startDate\"].nunique()\n",
    "\n",
    "    if reverse:\n",
    "        mask = ~df[\"application\"].isin(apps)\n",
    "        n_mask = ~df_n[\"application\"].isin(apps)\n",
    "    else:\n",
    "        mask = df[\"application\"].isin(apps)\n",
    "        n_mask = df_n[\"application\"].isin(apps)\n",
    "\n",
    "    duration = (df[mask].groupby([\"id\"])[\"duration\"].sum() / logdays_pp / 60).rename(f\"{app_name}_duration_min\")\n",
    "    frequency = (df[mask].groupby([\"id\"])[\"application\"].count() / logdays_pp).rename(f\"{app_name}_frequency\")\n",
    "    notifications = (df_n[n_mask].groupby(\"id\")[\"application\"].count() / logdays_pp).rename(f\"{app_name}_notifications\")\n",
    "\n",
    "    evening_duration = (df[(mask)&(df[\"startTOD\"].isin([\"eve\"]))].groupby([\"id\"])[\"duration\"].sum() / logdays_pp / 60).rename(f\"{app_name}_eve_duration_min\")\n",
    "\n",
    "    res = pd.concat([duration, frequency, notifications, evening_duration], axis=1)\n",
    "\n",
    "    return res"
   ]
  },
  {
   "cell_type": "code",
   "execution_count": 18,
   "metadata": {
    "pycharm": {
     "name": "#%%\n"
    }
   },
   "outputs": [
    {
     "data": {
      "text/plain": "                                      instagram_duration_min  instagram_frequency  instagram_notifications  instagram_eve_duration_min\nid                                                                                                                                    \n0f17152a-ec9e-4105-b58d-25b2ae692388               53.549826            43.333333                12.128205                   15.765994\na9ac43fd-cf95-40d5-9c9a-3582b88993fe               18.488590            19.243243                 4.000000                    5.881429",
      "text/html": "<div>\n<style scoped>\n    .dataframe tbody tr th:only-of-type {\n        vertical-align: middle;\n    }\n\n    .dataframe tbody tr th {\n        vertical-align: top;\n    }\n\n    .dataframe thead th {\n        text-align: right;\n    }\n</style>\n<table border=\"1\" class=\"dataframe\">\n  <thead>\n    <tr style=\"text-align: right;\">\n      <th></th>\n      <th>instagram_duration_min</th>\n      <th>instagram_frequency</th>\n      <th>instagram_notifications</th>\n      <th>instagram_eve_duration_min</th>\n    </tr>\n    <tr>\n      <th>id</th>\n      <th></th>\n      <th></th>\n      <th></th>\n      <th></th>\n    </tr>\n  </thead>\n  <tbody>\n    <tr>\n      <th>0f17152a-ec9e-4105-b58d-25b2ae692388</th>\n      <td>53.549826</td>\n      <td>43.333333</td>\n      <td>12.128205</td>\n      <td>15.765994</td>\n    </tr>\n    <tr>\n      <th>a9ac43fd-cf95-40d5-9c9a-3582b88993fe</th>\n      <td>18.488590</td>\n      <td>19.243243</td>\n      <td>4.000000</td>\n      <td>5.881429</td>\n    </tr>\n  </tbody>\n</table>\n</div>"
     },
     "execution_count": 18,
     "metadata": {},
     "output_type": "execute_result"
    }
   ],
   "source": [
    "instagram_use = calc_app_use(df=df, df_n=df_n, apps=[\"com.instagram.android\"], app_name=\"instagram\")\n",
    "instagram_use"
   ]
  },
  {
   "cell_type": "markdown",
   "metadata": {
    "pycharm": {
     "name": "#%% md\n"
    }
   },
   "source": [
    "### Time of day\n",
    "- Frequency smartphone evening\n",
    "- Duration smartphone evening\n",
    "- Frequency smartphone night\n",
    "- Duration smartphone night"
   ]
  },
  {
   "cell_type": "code",
   "execution_count": 19,
   "metadata": {
    "pycharm": {
     "name": "#%%\n"
    }
   },
   "outputs": [],
   "source": [
    "def tod_use(df: pd.DataFrame):\n",
    "    \"\"\"\n",
    "    Calculates duration per time of day bin:\n",
    "    early_morning, morning, noon, eve, night, late_night.\n",
    "\n",
    "    :param df: appevents DataFrame\n",
    "    :return: DataFrame with duration per time of day\n",
    "    \"\"\"\n",
    "    logdays_pp = df.groupby(\"id\")[\"startDate\"].nunique()\n",
    "\n",
    "    tod_use = (df.groupby([\"id\", \"startTOD\"])[\"duration\"].sum() / logdays_pp / 60)\n",
    "    tod_use = tod_use.reset_index(name=\"duration_min\").pivot_table(columns=\"startTOD\", index=\"id\", values=\"duration_min\")\n",
    "\n",
    "    return tod_use[[\"early_morning\", \"morning\", \"noon\", \"eve\", \"night\", \"late_night\"]]"
   ]
  },
  {
   "cell_type": "code",
   "execution_count": 20,
   "metadata": {
    "pycharm": {
     "name": "#%%\n"
    }
   },
   "outputs": [
    {
     "data": {
      "text/plain": "startTOD                              early_morning    morning       noon        eve      night  late_night\nid                                                                                                         \n0f17152a-ec9e-4105-b58d-25b2ae692388      13.764464  52.656165  42.158774  55.720026  40.240107    8.775595\na9ac43fd-cf95-40d5-9c9a-3582b88993fe      17.964700  52.384687  38.613657  40.773291  36.791221    0.410055",
      "text/html": "<div>\n<style scoped>\n    .dataframe tbody tr th:only-of-type {\n        vertical-align: middle;\n    }\n\n    .dataframe tbody tr th {\n        vertical-align: top;\n    }\n\n    .dataframe thead th {\n        text-align: right;\n    }\n</style>\n<table border=\"1\" class=\"dataframe\">\n  <thead>\n    <tr style=\"text-align: right;\">\n      <th>startTOD</th>\n      <th>early_morning</th>\n      <th>morning</th>\n      <th>noon</th>\n      <th>eve</th>\n      <th>night</th>\n      <th>late_night</th>\n    </tr>\n    <tr>\n      <th>id</th>\n      <th></th>\n      <th></th>\n      <th></th>\n      <th></th>\n      <th></th>\n      <th></th>\n    </tr>\n  </thead>\n  <tbody>\n    <tr>\n      <th>0f17152a-ec9e-4105-b58d-25b2ae692388</th>\n      <td>13.764464</td>\n      <td>52.656165</td>\n      <td>42.158774</td>\n      <td>55.720026</td>\n      <td>40.240107</td>\n      <td>8.775595</td>\n    </tr>\n    <tr>\n      <th>a9ac43fd-cf95-40d5-9c9a-3582b88993fe</th>\n      <td>17.964700</td>\n      <td>52.384687</td>\n      <td>38.613657</td>\n      <td>40.773291</td>\n      <td>36.791221</td>\n      <td>0.410055</td>\n    </tr>\n  </tbody>\n</table>\n</div>"
     },
     "execution_count": 20,
     "metadata": {},
     "output_type": "execute_result"
    }
   ],
   "source": [
    "time_of_day = tod_use(df)\n",
    "time_of_day"
   ]
  },
  {
   "cell_type": "code",
   "execution_count": 20,
   "metadata": {
    "pycharm": {
     "name": "#%%\n"
    }
   },
   "outputs": [],
   "source": []
  },
  {
   "cell_type": "code",
   "execution_count": null,
   "outputs": [],
   "source": [],
   "metadata": {
    "collapsed": false,
    "pycharm": {
     "name": "#%%\n"
    }
   }
  }
 ],
 "metadata": {
  "kernelspec": {
   "name": "pycharm-6a3f2b91",
   "language": "python",
   "display_name": "PyCharm (mobiledna_py)"
  },
  "language_info": {
   "codemirror_mode": {
    "name": "ipython",
    "version": 3
   },
   "file_extension": ".py",
   "mimetype": "text/x-python",
   "name": "python",
   "nbconvert_exporter": "python",
   "pygments_lexer": "ipython3",
   "version": "3.9.7"
  }
 },
 "nbformat": 4,
 "nbformat_minor": 1
}