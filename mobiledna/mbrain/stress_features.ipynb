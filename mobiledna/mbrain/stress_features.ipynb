{
 "cells": [
  {
   "cell_type": "markdown",
   "id": "d70d4ae8",
   "metadata": {},
   "source": [
    "# mBrain: stress"
   ]
  },
  {
   "cell_type": "code",
   "execution_count": 2,
   "id": "d6d5a473",
   "metadata": {},
   "outputs": [],
   "source": [
    "import sys\n",
    "sys.path.append(\"./\")\n",
    "\n",
    "from mobiledna.core.appevents import Appevents\n",
    "from mobiledna.core.sessions import Sessions\n",
    "from mobiledna.core.notifications import Notifications\n",
    "\n",
    "import pandas as pd"
   ]
  },
  {
   "cell_type": "code",
   "execution_count": 4,
   "id": "c01eb8c3",
   "metadata": {},
   "outputs": [
    {
     "name": "stdout",
     "output_type": "stream",
     "text": [
      "2021-10-06 15:34:34 - Recognized file type as <parquet>.\n",
      "2021-10-06 15:34:34 - 'load' took 0.016 seconds to complete.\n",
      "2021-10-06 15:34:34 - Recognized file type as <parquet>.\n",
      "2021-10-06 15:34:34 - 'load' took 0.005 seconds to complete.\n",
      "2021-10-06 15:34:34 - Recognized file type as <parquet>.\n",
      "2021-10-06 15:34:34 - 'load' took 0.036 seconds to complete.\n"
     ]
    }
   ],
   "source": [
    "ae = Appevents.load_data(\"./appevents.parquet\")\n",
    "se = Sessions.load_data(\"./sessions.parquet\")\n",
    "no = Notifications.load_data(\"./notifications.parquet\")\n",
    "\n",
    "df = ae.get_data()\n",
    "df_s = se.get_data()\n",
    "df_n = no.get_data()"
   ]
  },
  {
   "cell_type": "code",
   "execution_count": 5,
   "id": "30213e8b",
   "metadata": {},
   "outputs": [
    {
     "name": "stderr",
     "output_type": "stream",
     "text": [
      "Adding category: 100%|███████████████| 15065/15065 [00:00<00:00, 1016623.06it/s]\n",
      "Adding tod <startTime>: 100%|████████| 15065/15065 [00:00<00:00, 1704583.07it/s]\n"
     ]
    },
    {
     "data": {
      "text/plain": [
       "<mobiledna.core.appevents.Appevents at 0x11d9ca970>"
      ]
     },
     "execution_count": 5,
     "metadata": {},
     "output_type": "execute_result"
    }
   ],
   "source": [
    "ae.add_category(scrape=False).add_time_of_day()"
   ]
  },
  {
   "cell_type": "markdown",
   "id": "abeaa6aa",
   "metadata": {},
   "source": [
    "## Variables"
   ]
  },
  {
   "cell_type": "markdown",
   "id": "e6db3745",
   "metadata": {},
   "source": [
    "### General screen time \n",
    "calculated in `depression_features.ipynb`\n",
    "### Smartphone use frequency"
   ]
  }
 ],
 "metadata": {
  "kernelspec": {
   "display_name": "pythonProject",
   "language": "python",
   "name": "pythonproject"
  },
  "language_info": {
   "codemirror_mode": {
    "name": "ipython",
    "version": 3
   },
   "file_extension": ".py",
   "mimetype": "text/x-python",
   "name": "python",
   "nbconvert_exporter": "python",
   "pygments_lexer": "ipython3",
   "version": "3.9.7"
  }
 },
 "nbformat": 4,
 "nbformat_minor": 5
}
