{
 "cells": [
  {
   "cell_type": "markdown",
   "metadata": {},
   "source": [
    "# mBrain: headaches"
   ]
  },
  {
   "cell_type": "code",
   "execution_count": 1,
   "metadata": {
    "pycharm": {
     "name": "#%%\n"
    }
   },
   "outputs": [],
   "source": [
    "from mobiledna.core.appevents import Appevents\n",
    "import pandas as pd"
   ]
  },
  {
   "cell_type": "code",
   "execution_count": 2,
   "metadata": {
    "pycharm": {
     "name": "#%%\n"
    }
   },
   "outputs": [
    {
     "name": "stdout",
     "output_type": "stream",
     "text": [
      "2021-06-23 16:10:08 - Recognized file type as <parquet>.\n",
      "2021-06-23 16:10:09 - 'load' took 0.214 seconds to complete.\n"
     ]
    }
   ],
   "source": [
    "ae = Appevents.load_data(\"./appevents.parquet\")\n",
    "df = ae.get_data()\n"
   ]
  },
  {
   "cell_type": "code",
   "execution_count": 3,
   "metadata": {
    "pycharm": {
     "name": "#%%\n"
    }
   },
   "outputs": [
    {
     "name": "stderr",
     "output_type": "stream",
     "text": [
      "Adding category: 100%|██████████| 15065/15065 [00:00<00:00, 794257.93it/s]\n",
      "Adding tod <startTime>: 100%|██████████| 15065/15065 [00:00<00:00, 1158930.15it/s]\n"
     ]
    },
    {
     "data": {
      "text/plain": [
       "<mobiledna.core.appevents.Appevents at 0x1fb91b55190>"
      ]
     },
     "execution_count": 3,
     "metadata": {},
     "output_type": "execute_result"
    }
   ],
   "source": [
    "ae.add_category(scrape=False).add_time_of_day()\n"
   ]
  },
  {
   "cell_type": "markdown",
   "metadata": {
    "pycharm": {
     "name": "#%% md\n"
    }
   },
   "source": [
    "# Variables\n",
    "\n",
    "### Daily call duration & frequency"
   ]
  },
  {
   "cell_type": "code",
   "execution_count": 5,
   "metadata": {
    "pycharm": {
     "name": "#%%\n"
    }
   },
   "outputs": [],
   "source": [
    "def calc_category_use(df: pd.DataFrame, categories: list, category_name: str, reverse= None, df_n: pd.DataFrame = None):\n",
    "    \"\"\"\n",
    "    \"\"\"\n",
    "    logdays_pp = df.groupby(\"id\")[\"startDate\"].nunique()\n",
    "\n",
    "    if reverse:\n",
    "        mask = ~df[\"category\"].isin(categories)\n",
    "    else:\n",
    "        mask = df[\"category\"].isin(categories)\n",
    "\n",
    "    duration = (df[mask].groupby([\"id\"])[\"duration\"].sum() / logdays_pp / 60).rename(f\"{category_name}_duration_min\")\n",
    "    frequency = (df[mask].groupby([\"id\"])[\"application\"].count() / logdays_pp).rename(f\"{category_name}_frequency\")\n",
    "\n",
    "    if df_n:\n",
    "        if reverse:\n",
    "            n_mask = ~df_n[\"category\"].isin(categories)\n",
    "        else:\n",
    "            n_mask = df_n[\"category\"].isin(categories)\n",
    "\n",
    "        notifications = (df_n[n_mask].groupby(\"id\")[\"application\"].count() / logdays_pp).rename(f\"{category_name}_notifications\")\n",
    "        res = pd.concat([duration, frequency, notifications], axis=1)\n",
    "\n",
    "    else:\n",
    "        res = pd.concat([duration, frequency], axis=1)\n",
    "\n",
    "    return res"
   ]
  },
  {
   "cell_type": "code",
   "execution_count": 7,
   "metadata": {
    "pycharm": {
     "name": "#%%\n"
    }
   },
   "outputs": [
    {
     "data": {
      "text/html": [
       "<div>\n",
       "<style scoped>\n",
       "    .dataframe tbody tr th:only-of-type {\n",
       "        vertical-align: middle;\n",
       "    }\n",
       "\n",
       "    .dataframe tbody tr th {\n",
       "        vertical-align: top;\n",
       "    }\n",
       "\n",
       "    .dataframe thead th {\n",
       "        text-align: right;\n",
       "    }\n",
       "</style>\n",
       "<table border=\"1\" class=\"dataframe\">\n",
       "  <thead>\n",
       "    <tr style=\"text-align: right;\">\n",
       "      <th></th>\n",
       "      <th>calling_duration_min</th>\n",
       "      <th>calling_frequency</th>\n",
       "    </tr>\n",
       "    <tr>\n",
       "      <th>id</th>\n",
       "      <th></th>\n",
       "      <th></th>\n",
       "    </tr>\n",
       "  </thead>\n",
       "  <tbody>\n",
       "    <tr>\n",
       "      <th>0f17152a-ec9e-4105-b58d-25b2ae692388</th>\n",
       "      <td>0.389112</td>\n",
       "      <td>4.897436</td>\n",
       "    </tr>\n",
       "    <tr>\n",
       "      <th>a9ac43fd-cf95-40d5-9c9a-3582b88993fe</th>\n",
       "      <td>0.003523</td>\n",
       "      <td>0.054054</td>\n",
       "    </tr>\n",
       "  </tbody>\n",
       "</table>\n",
       "</div>"
      ],
      "text/plain": [
       "                                      calling_duration_min  calling_frequency\n",
       "id                                                                           \n",
       "0f17152a-ec9e-4105-b58d-25b2ae692388              0.389112           4.897436\n",
       "a9ac43fd-cf95-40d5-9c9a-3582b88993fe              0.003523           0.054054"
      ]
     },
     "execution_count": 7,
     "metadata": {},
     "output_type": "execute_result"
    }
   ],
   "source": [
    "daily_call = calc_category_use(df=df, categories=[\"calling\"], category_name=\"calling\")\n",
    "daily_call"
   ]
  },
  {
   "cell_type": "markdown",
   "metadata": {
    "pycharm": {
     "name": "#%% md\n"
    }
   },
   "source": [
    "### Daily screentime\n",
    "Calculated in `depression.ipynb`"
   ]
  }
 ],
 "metadata": {
  "kernelspec": {
   "display_name": "Python 3 (ipykernel)",
   "language": "python",
   "name": "python3"
  },
  "language_info": {
   "codemirror_mode": {
    "name": "ipython",
    "version": 3
   },
   "file_extension": ".py",
   "mimetype": "text/x-python",
   "name": "python",
   "nbconvert_exporter": "python",
   "pygments_lexer": "ipython3",
   "version": "3.9.7"
  }
 },
 "nbformat": 4,
 "nbformat_minor": 1
}
