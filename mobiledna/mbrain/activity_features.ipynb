{
 "cells": [
  {
   "cell_type": "markdown",
   "metadata": {
    "collapsed": true,
    "pycharm": {
     "name": "#%% md\n"
    }
   },
   "source": [
    "# mBrain: actvity"
   ]
  },
  {
   "cell_type": "code",
   "execution_count": 6,
   "outputs": [],
   "source": [
    "from mobiledna.core.appevents import Appevents\n",
    "from mobiledna.core.sessions import Sessions\n",
    "from mobiledna.core.notifications import Notifications\n",
    "\n",
    "import pandas as pd"
   ],
   "metadata": {
    "collapsed": false,
    "pycharm": {
     "name": "#%%\n"
    }
   }
  },
  {
   "cell_type": "code",
   "execution_count": 3,
   "outputs": [
    {
     "name": "stdout",
     "output_type": "stream",
     "text": [
      "2021-06-23 15:48:38 - Recognized file type as <parquet>.\n",
      "2021-06-23 15:48:38 - 'load' took 0.029 seconds to complete.\n",
      "2021-06-23 15:48:38 - Recognized file type as <parquet>.\n",
      "2021-06-23 15:48:38 - 'load' took 0.005 seconds to complete.\n",
      "2021-06-23 15:48:38 - Recognized file type as <parquet>.\n",
      "2021-06-23 15:48:38 - 'load' took 0.077 seconds to complete.\n"
     ]
    }
   ],
   "source": [
    "ae = Appevents.load_data(\"./appevents.parquet\")\n",
    "se = Sessions.load_data(\"./sessions.parquet\")\n",
    "no = Notifications.load_data(\"./notifications.parquet\")\n",
    "\n",
    "df = ae.get_data()\n",
    "df_s = se.get_data()\n",
    "df_n = no.get_data()\n"
   ],
   "metadata": {
    "collapsed": false,
    "pycharm": {
     "name": "#%%\n"
    }
   }
  },
  {
   "cell_type": "code",
   "execution_count": 10,
   "outputs": [
    {
     "name": "stderr",
     "output_type": "stream",
     "text": [
      "Adding category: 100%|██████████| 15065/15065 [00:00<00:00, 886178.56it/s]\n",
      "Adding tod <startTime>: 100%|██████████| 15065/15065 [00:00<00:00, 1159227.82it/s]\n",
      "Adding category: 100%|██████████| 451218/451218 [00:00<00:00, 1027778.66it/s]\n"
     ]
    }
   ],
   "source": [
    "ae.add_category(scrape=False).add_time_of_day()\n",
    "no.add_category(scrape=False)"
   ],
   "metadata": {
    "collapsed": false,
    "pycharm": {
     "name": "#%%\n"
    }
   }
  },
  {
   "cell_type": "markdown",
   "source": [
    "## Variables"
   ],
   "metadata": {
    "collapsed": false,
    "pycharm": {
     "name": "#%% md\n"
    }
   }
  },
  {
   "cell_type": "markdown",
   "source": [
    "### Daily (unique) apps"
   ],
   "metadata": {
    "collapsed": false,
    "pycharm": {
     "name": "#%% md\n"
    }
   }
  },
  {
   "cell_type": "code",
   "execution_count": 11,
   "outputs": [],
   "source": [
    "daily_unique_apps = (df.groupby([\"id\", \"startDate\"])[\"application\"].nunique().groupby(\"id\").mean()).rename(\"daily_unique_apps\")\n",
    "daily_unique_apps"
   ],
   "metadata": {
    "collapsed": false,
    "pycharm": {
     "name": "#%%\n"
    }
   }
  },
  {
   "cell_type": "markdown",
   "source": [
    "### Daily app frequency\n",
    "Calculated in `depression.ipynb`\n",
    "\n",
    "### Daily app duration\n",
    "Calculated in `depression.ipynb`"
   ],
   "metadata": {
    "collapsed": false,
    "pycharm": {
     "name": "#%% md\n"
    }
   }
  },
  {
   "cell_type": "markdown",
   "source": [
    "### Battery status\n",
    "\n",
    "\n"
   ],
   "metadata": {
    "collapsed": false,
    "pycharm": {
     "name": "#%% md\n"
    }
   }
  },
  {
   "cell_type": "code",
   "execution_count": 12,
   "outputs": [],
   "source": [
    "def calc_battery_status(df: pd.DataFrame):\n",
    "    \"\"\"\n",
    "    Calculates four battery status variables per participant:\n",
    "    - daily average battery level\n",
    "    - daily std dev of battery level\n",
    "    - daily average charge %\n",
    "    - daily average discharge %\n",
    "\n",
    "    :param df: the appevents DataFrame\n",
    "    :return: results DataFrame with 4 variables per participant\n",
    "    \"\"\"\n",
    "    df = df.copy()\n",
    "\n",
    "    df = df.sort_values([\"id\", \"startTime\"]).assign(battery_shift=df.groupby([\"id\", \"startDate\"])[\"battery\"].shift(-1))\n",
    "    df = df.assign(battery_change=df[\"battery_shift\"] - df[\"battery\"])\n",
    "\n",
    "    battery_avg = (df.groupby([\"id\", \"startDate\"])[\"battery\"].mean().groupby(\"id\").mean()).rename(\"battery_avg\")\n",
    "    battery_std = (df.groupby([\"id\", \"startDate\"])[\"battery\"].mean().groupby(\"id\").std()).rename(\"battery_std\")\n",
    "\n",
    "    battery_discharge = (df[df[\"battery_change\"] < 0].groupby([\"id\", \"startDate\"])[\"battery_change\"].sum().abs().groupby(\"id\").mean()).rename(\"battery_daily_discharge\")\n",
    "    battery_charge = (df[df[\"battery_change\"] > 0].groupby([\"id\", \"startDate\"])[\"battery_change\"].sum().groupby(\"id\").mean()).rename(\"battery_daily_charge\")\n",
    "\n",
    "    res = pd.concat([\n",
    "        battery_avg,\n",
    "        battery_std,\n",
    "        battery_charge,\n",
    "        battery_discharge\n",
    "    ], axis=1)\n",
    "\n",
    "    return res"
   ],
   "metadata": {
    "collapsed": false,
    "pycharm": {
     "name": "#%%\n"
    }
   }
  },
  {
   "cell_type": "code",
   "execution_count": 13,
   "outputs": [
    {
     "data": {
      "text/plain": "                                      battery_avg  battery_std  battery_daily_charge  battery_daily_discharge\nid                                                                                                           \n0f17152a-ec9e-4105-b58d-25b2ae692388    49.432072    11.561746             90.714286               110.333333\na9ac43fd-cf95-40d5-9c9a-3582b88993fe    51.377526    16.103090             77.400000                53.702703",
      "text/html": "<div>\n<style scoped>\n    .dataframe tbody tr th:only-of-type {\n        vertical-align: middle;\n    }\n\n    .dataframe tbody tr th {\n        vertical-align: top;\n    }\n\n    .dataframe thead th {\n        text-align: right;\n    }\n</style>\n<table border=\"1\" class=\"dataframe\">\n  <thead>\n    <tr style=\"text-align: right;\">\n      <th></th>\n      <th>battery_avg</th>\n      <th>battery_std</th>\n      <th>battery_daily_charge</th>\n      <th>battery_daily_discharge</th>\n    </tr>\n    <tr>\n      <th>id</th>\n      <th></th>\n      <th></th>\n      <th></th>\n      <th></th>\n    </tr>\n  </thead>\n  <tbody>\n    <tr>\n      <th>0f17152a-ec9e-4105-b58d-25b2ae692388</th>\n      <td>49.432072</td>\n      <td>11.561746</td>\n      <td>90.714286</td>\n      <td>110.333333</td>\n    </tr>\n    <tr>\n      <th>a9ac43fd-cf95-40d5-9c9a-3582b88993fe</th>\n      <td>51.377526</td>\n      <td>16.103090</td>\n      <td>77.400000</td>\n      <td>53.702703</td>\n    </tr>\n  </tbody>\n</table>\n</div>"
     },
     "execution_count": 13,
     "metadata": {},
     "output_type": "execute_result"
    }
   ],
   "source": [
    "battery_status = calc_battery_status(df=df)\n",
    "battery_status"
   ],
   "metadata": {
    "collapsed": false,
    "pycharm": {
     "name": "#%%\n"
    }
   }
  },
  {
   "cell_type": "markdown",
   "source": [
    "### Social media frequency\n",
    "Calculated in `depression.ipynb`"
   ],
   "metadata": {
    "collapsed": false,
    "pycharm": {
     "name": "#%% md\n"
    }
   }
  },
  {
   "cell_type": "markdown",
   "source": [
    "### Average daily time between consecutive sessions"
   ],
   "metadata": {
    "collapsed": false,
    "pycharm": {
     "name": "#%% md\n"
    }
   }
  },
  {
   "cell_type": "code",
   "execution_count": 14,
   "outputs": [],
   "source": [
    "def calc_time_consecutive_session(df_s: pd.DataFrame):\n",
    "    \"\"\"\n",
    "    Calculates the average time between two consecutive sessions (or pickups) per participant.\n",
    "    :param df_s: the sessions DataFrame\n",
    "    :return: Series with average duration per participant\n",
    "    \"\"\"\n",
    "\n",
    "    df_s = df_s.copy()\n",
    "    df_s = df_s.assign(start_shift=df_s.groupby([\"id\", \"startDate\"])[\"startTime\"].shift(-1))\n",
    "    df_s = df_s.assign(shift_duration=(df_s[\"start_shift\"] - df_s[\"endTime\"]).dt.total_seconds() / 60)\n",
    "\n",
    "    time_between = (df_s.groupby([\"id\", \"startDate\"])[\"shift_duration\"].mean().groupby(\"id\").mean()).rename(\"consecutive_session_time_min\")\n",
    "\n",
    "    return time_between"
   ],
   "metadata": {
    "collapsed": false,
    "pycharm": {
     "name": "#%%\n"
    }
   }
  },
  {
   "cell_type": "code",
   "execution_count": 15,
   "outputs": [
    {
     "data": {
      "text/plain": "id\n0f17152a-ec9e-4105-b58d-25b2ae692388     7.794656\na9ac43fd-cf95-40d5-9c9a-3582b88993fe    15.399400\nName: consecutive_session_time_min, dtype: float64"
     },
     "execution_count": 15,
     "metadata": {},
     "output_type": "execute_result"
    }
   ],
   "source": [
    "consecutive_session_time = calc_time_consecutive_session(df_s)\n",
    "consecutive_session_time"
   ],
   "metadata": {
    "collapsed": false,
    "pycharm": {
     "name": "#%%\n"
    }
   }
  },
  {
   "cell_type": "code",
   "execution_count": null,
   "outputs": [],
   "source": [],
   "metadata": {
    "collapsed": false,
    "pycharm": {
     "name": "#%%\n"
    }
   }
  }
 ],
 "metadata": {
  "kernelspec": {
   "display_name": "Python 3",
   "language": "python",
   "name": "python3"
  },
  "language_info": {
   "codemirror_mode": {
    "name": "ipython",
    "version": 2
   },
   "file_extension": ".py",
   "mimetype": "text/x-python",
   "name": "python",
   "nbconvert_exporter": "python",
   "pygments_lexer": "ipython2",
   "version": "2.7.6"
  }
 },
 "nbformat": 4,
 "nbformat_minor": 0
}